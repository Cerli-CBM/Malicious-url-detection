{
  "cells": [
    {
      "cell_type": "markdown",
      "metadata": {
        "id": "view-in-github",
        "colab_type": "text"
      },
      "source": [
        "<a href=\"https://colab.research.google.com/github/Cerli-CBM/Malicious-url-detection/blob/main/Malicious_urlbda.ipynb\" target=\"_parent\"><img src=\"https://colab.research.google.com/assets/colab-badge.svg\" alt=\"Open In Colab\"/></a>"
      ]
    },
    {
      "cell_type": "markdown",
      "source": [
        "**MALICIOUS URL DETECTION**"
      ],
      "metadata": {
        "id": "SFcBSmTkJRWD"
      }
    },
    {
      "cell_type": "markdown",
      "source": [
        "The goal of this project is to develop a malicious URL detection system that identifies\n",
        "potentially harmful URLs to users."
      ],
      "metadata": {
        "id": "83qI_L_aPM5F"
      }
    },
    {
      "cell_type": "code",
      "execution_count": null,
      "metadata": {
        "colab": {
          "base_uri": "https://localhost:8080/"
        },
        "id": "z-gfuWvsI0au",
        "outputId": "4a1db49d-037f-4c74-afe9-5dfe2030eb0a"
      },
      "outputs": [
        {
          "output_type": "stream",
          "name": "stdout",
          "text": [
            "Collecting pyspark\n",
            "  Downloading pyspark-3.5.1.tar.gz (317.0 MB)\n",
            "\u001b[2K     \u001b[90m━━━━━━━━━━━━━━━━━━━━━━━━━━━━━━━━━━━━━━━━\u001b[0m \u001b[32m317.0/317.0 MB\u001b[0m \u001b[31m2.7 MB/s\u001b[0m eta \u001b[36m0:00:00\u001b[0m\n",
            "\u001b[?25h  Preparing metadata (setup.py) ... \u001b[?25l\u001b[?25hdone\n",
            "Requirement already satisfied: py4j==0.10.9.7 in /usr/local/lib/python3.10/dist-packages (from pyspark) (0.10.9.7)\n",
            "Building wheels for collected packages: pyspark\n",
            "  Building wheel for pyspark (setup.py) ... \u001b[?25l\u001b[?25hdone\n",
            "  Created wheel for pyspark: filename=pyspark-3.5.1-py2.py3-none-any.whl size=317488491 sha256=2a68d0aa42bf056398434b8fd76621f2b6a5a3b7589d14397820ef0a97055cfd\n",
            "  Stored in directory: /root/.cache/pip/wheels/80/1d/60/2c256ed38dddce2fdd93be545214a63e02fbd8d74fb0b7f3a6\n",
            "Successfully built pyspark\n",
            "Installing collected packages: pyspark\n",
            "Successfully installed pyspark-3.5.1\n"
          ]
        }
      ],
      "source": [
        "!pip install pyspark"
      ]
    },
    {
      "cell_type": "code",
      "execution_count": null,
      "metadata": {
        "colab": {
          "base_uri": "https://localhost:8080/"
        },
        "id": "Xtspr-XSJ6g9",
        "outputId": "376ab65c-5bea-4b58-a18c-4067ca8e91d2"
      },
      "outputs": [
        {
          "output_type": "stream",
          "name": "stdout",
          "text": [
            "Collecting findspark\n",
            "  Downloading findspark-2.0.1-py2.py3-none-any.whl (4.4 kB)\n",
            "Installing collected packages: findspark\n",
            "Successfully installed findspark-2.0.1\n"
          ]
        }
      ],
      "source": [
        "pip install findspark"
      ]
    },
    {
      "cell_type": "code",
      "execution_count": null,
      "metadata": {
        "colab": {
          "base_uri": "https://localhost:8080/",
          "height": 219
        },
        "id": "jBMVvZhzJ6kE",
        "outputId": "875cb862-e16a-4ba5-e7c8-0769a739a0dd"
      },
      "outputs": [
        {
          "output_type": "execute_result",
          "data": {
            "text/plain": [
              "<pyspark.sql.session.SparkSession at 0x784716922f50>"
            ],
            "text/html": [
              "\n",
              "            <div>\n",
              "                <p><b>SparkSession - in-memory</b></p>\n",
              "                \n",
              "        <div>\n",
              "            <p><b>SparkContext</b></p>\n",
              "\n",
              "            <p><a href=\"http://44e07f9eb556:4040\">Spark UI</a></p>\n",
              "\n",
              "            <dl>\n",
              "              <dt>Version</dt>\n",
              "                <dd><code>v3.5.1</code></dd>\n",
              "              <dt>Master</dt>\n",
              "                <dd><code>local[*]</code></dd>\n",
              "              <dt>AppName</dt>\n",
              "                <dd><code>pyspark-shell</code></dd>\n",
              "            </dl>\n",
              "        </div>\n",
              "        \n",
              "            </div>\n",
              "        "
            ]
          },
          "metadata": {},
          "execution_count": 3
        }
      ],
      "source": [
        "import findspark\n",
        "findspark.init()\n",
        "from pyspark.sql import SparkSession\n",
        "spark = SparkSession.builder.master(\"local[*]\").getOrCreate()\n",
        "spark.conf.set(\"spark.sql.repl.eagerEval.enabled\", True) # Property used to format output tables better\n",
        "spark"
      ]
    },
    {
      "cell_type": "code",
      "execution_count": null,
      "metadata": {
        "id": "qN3BHK5qJ6m8"
      },
      "outputs": [],
      "source": [
        "#importing datasets\n",
        "md =spark.read.csv(\"/content/drive/MyDrive/malicious_url.csv\",header=True,inferSchema=True)"
      ]
    },
    {
      "cell_type": "code",
      "execution_count": null,
      "metadata": {
        "colab": {
          "base_uri": "https://localhost:8080/"
        },
        "id": "JjYtR3tHJ6p0",
        "outputId": "63129235-9158-45b4-ec40-1d99d8c98325"
      },
      "outputs": [
        {
          "output_type": "stream",
          "name": "stdout",
          "text": [
            "+---------------------------------+-----+-----------------------+-------------+--------------+--------------+-------------+----------+-------------+-------+------------------+------------------+------------------+------------------+------------------+------------------+------------------+------------------+-------------+---------------+--------------+--------------+----------------+-------------+----------------+--------------+-------------------+--------------------+--------------+---------------+-------------+----------------+---------------+-----------------------------------+-------------------------+-----------------------+--------+--------------------+----------------------+---------------+-------------------+----------------------------+----------------+----------------+-------------------+----------------------+-----------------+---------+----------------------+-----------+--------------------+--------------------+--------------------------+-------------------+-------+------+----------+--------------------+-------------+-------------------+\n",
            "|url                              |label|source                 |url_has_login|url_has_client|url_has_server|url_has_admin|url_has_ip|url_isshorted|url_len|url_entropy       |url_hamming_1     |url_hamming_00    |url_hamming_10    |url_hamming_01    |url_hamming_11    |url_2bentropy     |url_3bentropy     |url_count_dot|url_count_https|url_count_http|url_count_perc|url_count_hyphen|url_count_www|url_count_atrate|url_count_hash|url_count_semicolon|url_count_underscore|url_count_ques|url_count_equal|url_count_amp|url_count_letter|url_count_digit|url_count_sensitive_financial_words|url_count_sensitive_words|url_nunique_chars_ratio|path_len|path_count_no_of_dir|path_count_no_of_embed|path_count_zero|path_count_pertwent|path_has_any_sensitive_words|path_count_lower|path_count_upper|path_count_nonascii|path_has_singlechardir|path_has_upperdir|query_len|query_count_components|pdomain_len|pdomain_count_hyphen|pdomain_count_atrate|pdomain_count_non_alphanum|pdomain_count_digit|tld_len|tld   |tld_is_sus|pdomain_min_distance|subdomain_len|subdomain_count_dot|\n",
            "+---------------------------------+-----+-----------------------+-------------+--------------+--------------+-------------+----------+-------------+-------+------------------+------------------+------------------+------------------+------------------+------------------+------------------+------------------+-------------+---------------+--------------+--------------+----------------+-------------+----------------+--------------+-------------------+--------------------+--------------+---------------+-------------+----------------+---------------+-----------------------------------+-------------------------+-----------------------+--------+--------------------+----------------------+---------------+-------------------+----------------------------+----------------+----------------+-------------------+----------------------+-----------------+---------+----------------------+-----------+--------------------+--------------------+--------------------------+-------------------+-------+------+----------+--------------------+-------------+-------------------+\n",
            "|spa-security.de                  |0    |dmoz_harvard           |0            |0             |0             |0            |0         |0            |15     |3.640223928941852 |0.5083333333333333|0.1416666666666666|0.2               |0.2833333333333333|0.1583333333333333|1.8003115692558134|2.3993425283550898|1            |0              |0             |0             |1               |0            |0               |0             |0                  |0                   |0             |0              |0            |13              |0              |0                                  |0                        |0.8666666666666667     |0       |0                   |0                     |0              |0                  |0                           |13              |0               |0                  |0                     |0                |0        |0                     |0          |0                   |0                   |0                         |0                  |2      |de    |0         |7                   |0            |0                  |\n",
            "|mallander.de                     |0    |majestic_million       |0            |0             |0             |0            |0         |0            |12     |2.9182958340544887|0.4791666666666667|0.1458333333333333|0.2291666666666666|0.28125           |0.1666666666666666|1.837704275830528 |2.3398850493643777|1            |0              |0             |0             |0               |0            |0               |0             |0                  |0                   |0             |0              |0            |11              |0              |0                                  |0                        |0.6666666666666666     |0       |0                   |0                     |0              |0                  |0                           |11              |0               |0                  |0                     |0                |0        |0                     |0          |0                   |0                   |0                         |0                  |2      |de    |0         |3                   |0            |0                  |\n",
            "|zzndb.com.cn                     |0    |alexatop1m             |0            |0             |0             |0            |0         |0            |12     |2.9182958340544887|0.5520833333333334|0.0729166666666666|0.21875           |0.2604166666666667|0.21875           |1.740229209352982 |2.3451616264274184|2            |0              |0             |0             |0               |0            |0               |0             |0                  |0                   |0             |0              |0            |10              |0              |0                                  |0                        |0.6666666666666666     |0       |0                   |0                     |0              |0                  |0                           |10              |0               |0                  |0                     |0                |0        |0                     |0          |0                   |0                   |0                         |0                  |6      |com.cn|0         |3                   |0            |0                  |\n",
            "|enviroseal.com/                  |0    |data_clean_train_mendel|0            |0             |0             |0            |0         |0            |15     |3.640223928941851 |0.5666666666666667|0.0916666666666666|0.2               |0.2833333333333333|0.2166666666666666|1.773971579052594 |2.3152780515091504|1            |0              |0             |0             |0               |0            |0               |0             |0                  |0                   |0             |0              |0            |13              |0              |0                                  |0                        |0.8666666666666667     |0       |1                   |0                     |0              |0                  |0                           |13              |0               |0                  |0                     |0                |0        |0                     |0          |0                   |0                   |0                         |0                  |3      |com   |0         |6                   |0            |0                  |\n",
            "|hunt1ngtonbank.3utilities.com    |1    |ALL-phishing-domains   |0            |0             |0             |0            |0         |0            |29     |3.9353986674667634|0.5431034482758621|0.0948275862068965|0.2155172413793103|0.2844827586206897|0.1896551724137931|1.77028979705501  |2.3611785267172025|2            |0              |0             |0             |0               |0            |0               |0             |0                  |0                   |0             |0              |0            |25              |2              |1                                  |0                        |0.6206896551724138     |0       |0                   |0                     |0              |0                  |0                           |25              |0               |0                  |0                     |0                |0        |0                     |0          |0                   |0                   |0                         |0                  |3      |com   |0         |6                   |14           |0                  |\n",
            "|augenblickstudios.com            |0    |domcop                 |0            |0             |0             |0            |0         |0            |21     |3.916126946588284 |0.5535714285714286|0.0952380952380952|0.2023809523809524|0.2916666666666667|0.2023809523809524|1.7744640575173023|2.3391365535245803|1            |0              |0             |0             |0               |0            |0               |0             |0                  |0                   |0             |0              |0            |20              |0              |0                                  |0                        |0.7619047619047619     |0       |0                   |0                     |0              |0                  |0                           |20              |0               |0                  |0                     |0                |0        |0                     |0          |0                   |0                   |0                         |0                  |3      |com   |0         |11                  |0            |0                  |\n",
            "|semidiceviprima.ilcannocchiale.it|0    |dmoz_harvard           |0            |0             |0             |0            |0         |0            |33     |3.67587110545754  |0.5075757575757576|0.1212121212121212|0.2121212121212121|0.2916666666666667|0.178030303030303 |1.8052705985091289|2.3844714280348995|2            |0              |0             |0             |0               |0            |0               |0             |0                  |0                   |0             |0              |0            |31              |0              |0                                  |0                        |0.4848484848484849     |0       |0                   |0                     |0              |0                  |0                           |31              |0               |0                  |0                     |0                |0        |0                     |0          |0                   |0                   |0                         |0                  |2      |it    |0         |9                   |15           |0                  |\n",
            "|nrgeology.blogspot.com.au        |0    |domcop                 |0            |0             |0             |0            |0         |1            |25     |3.7190795706241735|0.575             |0.095             |0.185             |0.26              |0.225             |1.7624667253683075|2.291521260466533 |3            |0              |0             |0             |0               |0            |0               |0             |0                  |0                   |0             |0              |0            |22              |0              |0                                  |0                        |0.64                   |0       |0                   |0                     |0              |0                  |0                           |22              |0               |0                  |0                     |0                |0        |0                     |0          |0                   |0                   |0                         |0                  |6      |com.au|0         |0                   |9            |0                  |\n",
            "|eng.uwo.ca/research/fluidization/|0    |data_clean_train_mendel|0            |0             |0             |0            |0         |0            |33     |4.104407755459852 |0.5416666666666666|0.1098484848484848|0.2007575757575757|0.2803030303030303|0.1893939393939394|1.7840590798939917|2.370182935166288 |2            |0              |0             |0             |0               |0            |0               |0             |0                  |0                   |0             |0              |0            |28              |0              |0                                  |0                        |0.5757575757575758     |8       |3                   |0                     |0              |0                  |0                           |28              |0               |0                  |0                     |0                |0        |0                     |0          |0                   |0                   |0                         |0                  |2      |ca    |0         |2                   |3            |0                  |\n",
            "|geocities.com/crinoo/            |0    |data_clean_train_mendel|0            |0             |0             |0            |0         |0            |21     |3.3680424225727155|0.5833333333333334|0.0892857142857142|0.1845238095238095|0.2857142857142857|0.2261904761904762|1.7625179149119268|2.342399925463964 |1            |0              |0             |0             |0               |0            |0               |0             |0                  |0                   |0             |0              |0            |18              |0              |0                                  |0                        |0.5714285714285714     |6       |2                   |0                     |0              |0                  |0                           |18              |0               |0                  |0                     |0                |0        |0                     |0          |0                   |0                   |0                         |0                  |3      |com   |0         |5                   |0            |0                  |\n",
            "+---------------------------------+-----+-----------------------+-------------+--------------+--------------+-------------+----------+-------------+-------+------------------+------------------+------------------+------------------+------------------+------------------+------------------+------------------+-------------+---------------+--------------+--------------+----------------+-------------+----------------+--------------+-------------------+--------------------+--------------+---------------+-------------+----------------+---------------+-----------------------------------+-------------------------+-----------------------+--------+--------------------+----------------------+---------------+-------------------+----------------------------+----------------+----------------+-------------------+----------------------+-----------------+---------+----------------------+-----------+--------------------+--------------------+--------------------------+-------------------+-------+------+----------+--------------------+-------------+-------------------+\n",
            "only showing top 10 rows\n",
            "\n"
          ]
        }
      ],
      "source": [
        "md.show(10,False)"
      ]
    },
    {
      "cell_type": "markdown",
      "source": [
        "**ACTIONS**"
      ],
      "metadata": {
        "id": "kUcnSOlP6xGG"
      }
    },
    {
      "cell_type": "code",
      "execution_count": null,
      "metadata": {
        "colab": {
          "base_uri": "https://localhost:8080/"
        },
        "id": "FyXCXnb2J6sc",
        "outputId": "4f314447-a9f3-43db-92e6-b8ec0cb3fd78"
      },
      "outputs": [
        {
          "output_type": "execute_result",
          "data": {
            "text/plain": [
              "1682213"
            ]
          },
          "metadata": {},
          "execution_count": 6
        }
      ],
      "source": [
        "#count the number of rows\n",
        "md.count()"
      ]
    },
    {
      "cell_type": "code",
      "execution_count": null,
      "metadata": {
        "colab": {
          "base_uri": "https://localhost:8080/"
        },
        "id": "NQ2pTC_0J6u0",
        "outputId": "0a8860f6-9e2f-471d-a7d9-b1b2c90fb0ea"
      },
      "outputs": [
        {
          "output_type": "execute_result",
          "data": {
            "text/plain": [
              "[Row(url='spa-security.de', label=0, source='dmoz_harvard', url_has_login=0, url_has_client=0, url_has_server=0, url_has_admin=0, url_has_ip=0, url_isshorted=0, url_len=15, url_entropy=3.640223928941852, url_hamming_1=0.5083333333333333, url_hamming_00=0.1416666666666666, url_hamming_10=0.2, url_hamming_01=0.2833333333333333, url_hamming_11=0.1583333333333333, url_2bentropy=1.8003115692558134, url_3bentropy=2.3993425283550898, url_count_dot=1, url_count_https=0, url_count_http=0, url_count_perc=0, url_count_hyphen=1, url_count_www=0, url_count_atrate=0, url_count_hash=0, url_count_semicolon=0, url_count_underscore=0, url_count_ques=0, url_count_equal=0, url_count_amp=0, url_count_letter=13, url_count_digit=0, url_count_sensitive_financial_words=0, url_count_sensitive_words=0, url_nunique_chars_ratio=0.8666666666666667, path_len=0, path_count_no_of_dir=0, path_count_no_of_embed=0, path_count_zero=0, path_count_pertwent=0, path_has_any_sensitive_words=0, path_count_lower=13, path_count_upper=0, path_count_nonascii=0, path_has_singlechardir=0, path_has_upperdir=0, query_len=0, query_count_components=0, pdomain_len=0, pdomain_count_hyphen=0, pdomain_count_atrate=0, pdomain_count_non_alphanum=0, pdomain_count_digit=0, tld_len=2, tld='de', tld_is_sus=0, pdomain_min_distance=7, subdomain_len=0, subdomain_count_dot=0),\n",
              " Row(url='mallander.de', label=0, source='majestic_million', url_has_login=0, url_has_client=0, url_has_server=0, url_has_admin=0, url_has_ip=0, url_isshorted=0, url_len=12, url_entropy=2.9182958340544887, url_hamming_1=0.4791666666666667, url_hamming_00=0.1458333333333333, url_hamming_10=0.2291666666666666, url_hamming_01=0.28125, url_hamming_11=0.1666666666666666, url_2bentropy=1.837704275830528, url_3bentropy=2.3398850493643777, url_count_dot=1, url_count_https=0, url_count_http=0, url_count_perc=0, url_count_hyphen=0, url_count_www=0, url_count_atrate=0, url_count_hash=0, url_count_semicolon=0, url_count_underscore=0, url_count_ques=0, url_count_equal=0, url_count_amp=0, url_count_letter=11, url_count_digit=0, url_count_sensitive_financial_words=0, url_count_sensitive_words=0, url_nunique_chars_ratio=0.6666666666666666, path_len=0, path_count_no_of_dir=0, path_count_no_of_embed=0, path_count_zero=0, path_count_pertwent=0, path_has_any_sensitive_words=0, path_count_lower=11, path_count_upper=0, path_count_nonascii=0, path_has_singlechardir=0, path_has_upperdir=0, query_len=0, query_count_components=0, pdomain_len=0, pdomain_count_hyphen=0, pdomain_count_atrate=0, pdomain_count_non_alphanum=0, pdomain_count_digit=0, tld_len=2, tld='de', tld_is_sus=0, pdomain_min_distance=3, subdomain_len=0, subdomain_count_dot=0),\n",
              " Row(url='zzndb.com.cn', label=0, source='alexatop1m', url_has_login=0, url_has_client=0, url_has_server=0, url_has_admin=0, url_has_ip=0, url_isshorted=0, url_len=12, url_entropy=2.9182958340544887, url_hamming_1=0.5520833333333334, url_hamming_00=0.0729166666666666, url_hamming_10=0.21875, url_hamming_01=0.2604166666666667, url_hamming_11=0.21875, url_2bentropy=1.740229209352982, url_3bentropy=2.3451616264274184, url_count_dot=2, url_count_https=0, url_count_http=0, url_count_perc=0, url_count_hyphen=0, url_count_www=0, url_count_atrate=0, url_count_hash=0, url_count_semicolon=0, url_count_underscore=0, url_count_ques=0, url_count_equal=0, url_count_amp=0, url_count_letter=10, url_count_digit=0, url_count_sensitive_financial_words=0, url_count_sensitive_words=0, url_nunique_chars_ratio=0.6666666666666666, path_len=0, path_count_no_of_dir=0, path_count_no_of_embed=0, path_count_zero=0, path_count_pertwent=0, path_has_any_sensitive_words=0, path_count_lower=10, path_count_upper=0, path_count_nonascii=0, path_has_singlechardir=0, path_has_upperdir=0, query_len=0, query_count_components=0, pdomain_len=0, pdomain_count_hyphen=0, pdomain_count_atrate=0, pdomain_count_non_alphanum=0, pdomain_count_digit=0, tld_len=6, tld='com.cn', tld_is_sus=0, pdomain_min_distance=3, subdomain_len=0, subdomain_count_dot=0)]"
            ]
          },
          "metadata": {},
          "execution_count": 7
        }
      ],
      "source": [
        "#take -retrieve the first n elements\n",
        "md.take(3)"
      ]
    },
    {
      "cell_type": "code",
      "execution_count": null,
      "metadata": {
        "colab": {
          "base_uri": "https://localhost:8080/"
        },
        "id": "I9K_2HGgMZMr",
        "outputId": "8c720343-c532-4656-d5c8-68d2a93edfab"
      },
      "outputs": [
        {
          "output_type": "execute_result",
          "data": {
            "text/plain": [
              "Row(url='spa-security.de', label=0, source='dmoz_harvard', url_has_login=0, url_has_client=0, url_has_server=0, url_has_admin=0, url_has_ip=0, url_isshorted=0, url_len=15, url_entropy=3.640223928941852, url_hamming_1=0.5083333333333333, url_hamming_00=0.1416666666666666, url_hamming_10=0.2, url_hamming_01=0.2833333333333333, url_hamming_11=0.1583333333333333, url_2bentropy=1.8003115692558134, url_3bentropy=2.3993425283550898, url_count_dot=1, url_count_https=0, url_count_http=0, url_count_perc=0, url_count_hyphen=1, url_count_www=0, url_count_atrate=0, url_count_hash=0, url_count_semicolon=0, url_count_underscore=0, url_count_ques=0, url_count_equal=0, url_count_amp=0, url_count_letter=13, url_count_digit=0, url_count_sensitive_financial_words=0, url_count_sensitive_words=0, url_nunique_chars_ratio=0.8666666666666667, path_len=0, path_count_no_of_dir=0, path_count_no_of_embed=0, path_count_zero=0, path_count_pertwent=0, path_has_any_sensitive_words=0, path_count_lower=13, path_count_upper=0, path_count_nonascii=0, path_has_singlechardir=0, path_has_upperdir=0, query_len=0, query_count_components=0, pdomain_len=0, pdomain_count_hyphen=0, pdomain_count_atrate=0, pdomain_count_non_alphanum=0, pdomain_count_digit=0, tld_len=2, tld='de', tld_is_sus=0, pdomain_min_distance=7, subdomain_len=0, subdomain_count_dot=0)"
            ]
          },
          "metadata": {},
          "execution_count": 8
        }
      ],
      "source": [
        "#first- retrieve the first row in the dataset\n",
        "md.first()"
      ]
    },
    {
      "cell_type": "code",
      "execution_count": null,
      "metadata": {
        "colab": {
          "base_uri": "https://localhost:8080/",
          "height": 315
        },
        "id": "LPPPynuxMZPC",
        "outputId": "984c2609-ddd9-435b-d6c9-72001ad7f6c9"
      },
      "outputs": [
        {
          "output_type": "execute_result",
          "data": {
            "text/plain": [
              "+--------------------+-----+--------------------+-------------+--------------+--------------+-------------+----------+-------------+-------+------------------+------------------+------------------+------------------+------------------+------------------+------------------+------------------+-------------+---------------+--------------+--------------+----------------+-------------+----------------+--------------+-------------------+--------------------+--------------+---------------+-------------+----------------+---------------+-----------------------------------+-------------------------+-----------------------+--------+--------------------+----------------------+---------------+-------------------+----------------------------+----------------+----------------+-------------------+----------------------+-----------------+---------+----------------------+-----------+--------------------+--------------------+--------------------------+-------------------+-------+------+----------+--------------------+-------------+-------------------+\n",
              "|                 url|label|              source|url_has_login|url_has_client|url_has_server|url_has_admin|url_has_ip|url_isshorted|url_len|       url_entropy|     url_hamming_1|    url_hamming_00|    url_hamming_10|    url_hamming_01|    url_hamming_11|     url_2bentropy|     url_3bentropy|url_count_dot|url_count_https|url_count_http|url_count_perc|url_count_hyphen|url_count_www|url_count_atrate|url_count_hash|url_count_semicolon|url_count_underscore|url_count_ques|url_count_equal|url_count_amp|url_count_letter|url_count_digit|url_count_sensitive_financial_words|url_count_sensitive_words|url_nunique_chars_ratio|path_len|path_count_no_of_dir|path_count_no_of_embed|path_count_zero|path_count_pertwent|path_has_any_sensitive_words|path_count_lower|path_count_upper|path_count_nonascii|path_has_singlechardir|path_has_upperdir|query_len|query_count_components|pdomain_len|pdomain_count_hyphen|pdomain_count_atrate|pdomain_count_non_alphanum|pdomain_count_digit|tld_len|   tld|tld_is_sus|pdomain_min_distance|subdomain_len|subdomain_count_dot|\n",
              "+--------------------+-----+--------------------+-------------+--------------+--------------+-------------+----------+-------------+-------+------------------+------------------+------------------+------------------+------------------+------------------+------------------+------------------+-------------+---------------+--------------+--------------+----------------+-------------+----------------+--------------+-------------------+--------------------+--------------+---------------+-------------+----------------+---------------+-----------------------------------+-------------------------+-----------------------+--------+--------------------+----------------------+---------------+-------------------+----------------------------+----------------+----------------+-------------------+----------------------+-----------------+---------+----------------------+-----------+--------------------+--------------------+--------------------------+-------------------+-------+------+----------+--------------------+-------------+-------------------+\n",
              "|     spa-security.de|    0|        dmoz_harvard|            0|             0|             0|            0|         0|            0|     15| 3.640223928941852|0.5083333333333333|0.1416666666666666|               0.2|0.2833333333333333|0.1583333333333333|1.8003115692558134|2.3993425283550898|            1|              0|             0|             0|               1|            0|               0|             0|                  0|                   0|             0|              0|            0|              13|              0|                                  0|                        0|     0.8666666666666667|       0|                   0|                     0|              0|                  0|                           0|              13|               0|                  0|                     0|                0|        0|                     0|          0|                   0|                   0|                         0|                  0|      2|    de|         0|                   7|            0|                  0|\n",
              "|        mallander.de|    0|    majestic_million|            0|             0|             0|            0|         0|            0|     12|2.9182958340544887|0.4791666666666667|0.1458333333333333|0.2291666666666666|           0.28125|0.1666666666666666| 1.837704275830528|2.3398850493643777|            1|              0|             0|             0|               0|            0|               0|             0|                  0|                   0|             0|              0|            0|              11|              0|                                  0|                        0|     0.6666666666666666|       0|                   0|                     0|              0|                  0|                           0|              11|               0|                  0|                     0|                0|        0|                     0|          0|                   0|                   0|                         0|                  0|      2|    de|         0|                   3|            0|                  0|\n",
              "|        zzndb.com.cn|    0|          alexatop1m|            0|             0|             0|            0|         0|            0|     12|2.9182958340544887|0.5520833333333334|0.0729166666666666|           0.21875|0.2604166666666667|           0.21875| 1.740229209352982|2.3451616264274184|            2|              0|             0|             0|               0|            0|               0|             0|                  0|                   0|             0|              0|            0|              10|              0|                                  0|                        0|     0.6666666666666666|       0|                   0|                     0|              0|                  0|                           0|              10|               0|                  0|                     0|                0|        0|                     0|          0|                   0|                   0|                         0|                  0|      6|com.cn|         0|                   3|            0|                  0|\n",
              "|     enviroseal.com/|    0|data_clean_train_...|            0|             0|             0|            0|         0|            0|     15| 3.640223928941851|0.5666666666666667|0.0916666666666666|               0.2|0.2833333333333333|0.2166666666666666| 1.773971579052594|2.3152780515091504|            1|              0|             0|             0|               0|            0|               0|             0|                  0|                   0|             0|              0|            0|              13|              0|                                  0|                        0|     0.8666666666666667|       0|                   1|                     0|              0|                  0|                           0|              13|               0|                  0|                     0|                0|        0|                     0|          0|                   0|                   0|                         0|                  0|      3|   com|         0|                   6|            0|                  0|\n",
              "|hunt1ngtonbank.3u...|    1|ALL-phishing-domains|            0|             0|             0|            0|         0|            0|     29|3.9353986674667634|0.5431034482758621|0.0948275862068965|0.2155172413793103|0.2844827586206897|0.1896551724137931|  1.77028979705501|2.3611785267172025|            2|              0|             0|             0|               0|            0|               0|             0|                  0|                   0|             0|              0|            0|              25|              2|                                  1|                        0|     0.6206896551724138|       0|                   0|                     0|              0|                  0|                           0|              25|               0|                  0|                     0|                0|        0|                     0|          0|                   0|                   0|                         0|                  0|      3|   com|         0|                   6|           14|                  0|\n",
              "|augenblickstudios...|    0|              domcop|            0|             0|             0|            0|         0|            0|     21| 3.916126946588284|0.5535714285714286|0.0952380952380952|0.2023809523809524|0.2916666666666667|0.2023809523809524|1.7744640575173023|2.3391365535245803|            1|              0|             0|             0|               0|            0|               0|             0|                  0|                   0|             0|              0|            0|              20|              0|                                  0|                        0|     0.7619047619047619|       0|                   0|                     0|              0|                  0|                           0|              20|               0|                  0|                     0|                0|        0|                     0|          0|                   0|                   0|                         0|                  0|      3|   com|         0|                  11|            0|                  0|\n",
              "|semidiceviprima.i...|    0|        dmoz_harvard|            0|             0|             0|            0|         0|            0|     33|  3.67587110545754|0.5075757575757576|0.1212121212121212|0.2121212121212121|0.2916666666666667| 0.178030303030303|1.8052705985091289|2.3844714280348995|            2|              0|             0|             0|               0|            0|               0|             0|                  0|                   0|             0|              0|            0|              31|              0|                                  0|                        0|     0.4848484848484849|       0|                   0|                     0|              0|                  0|                           0|              31|               0|                  0|                     0|                0|        0|                     0|          0|                   0|                   0|                         0|                  0|      2|    it|         0|                   9|           15|                  0|\n",
              "|nrgeology.blogspo...|    0|              domcop|            0|             0|             0|            0|         0|            1|     25|3.7190795706241735|             0.575|             0.095|             0.185|              0.26|             0.225|1.7624667253683075| 2.291521260466533|            3|              0|             0|             0|               0|            0|               0|             0|                  0|                   0|             0|              0|            0|              22|              0|                                  0|                        0|                   0.64|       0|                   0|                     0|              0|                  0|                           0|              22|               0|                  0|                     0|                0|        0|                     0|          0|                   0|                   0|                         0|                  0|      6|com.au|         0|                   0|            9|                  0|\n",
              "|eng.uwo.ca/resear...|    0|data_clean_train_...|            0|             0|             0|            0|         0|            0|     33| 4.104407755459852|0.5416666666666666|0.1098484848484848|0.2007575757575757|0.2803030303030303|0.1893939393939394|1.7840590798939917| 2.370182935166288|            2|              0|             0|             0|               0|            0|               0|             0|                  0|                   0|             0|              0|            0|              28|              0|                                  0|                        0|     0.5757575757575758|       8|                   3|                     0|              0|                  0|                           0|              28|               0|                  0|                     0|                0|        0|                     0|          0|                   0|                   0|                         0|                  0|      2|    ca|         0|                   2|            3|                  0|\n",
              "|geocities.com/cri...|    0|data_clean_train_...|            0|             0|             0|            0|         0|            0|     21|3.3680424225727155|0.5833333333333334|0.0892857142857142|0.1845238095238095|0.2857142857142857|0.2261904761904762|1.7625179149119268| 2.342399925463964|            1|              0|             0|             0|               0|            0|               0|             0|                  0|                   0|             0|              0|            0|              18|              0|                                  0|                        0|     0.5714285714285714|       6|                   2|                     0|              0|                  0|                           0|              18|               0|                  0|                     0|                0|        0|                     0|          0|                   0|                   0|                         0|                  0|      3|   com|         0|                   5|            0|                  0|\n",
              "+--------------------+-----+--------------------+-------------+--------------+--------------+-------------+----------+-------------+-------+------------------+------------------+------------------+------------------+------------------+------------------+------------------+------------------+-------------+---------------+--------------+--------------+----------------+-------------+----------------+--------------+-------------------+--------------------+--------------+---------------+-------------+----------------+---------------+-----------------------------------+-------------------------+-----------------------+--------+--------------------+----------------------+---------------+-------------------+----------------------------+----------------+----------------+-------------------+----------------------+-----------------+---------+----------------------+-----------+--------------------+--------------------+--------------------------+-------------------+-------+------+----------+--------------------+-------------+-------------------+"
            ],
            "text/html": [
              "<table border='1'>\n",
              "<tr><th>url</th><th>label</th><th>source</th><th>url_has_login</th><th>url_has_client</th><th>url_has_server</th><th>url_has_admin</th><th>url_has_ip</th><th>url_isshorted</th><th>url_len</th><th>url_entropy</th><th>url_hamming_1</th><th>url_hamming_00</th><th>url_hamming_10</th><th>url_hamming_01</th><th>url_hamming_11</th><th>url_2bentropy</th><th>url_3bentropy</th><th>url_count_dot</th><th>url_count_https</th><th>url_count_http</th><th>url_count_perc</th><th>url_count_hyphen</th><th>url_count_www</th><th>url_count_atrate</th><th>url_count_hash</th><th>url_count_semicolon</th><th>url_count_underscore</th><th>url_count_ques</th><th>url_count_equal</th><th>url_count_amp</th><th>url_count_letter</th><th>url_count_digit</th><th>url_count_sensitive_financial_words</th><th>url_count_sensitive_words</th><th>url_nunique_chars_ratio</th><th>path_len</th><th>path_count_no_of_dir</th><th>path_count_no_of_embed</th><th>path_count_zero</th><th>path_count_pertwent</th><th>path_has_any_sensitive_words</th><th>path_count_lower</th><th>path_count_upper</th><th>path_count_nonascii</th><th>path_has_singlechardir</th><th>path_has_upperdir</th><th>query_len</th><th>query_count_components</th><th>pdomain_len</th><th>pdomain_count_hyphen</th><th>pdomain_count_atrate</th><th>pdomain_count_non_alphanum</th><th>pdomain_count_digit</th><th>tld_len</th><th>tld</th><th>tld_is_sus</th><th>pdomain_min_distance</th><th>subdomain_len</th><th>subdomain_count_dot</th></tr>\n",
              "<tr><td>spa-security.de</td><td>0</td><td>dmoz_harvard</td><td>0</td><td>0</td><td>0</td><td>0</td><td>0</td><td>0</td><td>15</td><td>3.640223928941852</td><td>0.5083333333333333</td><td>0.1416666666666666</td><td>0.2</td><td>0.2833333333333333</td><td>0.1583333333333333</td><td>1.8003115692558134</td><td>2.3993425283550898</td><td>1</td><td>0</td><td>0</td><td>0</td><td>1</td><td>0</td><td>0</td><td>0</td><td>0</td><td>0</td><td>0</td><td>0</td><td>0</td><td>13</td><td>0</td><td>0</td><td>0</td><td>0.8666666666666667</td><td>0</td><td>0</td><td>0</td><td>0</td><td>0</td><td>0</td><td>13</td><td>0</td><td>0</td><td>0</td><td>0</td><td>0</td><td>0</td><td>0</td><td>0</td><td>0</td><td>0</td><td>0</td><td>2</td><td>de</td><td>0</td><td>7</td><td>0</td><td>0</td></tr>\n",
              "<tr><td>mallander.de</td><td>0</td><td>majestic_million</td><td>0</td><td>0</td><td>0</td><td>0</td><td>0</td><td>0</td><td>12</td><td>2.9182958340544887</td><td>0.4791666666666667</td><td>0.1458333333333333</td><td>0.2291666666666666</td><td>0.28125</td><td>0.1666666666666666</td><td>1.837704275830528</td><td>2.3398850493643777</td><td>1</td><td>0</td><td>0</td><td>0</td><td>0</td><td>0</td><td>0</td><td>0</td><td>0</td><td>0</td><td>0</td><td>0</td><td>0</td><td>11</td><td>0</td><td>0</td><td>0</td><td>0.6666666666666666</td><td>0</td><td>0</td><td>0</td><td>0</td><td>0</td><td>0</td><td>11</td><td>0</td><td>0</td><td>0</td><td>0</td><td>0</td><td>0</td><td>0</td><td>0</td><td>0</td><td>0</td><td>0</td><td>2</td><td>de</td><td>0</td><td>3</td><td>0</td><td>0</td></tr>\n",
              "<tr><td>zzndb.com.cn</td><td>0</td><td>alexatop1m</td><td>0</td><td>0</td><td>0</td><td>0</td><td>0</td><td>0</td><td>12</td><td>2.9182958340544887</td><td>0.5520833333333334</td><td>0.0729166666666666</td><td>0.21875</td><td>0.2604166666666667</td><td>0.21875</td><td>1.740229209352982</td><td>2.3451616264274184</td><td>2</td><td>0</td><td>0</td><td>0</td><td>0</td><td>0</td><td>0</td><td>0</td><td>0</td><td>0</td><td>0</td><td>0</td><td>0</td><td>10</td><td>0</td><td>0</td><td>0</td><td>0.6666666666666666</td><td>0</td><td>0</td><td>0</td><td>0</td><td>0</td><td>0</td><td>10</td><td>0</td><td>0</td><td>0</td><td>0</td><td>0</td><td>0</td><td>0</td><td>0</td><td>0</td><td>0</td><td>0</td><td>6</td><td>com.cn</td><td>0</td><td>3</td><td>0</td><td>0</td></tr>\n",
              "<tr><td>enviroseal.com/</td><td>0</td><td>data_clean_train_...</td><td>0</td><td>0</td><td>0</td><td>0</td><td>0</td><td>0</td><td>15</td><td>3.640223928941851</td><td>0.5666666666666667</td><td>0.0916666666666666</td><td>0.2</td><td>0.2833333333333333</td><td>0.2166666666666666</td><td>1.773971579052594</td><td>2.3152780515091504</td><td>1</td><td>0</td><td>0</td><td>0</td><td>0</td><td>0</td><td>0</td><td>0</td><td>0</td><td>0</td><td>0</td><td>0</td><td>0</td><td>13</td><td>0</td><td>0</td><td>0</td><td>0.8666666666666667</td><td>0</td><td>1</td><td>0</td><td>0</td><td>0</td><td>0</td><td>13</td><td>0</td><td>0</td><td>0</td><td>0</td><td>0</td><td>0</td><td>0</td><td>0</td><td>0</td><td>0</td><td>0</td><td>3</td><td>com</td><td>0</td><td>6</td><td>0</td><td>0</td></tr>\n",
              "<tr><td>hunt1ngtonbank.3u...</td><td>1</td><td>ALL-phishing-domains</td><td>0</td><td>0</td><td>0</td><td>0</td><td>0</td><td>0</td><td>29</td><td>3.9353986674667634</td><td>0.5431034482758621</td><td>0.0948275862068965</td><td>0.2155172413793103</td><td>0.2844827586206897</td><td>0.1896551724137931</td><td>1.77028979705501</td><td>2.3611785267172025</td><td>2</td><td>0</td><td>0</td><td>0</td><td>0</td><td>0</td><td>0</td><td>0</td><td>0</td><td>0</td><td>0</td><td>0</td><td>0</td><td>25</td><td>2</td><td>1</td><td>0</td><td>0.6206896551724138</td><td>0</td><td>0</td><td>0</td><td>0</td><td>0</td><td>0</td><td>25</td><td>0</td><td>0</td><td>0</td><td>0</td><td>0</td><td>0</td><td>0</td><td>0</td><td>0</td><td>0</td><td>0</td><td>3</td><td>com</td><td>0</td><td>6</td><td>14</td><td>0</td></tr>\n",
              "<tr><td>augenblickstudios...</td><td>0</td><td>domcop</td><td>0</td><td>0</td><td>0</td><td>0</td><td>0</td><td>0</td><td>21</td><td>3.916126946588284</td><td>0.5535714285714286</td><td>0.0952380952380952</td><td>0.2023809523809524</td><td>0.2916666666666667</td><td>0.2023809523809524</td><td>1.7744640575173023</td><td>2.3391365535245803</td><td>1</td><td>0</td><td>0</td><td>0</td><td>0</td><td>0</td><td>0</td><td>0</td><td>0</td><td>0</td><td>0</td><td>0</td><td>0</td><td>20</td><td>0</td><td>0</td><td>0</td><td>0.7619047619047619</td><td>0</td><td>0</td><td>0</td><td>0</td><td>0</td><td>0</td><td>20</td><td>0</td><td>0</td><td>0</td><td>0</td><td>0</td><td>0</td><td>0</td><td>0</td><td>0</td><td>0</td><td>0</td><td>3</td><td>com</td><td>0</td><td>11</td><td>0</td><td>0</td></tr>\n",
              "<tr><td>semidiceviprima.i...</td><td>0</td><td>dmoz_harvard</td><td>0</td><td>0</td><td>0</td><td>0</td><td>0</td><td>0</td><td>33</td><td>3.67587110545754</td><td>0.5075757575757576</td><td>0.1212121212121212</td><td>0.2121212121212121</td><td>0.2916666666666667</td><td>0.178030303030303</td><td>1.8052705985091289</td><td>2.3844714280348995</td><td>2</td><td>0</td><td>0</td><td>0</td><td>0</td><td>0</td><td>0</td><td>0</td><td>0</td><td>0</td><td>0</td><td>0</td><td>0</td><td>31</td><td>0</td><td>0</td><td>0</td><td>0.4848484848484849</td><td>0</td><td>0</td><td>0</td><td>0</td><td>0</td><td>0</td><td>31</td><td>0</td><td>0</td><td>0</td><td>0</td><td>0</td><td>0</td><td>0</td><td>0</td><td>0</td><td>0</td><td>0</td><td>2</td><td>it</td><td>0</td><td>9</td><td>15</td><td>0</td></tr>\n",
              "<tr><td>nrgeology.blogspo...</td><td>0</td><td>domcop</td><td>0</td><td>0</td><td>0</td><td>0</td><td>0</td><td>1</td><td>25</td><td>3.7190795706241735</td><td>0.575</td><td>0.095</td><td>0.185</td><td>0.26</td><td>0.225</td><td>1.7624667253683075</td><td>2.291521260466533</td><td>3</td><td>0</td><td>0</td><td>0</td><td>0</td><td>0</td><td>0</td><td>0</td><td>0</td><td>0</td><td>0</td><td>0</td><td>0</td><td>22</td><td>0</td><td>0</td><td>0</td><td>0.64</td><td>0</td><td>0</td><td>0</td><td>0</td><td>0</td><td>0</td><td>22</td><td>0</td><td>0</td><td>0</td><td>0</td><td>0</td><td>0</td><td>0</td><td>0</td><td>0</td><td>0</td><td>0</td><td>6</td><td>com.au</td><td>0</td><td>0</td><td>9</td><td>0</td></tr>\n",
              "<tr><td>eng.uwo.ca/resear...</td><td>0</td><td>data_clean_train_...</td><td>0</td><td>0</td><td>0</td><td>0</td><td>0</td><td>0</td><td>33</td><td>4.104407755459852</td><td>0.5416666666666666</td><td>0.1098484848484848</td><td>0.2007575757575757</td><td>0.2803030303030303</td><td>0.1893939393939394</td><td>1.7840590798939917</td><td>2.370182935166288</td><td>2</td><td>0</td><td>0</td><td>0</td><td>0</td><td>0</td><td>0</td><td>0</td><td>0</td><td>0</td><td>0</td><td>0</td><td>0</td><td>28</td><td>0</td><td>0</td><td>0</td><td>0.5757575757575758</td><td>8</td><td>3</td><td>0</td><td>0</td><td>0</td><td>0</td><td>28</td><td>0</td><td>0</td><td>0</td><td>0</td><td>0</td><td>0</td><td>0</td><td>0</td><td>0</td><td>0</td><td>0</td><td>2</td><td>ca</td><td>0</td><td>2</td><td>3</td><td>0</td></tr>\n",
              "<tr><td>geocities.com/cri...</td><td>0</td><td>data_clean_train_...</td><td>0</td><td>0</td><td>0</td><td>0</td><td>0</td><td>0</td><td>21</td><td>3.3680424225727155</td><td>0.5833333333333334</td><td>0.0892857142857142</td><td>0.1845238095238095</td><td>0.2857142857142857</td><td>0.2261904761904762</td><td>1.7625179149119268</td><td>2.342399925463964</td><td>1</td><td>0</td><td>0</td><td>0</td><td>0</td><td>0</td><td>0</td><td>0</td><td>0</td><td>0</td><td>0</td><td>0</td><td>0</td><td>18</td><td>0</td><td>0</td><td>0</td><td>0.5714285714285714</td><td>6</td><td>2</td><td>0</td><td>0</td><td>0</td><td>0</td><td>18</td><td>0</td><td>0</td><td>0</td><td>0</td><td>0</td><td>0</td><td>0</td><td>0</td><td>0</td><td>0</td><td>0</td><td>3</td><td>com</td><td>0</td><td>5</td><td>0</td><td>0</td></tr>\n",
              "</table>\n"
            ]
          },
          "metadata": {},
          "execution_count": 9
        }
      ],
      "source": [
        "#limit - limit the number of rows\n",
        "md.limit(10)"
      ]
    },
    {
      "cell_type": "code",
      "execution_count": null,
      "metadata": {
        "colab": {
          "base_uri": "https://localhost:8080/"
        },
        "id": "Vt_f0Qq0MZRr",
        "outputId": "75870774-1b84-46cd-db5f-25d459243c0f"
      },
      "outputs": [
        {
          "output_type": "execute_result",
          "data": {
            "text/plain": [
              "['url',\n",
              " 'label',\n",
              " 'source',\n",
              " 'url_has_login',\n",
              " 'url_has_client',\n",
              " 'url_has_server',\n",
              " 'url_has_admin',\n",
              " 'url_has_ip',\n",
              " 'url_isshorted',\n",
              " 'url_len',\n",
              " 'url_entropy',\n",
              " 'url_hamming_1',\n",
              " 'url_hamming_00',\n",
              " 'url_hamming_10',\n",
              " 'url_hamming_01',\n",
              " 'url_hamming_11',\n",
              " 'url_2bentropy',\n",
              " 'url_3bentropy',\n",
              " 'url_count_dot',\n",
              " 'url_count_https',\n",
              " 'url_count_http',\n",
              " 'url_count_perc',\n",
              " 'url_count_hyphen',\n",
              " 'url_count_www',\n",
              " 'url_count_atrate',\n",
              " 'url_count_hash',\n",
              " 'url_count_semicolon',\n",
              " 'url_count_underscore',\n",
              " 'url_count_ques',\n",
              " 'url_count_equal',\n",
              " 'url_count_amp',\n",
              " 'url_count_letter',\n",
              " 'url_count_digit',\n",
              " 'url_count_sensitive_financial_words',\n",
              " 'url_count_sensitive_words',\n",
              " 'url_nunique_chars_ratio',\n",
              " 'path_len',\n",
              " 'path_count_no_of_dir',\n",
              " 'path_count_no_of_embed',\n",
              " 'path_count_zero',\n",
              " 'path_count_pertwent',\n",
              " 'path_has_any_sensitive_words',\n",
              " 'path_count_lower',\n",
              " 'path_count_upper',\n",
              " 'path_count_nonascii',\n",
              " 'path_has_singlechardir',\n",
              " 'path_has_upperdir',\n",
              " 'query_len',\n",
              " 'query_count_components',\n",
              " 'pdomain_len',\n",
              " 'pdomain_count_hyphen',\n",
              " 'pdomain_count_atrate',\n",
              " 'pdomain_count_non_alphanum',\n",
              " 'pdomain_count_digit',\n",
              " 'tld_len',\n",
              " 'tld',\n",
              " 'tld_is_sus',\n",
              " 'pdomain_min_distance',\n",
              " 'subdomain_len',\n",
              " 'subdomain_count_dot']"
            ]
          },
          "metadata": {},
          "execution_count": 10
        }
      ],
      "source": [
        "#retrieves the columns in the dataset\n",
        "md.columns"
      ]
    },
    {
      "cell_type": "code",
      "execution_count": null,
      "metadata": {
        "colab": {
          "base_uri": "https://localhost:8080/"
        },
        "id": "lBjWd7AvMZTp",
        "outputId": "0ce09912-2cb8-43da-9b57-c6ba548ce553"
      },
      "outputs": [
        {
          "output_type": "execute_result",
          "data": {
            "text/plain": [
              "[('url', 'string'),\n",
              " ('label', 'int'),\n",
              " ('source', 'string'),\n",
              " ('url_has_login', 'int'),\n",
              " ('url_has_client', 'int'),\n",
              " ('url_has_server', 'int'),\n",
              " ('url_has_admin', 'int'),\n",
              " ('url_has_ip', 'int'),\n",
              " ('url_isshorted', 'int'),\n",
              " ('url_len', 'int'),\n",
              " ('url_entropy', 'double'),\n",
              " ('url_hamming_1', 'double'),\n",
              " ('url_hamming_00', 'double'),\n",
              " ('url_hamming_10', 'double'),\n",
              " ('url_hamming_01', 'double'),\n",
              " ('url_hamming_11', 'double'),\n",
              " ('url_2bentropy', 'double'),\n",
              " ('url_3bentropy', 'double'),\n",
              " ('url_count_dot', 'int'),\n",
              " ('url_count_https', 'int'),\n",
              " ('url_count_http', 'int'),\n",
              " ('url_count_perc', 'int'),\n",
              " ('url_count_hyphen', 'int'),\n",
              " ('url_count_www', 'int'),\n",
              " ('url_count_atrate', 'int'),\n",
              " ('url_count_hash', 'int'),\n",
              " ('url_count_semicolon', 'int'),\n",
              " ('url_count_underscore', 'int'),\n",
              " ('url_count_ques', 'int'),\n",
              " ('url_count_equal', 'int'),\n",
              " ('url_count_amp', 'int'),\n",
              " ('url_count_letter', 'int'),\n",
              " ('url_count_digit', 'int'),\n",
              " ('url_count_sensitive_financial_words', 'int'),\n",
              " ('url_count_sensitive_words', 'int'),\n",
              " ('url_nunique_chars_ratio', 'double'),\n",
              " ('path_len', 'int'),\n",
              " ('path_count_no_of_dir', 'int'),\n",
              " ('path_count_no_of_embed', 'int'),\n",
              " ('path_count_zero', 'int'),\n",
              " ('path_count_pertwent', 'int'),\n",
              " ('path_has_any_sensitive_words', 'int'),\n",
              " ('path_count_lower', 'int'),\n",
              " ('path_count_upper', 'int'),\n",
              " ('path_count_nonascii', 'int'),\n",
              " ('path_has_singlechardir', 'int'),\n",
              " ('path_has_upperdir', 'int'),\n",
              " ('query_len', 'int'),\n",
              " ('query_count_components', 'int'),\n",
              " ('pdomain_len', 'int'),\n",
              " ('pdomain_count_hyphen', 'int'),\n",
              " ('pdomain_count_atrate', 'int'),\n",
              " ('pdomain_count_non_alphanum', 'int'),\n",
              " ('pdomain_count_digit', 'int'),\n",
              " ('tld_len', 'int'),\n",
              " ('tld', 'string'),\n",
              " ('tld_is_sus', 'int'),\n",
              " ('pdomain_min_distance', 'int'),\n",
              " ('subdomain_len', 'int'),\n",
              " ('subdomain_count_dot', 'int')]"
            ]
          },
          "metadata": {},
          "execution_count": 11
        }
      ],
      "source": [
        "#returns the datatypes of every features in the dataset\n",
        "md.dtypes"
      ]
    },
    {
      "cell_type": "code",
      "execution_count": null,
      "metadata": {
        "colab": {
          "base_uri": "https://localhost:8080/"
        },
        "id": "r7mHHd7kMoEb",
        "outputId": "d770f3a4-99e0-4817-d8f8-f3f26b22678a"
      },
      "outputs": [
        {
          "output_type": "stream",
          "name": "stdout",
          "text": [
            "root\n",
            " |-- url: string (nullable = true)\n",
            " |-- label: integer (nullable = true)\n",
            " |-- source: string (nullable = true)\n",
            " |-- url_has_login: integer (nullable = true)\n",
            " |-- url_has_client: integer (nullable = true)\n",
            " |-- url_has_server: integer (nullable = true)\n",
            " |-- url_has_admin: integer (nullable = true)\n",
            " |-- url_has_ip: integer (nullable = true)\n",
            " |-- url_isshorted: integer (nullable = true)\n",
            " |-- url_len: integer (nullable = true)\n",
            " |-- url_entropy: double (nullable = true)\n",
            " |-- url_hamming_1: double (nullable = true)\n",
            " |-- url_hamming_00: double (nullable = true)\n",
            " |-- url_hamming_10: double (nullable = true)\n",
            " |-- url_hamming_01: double (nullable = true)\n",
            " |-- url_hamming_11: double (nullable = true)\n",
            " |-- url_2bentropy: double (nullable = true)\n",
            " |-- url_3bentropy: double (nullable = true)\n",
            " |-- url_count_dot: integer (nullable = true)\n",
            " |-- url_count_https: integer (nullable = true)\n",
            " |-- url_count_http: integer (nullable = true)\n",
            " |-- url_count_perc: integer (nullable = true)\n",
            " |-- url_count_hyphen: integer (nullable = true)\n",
            " |-- url_count_www: integer (nullable = true)\n",
            " |-- url_count_atrate: integer (nullable = true)\n",
            " |-- url_count_hash: integer (nullable = true)\n",
            " |-- url_count_semicolon: integer (nullable = true)\n",
            " |-- url_count_underscore: integer (nullable = true)\n",
            " |-- url_count_ques: integer (nullable = true)\n",
            " |-- url_count_equal: integer (nullable = true)\n",
            " |-- url_count_amp: integer (nullable = true)\n",
            " |-- url_count_letter: integer (nullable = true)\n",
            " |-- url_count_digit: integer (nullable = true)\n",
            " |-- url_count_sensitive_financial_words: integer (nullable = true)\n",
            " |-- url_count_sensitive_words: integer (nullable = true)\n",
            " |-- url_nunique_chars_ratio: double (nullable = true)\n",
            " |-- path_len: integer (nullable = true)\n",
            " |-- path_count_no_of_dir: integer (nullable = true)\n",
            " |-- path_count_no_of_embed: integer (nullable = true)\n",
            " |-- path_count_zero: integer (nullable = true)\n",
            " |-- path_count_pertwent: integer (nullable = true)\n",
            " |-- path_has_any_sensitive_words: integer (nullable = true)\n",
            " |-- path_count_lower: integer (nullable = true)\n",
            " |-- path_count_upper: integer (nullable = true)\n",
            " |-- path_count_nonascii: integer (nullable = true)\n",
            " |-- path_has_singlechardir: integer (nullable = true)\n",
            " |-- path_has_upperdir: integer (nullable = true)\n",
            " |-- query_len: integer (nullable = true)\n",
            " |-- query_count_components: integer (nullable = true)\n",
            " |-- pdomain_len: integer (nullable = true)\n",
            " |-- pdomain_count_hyphen: integer (nullable = true)\n",
            " |-- pdomain_count_atrate: integer (nullable = true)\n",
            " |-- pdomain_count_non_alphanum: integer (nullable = true)\n",
            " |-- pdomain_count_digit: integer (nullable = true)\n",
            " |-- tld_len: integer (nullable = true)\n",
            " |-- tld: string (nullable = true)\n",
            " |-- tld_is_sus: integer (nullable = true)\n",
            " |-- pdomain_min_distance: integer (nullable = true)\n",
            " |-- subdomain_len: integer (nullable = true)\n",
            " |-- subdomain_count_dot: integer (nullable = true)\n",
            "\n"
          ]
        }
      ],
      "source": [
        "md.printSchema()"
      ]
    },
    {
      "cell_type": "code",
      "execution_count": null,
      "metadata": {
        "colab": {
          "base_uri": "https://localhost:8080/"
        },
        "id": "QIDgAigU3W29",
        "outputId": "92428b1b-feb2-4d7e-80a3-7283d6b92d9c"
      },
      "outputs": [
        {
          "output_type": "stream",
          "name": "stdout",
          "text": [
            "Number of unique sources: 13\n"
          ]
        }
      ],
      "source": [
        "#calculate the number of unique values in the \"source\"\n",
        "from pyspark.sql import functions as func\n",
        "source_unique_count = md.select(func.size(func.collect_set(\"source\"))).collect()[0][0]\n",
        "print(f'Number of unique sources: {source_unique_count}')"
      ]
    },
    {
      "cell_type": "code",
      "execution_count": null,
      "metadata": {
        "colab": {
          "base_uri": "https://localhost:8080/"
        },
        "id": "3LBQJ7zn4VYk",
        "outputId": "7872f8b0-b914-46c4-ec56-c3db77898d03"
      },
      "outputs": [
        {
          "output_type": "stream",
          "name": "stdout",
          "text": [
            "Correlation between url_len and url_entropy: 0.4880093630965763\n"
          ]
        }
      ],
      "source": [
        "#corr- calculates the correlation coefficient between url_len and url_entropy\n",
        "correlation =md.stat.corr(\"url_len\", \"url_entropy\")\n",
        "print(f'Correlation between url_len and url_entropy: {correlation}')"
      ]
    },
    {
      "cell_type": "code",
      "execution_count": null,
      "metadata": {
        "colab": {
          "base_uri": "https://localhost:8080/"
        },
        "id": "K2LNcC5H4rMc",
        "outputId": "b3d3d4d5-dc88-4d3b-c43a-460f8241aa08"
      },
      "outputs": [
        {
          "output_type": "stream",
          "name": "stdout",
          "text": [
            "Mean url length: 23.78756614055414\n"
          ]
        }
      ],
      "source": [
        "#mean - calculates the mean value of the url-len\n",
        "mean_url_len = md.select(func.mean(\"url_len\")).collect()[0][0]\n",
        "print(f'Mean url length: {mean_url_len}')"
      ]
    },
    {
      "cell_type": "code",
      "execution_count": null,
      "metadata": {
        "colab": {
          "base_uri": "https://localhost:8080/"
        },
        "id": "U0_peM5K4hOs",
        "outputId": "4f8d7f48-557a-4168-ff8f-b5b879b83e87"
      },
      "outputs": [
        {
          "output_type": "stream",
          "name": "stdout",
          "text": [
            "Minimum url hamming_1: 0.3157894736842105\n"
          ]
        }
      ],
      "source": [
        "#min - calculates the minimum value of the url_hamming\n",
        "min_url_hamming_1 =md.select(func.min(\"url_hamming_1\")).collect()[0][0]\n",
        "print(f'Minimum url hamming_1: {min_url_hamming_1}')"
      ]
    },
    {
      "cell_type": "code",
      "execution_count": null,
      "metadata": {
        "colab": {
          "base_uri": "https://localhost:8080/"
        },
        "id": "f4JGlwRr4l6c",
        "outputId": "089fe127-a8eb-4c14-c9b5-dd2dc7bd59a9"
      },
      "outputs": [
        {
          "output_type": "stream",
          "name": "stdout",
          "text": [
            "Maximum url entropy: 5.354315429593166\n"
          ]
        }
      ],
      "source": [
        "#max - calculates the maximum value of the url_entropy\n",
        "max_url_entropy = md.select(func.max(\"url_entropy\")).collect()[0][0]\n",
        "print(f'Maximum url entropy: {max_url_entropy}')\n"
      ]
    },
    {
      "cell_type": "code",
      "execution_count": null,
      "metadata": {
        "colab": {
          "base_uri": "https://localhost:8080/",
          "height": 161
        },
        "id": "7RwAJJXp1it8",
        "outputId": "0651bdfd-91f9-4227-89fd-f8b5c8492be0"
      },
      "outputs": [
        {
          "output_type": "execute_result",
          "data": {
            "text/plain": [
              "+-------+-----------------+-------------------+\n",
              "|summary|          url_len|        url_entropy|\n",
              "+-------+-----------------+-------------------+\n",
              "|  count|          1682213|            1682213|\n",
              "|   mean|23.78756614055414| 3.5270062993174243|\n",
              "| stddev|34.23825991155175|0.46003807487031595|\n",
              "|    min|                2|               -0.0|\n",
              "|    max|             8250|  5.354315429593166|\n",
              "+-------+-----------------+-------------------+"
            ],
            "text/html": [
              "<table border='1'>\n",
              "<tr><th>summary</th><th>url_len</th><th>url_entropy</th></tr>\n",
              "<tr><td>count</td><td>1682213</td><td>1682213</td></tr>\n",
              "<tr><td>mean</td><td>23.78756614055414</td><td>3.5270062993174243</td></tr>\n",
              "<tr><td>stddev</td><td>34.23825991155175</td><td>0.46003807487031595</td></tr>\n",
              "<tr><td>min</td><td>2</td><td>-0.0</td></tr>\n",
              "<tr><td>max</td><td>8250</td><td>5.354315429593166</td></tr>\n",
              "</table>\n"
            ]
          },
          "metadata": {},
          "execution_count": 18
        }
      ],
      "source": [
        "#describe - returns the statistical summary of url_len and url_entropy\n",
        "stats = md.describe(['url_len', 'url_entropy'])\n",
        "stats"
      ]
    },
    {
      "cell_type": "markdown",
      "source": [
        "**TRANSFORMATIONS**"
      ],
      "metadata": {
        "id": "gbmJfSHD-I8R"
      }
    },
    {
      "cell_type": "code",
      "execution_count": null,
      "metadata": {
        "id": "An4E8ABEMoHp",
        "colab": {
          "base_uri": "https://localhost:8080/",
          "height": 348
        },
        "outputId": "5f656e6e-bcbd-4987-a9bb-1b4021e3199a"
      },
      "outputs": [
        {
          "output_type": "execute_result",
          "data": {
            "text/plain": [
              "+--------------------+------------------+\n",
              "|              source|      avg(url_len)|\n",
              "+--------------------+------------------+\n",
              "|data_clean_test_m...|25.793289799594685|\n",
              "|           openphish|              58.6|\n",
              "|        dmoz_harvard|16.547755120749898|\n",
              "|           phishtank| 26.46653075854653|\n",
              "|              manual|121.02671755725191|\n",
              "|              domcop|16.837430317894302|\n",
              "|  ALL-phishing-links| 80.20846829047095|\n",
              "|          alexatop1m|14.320089947513923|\n",
              "|               aa419| 18.71719641401793|\n",
              "|    majestic_million|15.149602155141654|\n",
              "|data_clean_train_...| 25.80477114414816|\n",
              "|        tranco_K2K4W|13.632867504450171|\n",
              "|ALL-phishing-domains|25.722650704523783|\n",
              "+--------------------+------------------+"
            ],
            "text/html": [
              "<table border='1'>\n",
              "<tr><th>source</th><th>avg(url_len)</th></tr>\n",
              "<tr><td>data_clean_test_m...</td><td>25.793289799594685</td></tr>\n",
              "<tr><td>openphish</td><td>58.6</td></tr>\n",
              "<tr><td>dmoz_harvard</td><td>16.547755120749898</td></tr>\n",
              "<tr><td>phishtank</td><td>26.46653075854653</td></tr>\n",
              "<tr><td>manual</td><td>121.02671755725191</td></tr>\n",
              "<tr><td>domcop</td><td>16.837430317894302</td></tr>\n",
              "<tr><td>ALL-phishing-links</td><td>80.20846829047095</td></tr>\n",
              "<tr><td>alexatop1m</td><td>14.320089947513923</td></tr>\n",
              "<tr><td>aa419</td><td>18.71719641401793</td></tr>\n",
              "<tr><td>majestic_million</td><td>15.149602155141654</td></tr>\n",
              "<tr><td>data_clean_train_...</td><td>25.80477114414816</td></tr>\n",
              "<tr><td>tranco_K2K4W</td><td>13.632867504450171</td></tr>\n",
              "<tr><td>ALL-phishing-domains</td><td>25.722650704523783</td></tr>\n",
              "</table>\n"
            ]
          },
          "metadata": {},
          "execution_count": 19
        }
      ],
      "source": [
        "#calculates the average 'url_len' for each distinct value in the 'source'\n",
        "grouped_data = md.groupBy('source').agg({'url_len': 'mean'})\n",
        "grouped_data"
      ]
    },
    {
      "cell_type": "code",
      "execution_count": null,
      "metadata": {
        "id": "bkFCTCFqMoJy",
        "colab": {
          "base_uri": "https://localhost:8080/",
          "height": 566
        },
        "outputId": "bf977fe8-c1d9-4fb6-caaa-e3c684ab1368"
      },
      "outputs": [
        {
          "output_type": "execute_result",
          "data": {
            "text/plain": [
              "+--------------------+-----+--------------------+-------------+--------------+--------------+-------------+----------+-------------+-------+------------------+------------------+------------------+------------------+------------------+------------------+------------------+------------------+-------------+---------------+--------------+--------------+----------------+-------------+----------------+--------------+-------------------+--------------------+--------------+---------------+-------------+----------------+---------------+-----------------------------------+-------------------------+-----------------------+--------+--------------------+----------------------+---------------+-------------------+----------------------------+----------------+----------------+-------------------+----------------------+-----------------+---------+----------------------+-----------+--------------------+--------------------+--------------------------+-------------------+-------+------+----------+--------------------+-------------+-------------------+----------+\n",
              "|                 url|label|              source|url_has_login|url_has_client|url_has_server|url_has_admin|url_has_ip|url_isshorted|url_len|       url_entropy|     url_hamming_1|    url_hamming_00|    url_hamming_10|    url_hamming_01|    url_hamming_11|     url_2bentropy|     url_3bentropy|url_count_dot|url_count_https|url_count_http|url_count_perc|url_count_hyphen|url_count_www|url_count_atrate|url_count_hash|url_count_semicolon|url_count_underscore|url_count_ques|url_count_equal|url_count_amp|url_count_letter|url_count_digit|url_count_sensitive_financial_words|url_count_sensitive_words|url_nunique_chars_ratio|path_len|path_count_no_of_dir|path_count_no_of_embed|path_count_zero|path_count_pertwent|path_has_any_sensitive_words|path_count_lower|path_count_upper|path_count_nonascii|path_has_singlechardir|path_has_upperdir|query_len|query_count_components|pdomain_len|pdomain_count_hyphen|pdomain_count_atrate|pdomain_count_non_alphanum|pdomain_count_digit|tld_len|   tld|tld_is_sus|pdomain_min_distance|subdomain_len|subdomain_count_dot|new_column|\n",
              "+--------------------+-----+--------------------+-------------+--------------+--------------+-------------+----------+-------------+-------+------------------+------------------+------------------+------------------+------------------+------------------+------------------+------------------+-------------+---------------+--------------+--------------+----------------+-------------+----------------+--------------+-------------------+--------------------+--------------+---------------+-------------+----------------+---------------+-----------------------------------+-------------------------+-----------------------+--------+--------------------+----------------------+---------------+-------------------+----------------------------+----------------+----------------+-------------------+----------------------+-----------------+---------+----------------------+-----------+--------------------+--------------------+--------------------------+-------------------+-------+------+----------+--------------------+-------------+-------------------+----------+\n",
              "|     spa-security.de|    0|        dmoz_harvard|            0|             0|             0|            0|         0|            0|     15| 3.640223928941852|0.5083333333333333|0.1416666666666666|               0.2|0.2833333333333333|0.1583333333333333|1.8003115692558134|2.3993425283550898|            1|              0|             0|             0|               1|            0|               0|             0|                  0|                   0|             0|              0|            0|              13|              0|                                  0|                        0|     0.8666666666666667|       0|                   0|                     0|              0|                  0|                           0|              13|               0|                  0|                     0|                0|        0|                     0|          0|                   0|                   0|                         0|                  0|      2|    de|         0|                   7|            0|                  0|        25|\n",
              "|        mallander.de|    0|    majestic_million|            0|             0|             0|            0|         0|            0|     12|2.9182958340544887|0.4791666666666667|0.1458333333333333|0.2291666666666666|           0.28125|0.1666666666666666| 1.837704275830528|2.3398850493643777|            1|              0|             0|             0|               0|            0|               0|             0|                  0|                   0|             0|              0|            0|              11|              0|                                  0|                        0|     0.6666666666666666|       0|                   0|                     0|              0|                  0|                           0|              11|               0|                  0|                     0|                0|        0|                     0|          0|                   0|                   0|                         0|                  0|      2|    de|         0|                   3|            0|                  0|        22|\n",
              "|        zzndb.com.cn|    0|          alexatop1m|            0|             0|             0|            0|         0|            0|     12|2.9182958340544887|0.5520833333333334|0.0729166666666666|           0.21875|0.2604166666666667|           0.21875| 1.740229209352982|2.3451616264274184|            2|              0|             0|             0|               0|            0|               0|             0|                  0|                   0|             0|              0|            0|              10|              0|                                  0|                        0|     0.6666666666666666|       0|                   0|                     0|              0|                  0|                           0|              10|               0|                  0|                     0|                0|        0|                     0|          0|                   0|                   0|                         0|                  0|      6|com.cn|         0|                   3|            0|                  0|        22|\n",
              "|     enviroseal.com/|    0|data_clean_train_...|            0|             0|             0|            0|         0|            0|     15| 3.640223928941851|0.5666666666666667|0.0916666666666666|               0.2|0.2833333333333333|0.2166666666666666| 1.773971579052594|2.3152780515091504|            1|              0|             0|             0|               0|            0|               0|             0|                  0|                   0|             0|              0|            0|              13|              0|                                  0|                        0|     0.8666666666666667|       0|                   1|                     0|              0|                  0|                           0|              13|               0|                  0|                     0|                0|        0|                     0|          0|                   0|                   0|                         0|                  0|      3|   com|         0|                   6|            0|                  0|        25|\n",
              "|hunt1ngtonbank.3u...|    1|ALL-phishing-domains|            0|             0|             0|            0|         0|            0|     29|3.9353986674667634|0.5431034482758621|0.0948275862068965|0.2155172413793103|0.2844827586206897|0.1896551724137931|  1.77028979705501|2.3611785267172025|            2|              0|             0|             0|               0|            0|               0|             0|                  0|                   0|             0|              0|            0|              25|              2|                                  1|                        0|     0.6206896551724138|       0|                   0|                     0|              0|                  0|                           0|              25|               0|                  0|                     0|                0|        0|                     0|          0|                   0|                   0|                         0|                  0|      3|   com|         0|                   6|           14|                  0|        39|\n",
              "|augenblickstudios...|    0|              domcop|            0|             0|             0|            0|         0|            0|     21| 3.916126946588284|0.5535714285714286|0.0952380952380952|0.2023809523809524|0.2916666666666667|0.2023809523809524|1.7744640575173023|2.3391365535245803|            1|              0|             0|             0|               0|            0|               0|             0|                  0|                   0|             0|              0|            0|              20|              0|                                  0|                        0|     0.7619047619047619|       0|                   0|                     0|              0|                  0|                           0|              20|               0|                  0|                     0|                0|        0|                     0|          0|                   0|                   0|                         0|                  0|      3|   com|         0|                  11|            0|                  0|        31|\n",
              "|semidiceviprima.i...|    0|        dmoz_harvard|            0|             0|             0|            0|         0|            0|     33|  3.67587110545754|0.5075757575757576|0.1212121212121212|0.2121212121212121|0.2916666666666667| 0.178030303030303|1.8052705985091289|2.3844714280348995|            2|              0|             0|             0|               0|            0|               0|             0|                  0|                   0|             0|              0|            0|              31|              0|                                  0|                        0|     0.4848484848484849|       0|                   0|                     0|              0|                  0|                           0|              31|               0|                  0|                     0|                0|        0|                     0|          0|                   0|                   0|                         0|                  0|      2|    it|         0|                   9|           15|                  0|        43|\n",
              "|nrgeology.blogspo...|    0|              domcop|            0|             0|             0|            0|         0|            1|     25|3.7190795706241735|             0.575|             0.095|             0.185|              0.26|             0.225|1.7624667253683075| 2.291521260466533|            3|              0|             0|             0|               0|            0|               0|             0|                  0|                   0|             0|              0|            0|              22|              0|                                  0|                        0|                   0.64|       0|                   0|                     0|              0|                  0|                           0|              22|               0|                  0|                     0|                0|        0|                     0|          0|                   0|                   0|                         0|                  0|      6|com.au|         0|                   0|            9|                  0|        35|\n",
              "|eng.uwo.ca/resear...|    0|data_clean_train_...|            0|             0|             0|            0|         0|            0|     33| 4.104407755459852|0.5416666666666666|0.1098484848484848|0.2007575757575757|0.2803030303030303|0.1893939393939394|1.7840590798939917| 2.370182935166288|            2|              0|             0|             0|               0|            0|               0|             0|                  0|                   0|             0|              0|            0|              28|              0|                                  0|                        0|     0.5757575757575758|       8|                   3|                     0|              0|                  0|                           0|              28|               0|                  0|                     0|                0|        0|                     0|          0|                   0|                   0|                         0|                  0|      2|    ca|         0|                   2|            3|                  0|        43|\n",
              "|geocities.com/cri...|    0|data_clean_train_...|            0|             0|             0|            0|         0|            0|     21|3.3680424225727155|0.5833333333333334|0.0892857142857142|0.1845238095238095|0.2857142857142857|0.2261904761904762|1.7625179149119268| 2.342399925463964|            1|              0|             0|             0|               0|            0|               0|             0|                  0|                   0|             0|              0|            0|              18|              0|                                  0|                        0|     0.5714285714285714|       6|                   2|                     0|              0|                  0|                           0|              18|               0|                  0|                     0|                0|        0|                     0|          0|                   0|                   0|                         0|                  0|      3|   com|         0|                   5|            0|                  0|        31|\n",
              "|angelfire.com/rpg...|    0|data_clean_train_...|            0|             0|             0|            0|         0|            0|     35| 3.668728288980288|0.5178571428571429|0.1285714285714285|0.2035714285714285|0.2678571428571428|0.1785714285714285|1.8008480555670068|2.3788105235890056|            1|              0|             0|             0|               0|            0|               0|             0|                  0|                   0|             0|              0|            0|              31|              0|                                  0|                        0|     0.4285714285714285|       3|                   3|                     0|              0|                  0|                           0|              31|               0|                  0|                     0|                0|        0|                     0|          0|                   0|                   0|                         0|                  0|      3|   com|         0|                   5|            0|                  0|        45|\n",
              "|       esspeedee.com|    0|              domcop|            0|             0|             0|            0|         0|            0|     13|2.6535442970305683|0.5288461538461539|             0.125|0.2019230769230769|0.2980769230769231|0.1826923076923076| 1.809633132040792|2.3827723168100983|            1|              0|             0|             0|               0|            0|               0|             0|                  0|                   0|             0|              0|            0|              12|              0|                                  0|                        0|     0.6153846153846154|       0|                   0|                     0|              0|                  0|                           0|              12|               0|                  0|                     0|                0|        0|                     0|          0|                   0|                   0|                         0|                  0|      3|   com|         0|                   5|            0|                  0|        23|\n",
              "|aguasandinas.onli...|    1|  ALL-phishing-links|            0|             0|             0|            0|         0|            0|    118| 4.631289130086149|0.4682203389830508|0.1769067796610169|0.1853813559322034|0.2584745762711864|0.1694915254237288|1.8313588430749863| 2.375791621694029|            2|              0|             0|             0|              10|            0|               0|             0|                  0|                   0|             0|              0|            0|              57|             44|                                  0|                        0|     0.2627118644067797|       1|                   5|                     0|              7|                  0|                           0|              57|               0|                  0|                     1|                0|        0|                     0|          0|                   0|                   0|                         0|                  0|      3|   com|         0|                   8|           12|                  0|       128|\n",
              "|tier-freizeitpark.de|    0|        dmoz_harvard|            0|             0|             0|            0|         0|            0|     20|3.3464393446710154|           0.49375|           0.13125|            0.2375|               0.3|           0.14375|1.8004413495138758| 2.388233956706961|            1|              0|             0|             0|               1|            0|               0|             0|                  0|                   0|             0|              0|            0|              18|              0|                                  0|                        0|                    0.6|       0|                   0|                     0|              0|                  0|                           0|              18|               0|                  0|                     0|                0|        0|                     0|          0|                   0|                   0|                         0|                  0|      2|    de|         0|                  12|            0|                  0|        30|\n",
              "|             hwa.net|    0|        dmoz_harvard|            0|             0|             0|            0|         0|            0|      7|2.8073549220576046|0.5178571428571429|0.1071428571428571|0.2142857142857142|0.2678571428571428|0.1607142857142857|1.7544088886844642|  2.42317721090096|            1|              0|             0|             0|               0|            0|               0|             0|                  0|                   0|             0|              0|            0|               6|              0|                                  0|                        0|                    1.0|       0|                   0|                     0|              0|                  0|                           0|               6|               0|                  0|                     0|                0|        0|                     0|          0|                   0|                   0|                         0|                  0|      3|   net|         0|                   3|            0|                  0|        17|\n",
              "|selbstmordgedanke...|    0|        dmoz_harvard|            0|             0|             0|            0|         0|            0|     23|3.8492239123906247|0.5434782608695652|0.1032608695652174| 0.217391304347826|0.2826086956521739|0.2010869565217391|1.7974281688799314|2.3274470429655207|            1|              0|             0|             0|               0|            0|               0|             0|                  0|                   0|             0|              0|            0|              22|              0|                                  0|                        0|     0.6956521739130435|       0|                   0|                     0|              0|                  0|                           0|              22|               0|                  0|                     0|                0|        0|                     0|          0|                   0|                   0|                         0|                  0|      4|  info|         0|                  12|            0|                  0|        33|\n",
              "|i.webring.com/hub...|    0|data_clean_train_...|            0|             0|             0|            0|         0|            0|     32| 4.054229296672173|        0.54296875|         0.1015625|        0.20703125|        0.27734375|        0.19140625|1.7752185757422048|2.3874051534410268|            2|              0|             0|             0|               0|            0|               0|             0|                  0|                   0|             1|              1|            0|              27|              0|                                  0|                        0|                0.59375|       3|                   1|                     0|              0|                  0|                           0|              14|               0|                  0|                     0|                0|       14|                     1|          0|                   0|                   0|                         0|                  0|      3|   com|         0|                   3|            1|                  0|        42|\n",
              "|         opusdei.org|    0|          alexatop1m|            0|             0|             0|            0|         0|            0|     11|3.2776134368191165|0.5568181818181818|0.1136363636363636|0.1931818181818181|0.2727272727272727|0.1931818181818181|1.7841958238482194| 2.331325217651333|            1|              0|             0|             0|               0|            0|               0|             0|                  0|                   0|             0|              0|            0|              10|              0|                                  0|                        0|     0.9090909090909092|       0|                   0|                     0|              0|                  0|                           0|              10|               0|                  0|                     0|                0|        0|                     0|          0|                   0|                   0|                         0|                  0|      3|   org|         0|                   5|            0|                  0|        21|\n",
              "|cjyqyxnssq.duckdn...|    1|           phishtank|            0|             0|             0|            0|         0|            0|     23| 3.795088586397733|0.5597826086956522|0.1032608695652174|0.1847826086956521|0.2608695652173913|0.2065217391304348| 1.764083190154964|2.3254360194215424|            2|              0|             0|             0|               0|            0|               0|             0|                  0|                   0|             0|              0|            0|              20|              0|                                  0|                        0|     0.6521739130434783|       0|                   1|                     0|              0|                  0|                           0|              20|               0|                  0|                     0|                0|        0|                     0|          0|                   0|                   0|                         0|                  0|      3|   org|         0|                   4|           10|                  0|        33|\n",
              "|akinsalortaokul.m...|    0|        dmoz_harvard|            0|             0|             0|            0|         0|            0|     26|3.8441065448145375|0.5240384615384616| 0.110576923076923|0.2163461538461538|0.2836538461538461|0.1826923076923076|1.7927887199323496| 2.344932991679105|            3|              0|             0|             0|               0|            0|               0|             0|                  0|                   0|             0|              0|            0|              21|              2|                                  0|                        0|     0.6153846153846154|       0|                   0|                     0|              0|                  0|                           0|              21|               0|                  0|                     0|                0|        0|                     0|          0|                   0|                   0|                         0|                  0|      6|k12.tr|         0|                   2|           15|                  0|        36|\n",
              "+--------------------+-----+--------------------+-------------+--------------+--------------+-------------+----------+-------------+-------+------------------+------------------+------------------+------------------+------------------+------------------+------------------+------------------+-------------+---------------+--------------+--------------+----------------+-------------+----------------+--------------+-------------------+--------------------+--------------+---------------+-------------+----------------+---------------+-----------------------------------+-------------------------+-----------------------+--------+--------------------+----------------------+---------------+-------------------+----------------------------+----------------+----------------+-------------------+----------------------+-----------------+---------+----------------------+-----------+--------------------+--------------------+--------------------------+-------------------+-------+------+----------+--------------------+-------------+-------------------+----------+\n",
              "only showing top 20 rows"
            ],
            "text/html": [
              "<table border='1'>\n",
              "<tr><th>url</th><th>label</th><th>source</th><th>url_has_login</th><th>url_has_client</th><th>url_has_server</th><th>url_has_admin</th><th>url_has_ip</th><th>url_isshorted</th><th>url_len</th><th>url_entropy</th><th>url_hamming_1</th><th>url_hamming_00</th><th>url_hamming_10</th><th>url_hamming_01</th><th>url_hamming_11</th><th>url_2bentropy</th><th>url_3bentropy</th><th>url_count_dot</th><th>url_count_https</th><th>url_count_http</th><th>url_count_perc</th><th>url_count_hyphen</th><th>url_count_www</th><th>url_count_atrate</th><th>url_count_hash</th><th>url_count_semicolon</th><th>url_count_underscore</th><th>url_count_ques</th><th>url_count_equal</th><th>url_count_amp</th><th>url_count_letter</th><th>url_count_digit</th><th>url_count_sensitive_financial_words</th><th>url_count_sensitive_words</th><th>url_nunique_chars_ratio</th><th>path_len</th><th>path_count_no_of_dir</th><th>path_count_no_of_embed</th><th>path_count_zero</th><th>path_count_pertwent</th><th>path_has_any_sensitive_words</th><th>path_count_lower</th><th>path_count_upper</th><th>path_count_nonascii</th><th>path_has_singlechardir</th><th>path_has_upperdir</th><th>query_len</th><th>query_count_components</th><th>pdomain_len</th><th>pdomain_count_hyphen</th><th>pdomain_count_atrate</th><th>pdomain_count_non_alphanum</th><th>pdomain_count_digit</th><th>tld_len</th><th>tld</th><th>tld_is_sus</th><th>pdomain_min_distance</th><th>subdomain_len</th><th>subdomain_count_dot</th><th>new_column</th></tr>\n",
              "<tr><td>spa-security.de</td><td>0</td><td>dmoz_harvard</td><td>0</td><td>0</td><td>0</td><td>0</td><td>0</td><td>0</td><td>15</td><td>3.640223928941852</td><td>0.5083333333333333</td><td>0.1416666666666666</td><td>0.2</td><td>0.2833333333333333</td><td>0.1583333333333333</td><td>1.8003115692558134</td><td>2.3993425283550898</td><td>1</td><td>0</td><td>0</td><td>0</td><td>1</td><td>0</td><td>0</td><td>0</td><td>0</td><td>0</td><td>0</td><td>0</td><td>0</td><td>13</td><td>0</td><td>0</td><td>0</td><td>0.8666666666666667</td><td>0</td><td>0</td><td>0</td><td>0</td><td>0</td><td>0</td><td>13</td><td>0</td><td>0</td><td>0</td><td>0</td><td>0</td><td>0</td><td>0</td><td>0</td><td>0</td><td>0</td><td>0</td><td>2</td><td>de</td><td>0</td><td>7</td><td>0</td><td>0</td><td>25</td></tr>\n",
              "<tr><td>mallander.de</td><td>0</td><td>majestic_million</td><td>0</td><td>0</td><td>0</td><td>0</td><td>0</td><td>0</td><td>12</td><td>2.9182958340544887</td><td>0.4791666666666667</td><td>0.1458333333333333</td><td>0.2291666666666666</td><td>0.28125</td><td>0.1666666666666666</td><td>1.837704275830528</td><td>2.3398850493643777</td><td>1</td><td>0</td><td>0</td><td>0</td><td>0</td><td>0</td><td>0</td><td>0</td><td>0</td><td>0</td><td>0</td><td>0</td><td>0</td><td>11</td><td>0</td><td>0</td><td>0</td><td>0.6666666666666666</td><td>0</td><td>0</td><td>0</td><td>0</td><td>0</td><td>0</td><td>11</td><td>0</td><td>0</td><td>0</td><td>0</td><td>0</td><td>0</td><td>0</td><td>0</td><td>0</td><td>0</td><td>0</td><td>2</td><td>de</td><td>0</td><td>3</td><td>0</td><td>0</td><td>22</td></tr>\n",
              "<tr><td>zzndb.com.cn</td><td>0</td><td>alexatop1m</td><td>0</td><td>0</td><td>0</td><td>0</td><td>0</td><td>0</td><td>12</td><td>2.9182958340544887</td><td>0.5520833333333334</td><td>0.0729166666666666</td><td>0.21875</td><td>0.2604166666666667</td><td>0.21875</td><td>1.740229209352982</td><td>2.3451616264274184</td><td>2</td><td>0</td><td>0</td><td>0</td><td>0</td><td>0</td><td>0</td><td>0</td><td>0</td><td>0</td><td>0</td><td>0</td><td>0</td><td>10</td><td>0</td><td>0</td><td>0</td><td>0.6666666666666666</td><td>0</td><td>0</td><td>0</td><td>0</td><td>0</td><td>0</td><td>10</td><td>0</td><td>0</td><td>0</td><td>0</td><td>0</td><td>0</td><td>0</td><td>0</td><td>0</td><td>0</td><td>0</td><td>6</td><td>com.cn</td><td>0</td><td>3</td><td>0</td><td>0</td><td>22</td></tr>\n",
              "<tr><td>enviroseal.com/</td><td>0</td><td>data_clean_train_...</td><td>0</td><td>0</td><td>0</td><td>0</td><td>0</td><td>0</td><td>15</td><td>3.640223928941851</td><td>0.5666666666666667</td><td>0.0916666666666666</td><td>0.2</td><td>0.2833333333333333</td><td>0.2166666666666666</td><td>1.773971579052594</td><td>2.3152780515091504</td><td>1</td><td>0</td><td>0</td><td>0</td><td>0</td><td>0</td><td>0</td><td>0</td><td>0</td><td>0</td><td>0</td><td>0</td><td>0</td><td>13</td><td>0</td><td>0</td><td>0</td><td>0.8666666666666667</td><td>0</td><td>1</td><td>0</td><td>0</td><td>0</td><td>0</td><td>13</td><td>0</td><td>0</td><td>0</td><td>0</td><td>0</td><td>0</td><td>0</td><td>0</td><td>0</td><td>0</td><td>0</td><td>3</td><td>com</td><td>0</td><td>6</td><td>0</td><td>0</td><td>25</td></tr>\n",
              "<tr><td>hunt1ngtonbank.3u...</td><td>1</td><td>ALL-phishing-domains</td><td>0</td><td>0</td><td>0</td><td>0</td><td>0</td><td>0</td><td>29</td><td>3.9353986674667634</td><td>0.5431034482758621</td><td>0.0948275862068965</td><td>0.2155172413793103</td><td>0.2844827586206897</td><td>0.1896551724137931</td><td>1.77028979705501</td><td>2.3611785267172025</td><td>2</td><td>0</td><td>0</td><td>0</td><td>0</td><td>0</td><td>0</td><td>0</td><td>0</td><td>0</td><td>0</td><td>0</td><td>0</td><td>25</td><td>2</td><td>1</td><td>0</td><td>0.6206896551724138</td><td>0</td><td>0</td><td>0</td><td>0</td><td>0</td><td>0</td><td>25</td><td>0</td><td>0</td><td>0</td><td>0</td><td>0</td><td>0</td><td>0</td><td>0</td><td>0</td><td>0</td><td>0</td><td>3</td><td>com</td><td>0</td><td>6</td><td>14</td><td>0</td><td>39</td></tr>\n",
              "<tr><td>augenblickstudios...</td><td>0</td><td>domcop</td><td>0</td><td>0</td><td>0</td><td>0</td><td>0</td><td>0</td><td>21</td><td>3.916126946588284</td><td>0.5535714285714286</td><td>0.0952380952380952</td><td>0.2023809523809524</td><td>0.2916666666666667</td><td>0.2023809523809524</td><td>1.7744640575173023</td><td>2.3391365535245803</td><td>1</td><td>0</td><td>0</td><td>0</td><td>0</td><td>0</td><td>0</td><td>0</td><td>0</td><td>0</td><td>0</td><td>0</td><td>0</td><td>20</td><td>0</td><td>0</td><td>0</td><td>0.7619047619047619</td><td>0</td><td>0</td><td>0</td><td>0</td><td>0</td><td>0</td><td>20</td><td>0</td><td>0</td><td>0</td><td>0</td><td>0</td><td>0</td><td>0</td><td>0</td><td>0</td><td>0</td><td>0</td><td>3</td><td>com</td><td>0</td><td>11</td><td>0</td><td>0</td><td>31</td></tr>\n",
              "<tr><td>semidiceviprima.i...</td><td>0</td><td>dmoz_harvard</td><td>0</td><td>0</td><td>0</td><td>0</td><td>0</td><td>0</td><td>33</td><td>3.67587110545754</td><td>0.5075757575757576</td><td>0.1212121212121212</td><td>0.2121212121212121</td><td>0.2916666666666667</td><td>0.178030303030303</td><td>1.8052705985091289</td><td>2.3844714280348995</td><td>2</td><td>0</td><td>0</td><td>0</td><td>0</td><td>0</td><td>0</td><td>0</td><td>0</td><td>0</td><td>0</td><td>0</td><td>0</td><td>31</td><td>0</td><td>0</td><td>0</td><td>0.4848484848484849</td><td>0</td><td>0</td><td>0</td><td>0</td><td>0</td><td>0</td><td>31</td><td>0</td><td>0</td><td>0</td><td>0</td><td>0</td><td>0</td><td>0</td><td>0</td><td>0</td><td>0</td><td>0</td><td>2</td><td>it</td><td>0</td><td>9</td><td>15</td><td>0</td><td>43</td></tr>\n",
              "<tr><td>nrgeology.blogspo...</td><td>0</td><td>domcop</td><td>0</td><td>0</td><td>0</td><td>0</td><td>0</td><td>1</td><td>25</td><td>3.7190795706241735</td><td>0.575</td><td>0.095</td><td>0.185</td><td>0.26</td><td>0.225</td><td>1.7624667253683075</td><td>2.291521260466533</td><td>3</td><td>0</td><td>0</td><td>0</td><td>0</td><td>0</td><td>0</td><td>0</td><td>0</td><td>0</td><td>0</td><td>0</td><td>0</td><td>22</td><td>0</td><td>0</td><td>0</td><td>0.64</td><td>0</td><td>0</td><td>0</td><td>0</td><td>0</td><td>0</td><td>22</td><td>0</td><td>0</td><td>0</td><td>0</td><td>0</td><td>0</td><td>0</td><td>0</td><td>0</td><td>0</td><td>0</td><td>6</td><td>com.au</td><td>0</td><td>0</td><td>9</td><td>0</td><td>35</td></tr>\n",
              "<tr><td>eng.uwo.ca/resear...</td><td>0</td><td>data_clean_train_...</td><td>0</td><td>0</td><td>0</td><td>0</td><td>0</td><td>0</td><td>33</td><td>4.104407755459852</td><td>0.5416666666666666</td><td>0.1098484848484848</td><td>0.2007575757575757</td><td>0.2803030303030303</td><td>0.1893939393939394</td><td>1.7840590798939917</td><td>2.370182935166288</td><td>2</td><td>0</td><td>0</td><td>0</td><td>0</td><td>0</td><td>0</td><td>0</td><td>0</td><td>0</td><td>0</td><td>0</td><td>0</td><td>28</td><td>0</td><td>0</td><td>0</td><td>0.5757575757575758</td><td>8</td><td>3</td><td>0</td><td>0</td><td>0</td><td>0</td><td>28</td><td>0</td><td>0</td><td>0</td><td>0</td><td>0</td><td>0</td><td>0</td><td>0</td><td>0</td><td>0</td><td>0</td><td>2</td><td>ca</td><td>0</td><td>2</td><td>3</td><td>0</td><td>43</td></tr>\n",
              "<tr><td>geocities.com/cri...</td><td>0</td><td>data_clean_train_...</td><td>0</td><td>0</td><td>0</td><td>0</td><td>0</td><td>0</td><td>21</td><td>3.3680424225727155</td><td>0.5833333333333334</td><td>0.0892857142857142</td><td>0.1845238095238095</td><td>0.2857142857142857</td><td>0.2261904761904762</td><td>1.7625179149119268</td><td>2.342399925463964</td><td>1</td><td>0</td><td>0</td><td>0</td><td>0</td><td>0</td><td>0</td><td>0</td><td>0</td><td>0</td><td>0</td><td>0</td><td>0</td><td>18</td><td>0</td><td>0</td><td>0</td><td>0.5714285714285714</td><td>6</td><td>2</td><td>0</td><td>0</td><td>0</td><td>0</td><td>18</td><td>0</td><td>0</td><td>0</td><td>0</td><td>0</td><td>0</td><td>0</td><td>0</td><td>0</td><td>0</td><td>0</td><td>3</td><td>com</td><td>0</td><td>5</td><td>0</td><td>0</td><td>31</td></tr>\n",
              "<tr><td>angelfire.com/rpg...</td><td>0</td><td>data_clean_train_...</td><td>0</td><td>0</td><td>0</td><td>0</td><td>0</td><td>0</td><td>35</td><td>3.668728288980288</td><td>0.5178571428571429</td><td>0.1285714285714285</td><td>0.2035714285714285</td><td>0.2678571428571428</td><td>0.1785714285714285</td><td>1.8008480555670068</td><td>2.3788105235890056</td><td>1</td><td>0</td><td>0</td><td>0</td><td>0</td><td>0</td><td>0</td><td>0</td><td>0</td><td>0</td><td>0</td><td>0</td><td>0</td><td>31</td><td>0</td><td>0</td><td>0</td><td>0.4285714285714285</td><td>3</td><td>3</td><td>0</td><td>0</td><td>0</td><td>0</td><td>31</td><td>0</td><td>0</td><td>0</td><td>0</td><td>0</td><td>0</td><td>0</td><td>0</td><td>0</td><td>0</td><td>0</td><td>3</td><td>com</td><td>0</td><td>5</td><td>0</td><td>0</td><td>45</td></tr>\n",
              "<tr><td>esspeedee.com</td><td>0</td><td>domcop</td><td>0</td><td>0</td><td>0</td><td>0</td><td>0</td><td>0</td><td>13</td><td>2.6535442970305683</td><td>0.5288461538461539</td><td>0.125</td><td>0.2019230769230769</td><td>0.2980769230769231</td><td>0.1826923076923076</td><td>1.809633132040792</td><td>2.3827723168100983</td><td>1</td><td>0</td><td>0</td><td>0</td><td>0</td><td>0</td><td>0</td><td>0</td><td>0</td><td>0</td><td>0</td><td>0</td><td>0</td><td>12</td><td>0</td><td>0</td><td>0</td><td>0.6153846153846154</td><td>0</td><td>0</td><td>0</td><td>0</td><td>0</td><td>0</td><td>12</td><td>0</td><td>0</td><td>0</td><td>0</td><td>0</td><td>0</td><td>0</td><td>0</td><td>0</td><td>0</td><td>0</td><td>3</td><td>com</td><td>0</td><td>5</td><td>0</td><td>0</td><td>23</td></tr>\n",
              "<tr><td>aguasandinas.onli...</td><td>1</td><td>ALL-phishing-links</td><td>0</td><td>0</td><td>0</td><td>0</td><td>0</td><td>0</td><td>118</td><td>4.631289130086149</td><td>0.4682203389830508</td><td>0.1769067796610169</td><td>0.1853813559322034</td><td>0.2584745762711864</td><td>0.1694915254237288</td><td>1.8313588430749863</td><td>2.375791621694029</td><td>2</td><td>0</td><td>0</td><td>0</td><td>10</td><td>0</td><td>0</td><td>0</td><td>0</td><td>0</td><td>0</td><td>0</td><td>0</td><td>57</td><td>44</td><td>0</td><td>0</td><td>0.2627118644067797</td><td>1</td><td>5</td><td>0</td><td>7</td><td>0</td><td>0</td><td>57</td><td>0</td><td>0</td><td>1</td><td>0</td><td>0</td><td>0</td><td>0</td><td>0</td><td>0</td><td>0</td><td>0</td><td>3</td><td>com</td><td>0</td><td>8</td><td>12</td><td>0</td><td>128</td></tr>\n",
              "<tr><td>tier-freizeitpark.de</td><td>0</td><td>dmoz_harvard</td><td>0</td><td>0</td><td>0</td><td>0</td><td>0</td><td>0</td><td>20</td><td>3.3464393446710154</td><td>0.49375</td><td>0.13125</td><td>0.2375</td><td>0.3</td><td>0.14375</td><td>1.8004413495138758</td><td>2.388233956706961</td><td>1</td><td>0</td><td>0</td><td>0</td><td>1</td><td>0</td><td>0</td><td>0</td><td>0</td><td>0</td><td>0</td><td>0</td><td>0</td><td>18</td><td>0</td><td>0</td><td>0</td><td>0.6</td><td>0</td><td>0</td><td>0</td><td>0</td><td>0</td><td>0</td><td>18</td><td>0</td><td>0</td><td>0</td><td>0</td><td>0</td><td>0</td><td>0</td><td>0</td><td>0</td><td>0</td><td>0</td><td>2</td><td>de</td><td>0</td><td>12</td><td>0</td><td>0</td><td>30</td></tr>\n",
              "<tr><td>hwa.net</td><td>0</td><td>dmoz_harvard</td><td>0</td><td>0</td><td>0</td><td>0</td><td>0</td><td>0</td><td>7</td><td>2.8073549220576046</td><td>0.5178571428571429</td><td>0.1071428571428571</td><td>0.2142857142857142</td><td>0.2678571428571428</td><td>0.1607142857142857</td><td>1.7544088886844642</td><td>2.42317721090096</td><td>1</td><td>0</td><td>0</td><td>0</td><td>0</td><td>0</td><td>0</td><td>0</td><td>0</td><td>0</td><td>0</td><td>0</td><td>0</td><td>6</td><td>0</td><td>0</td><td>0</td><td>1.0</td><td>0</td><td>0</td><td>0</td><td>0</td><td>0</td><td>0</td><td>6</td><td>0</td><td>0</td><td>0</td><td>0</td><td>0</td><td>0</td><td>0</td><td>0</td><td>0</td><td>0</td><td>0</td><td>3</td><td>net</td><td>0</td><td>3</td><td>0</td><td>0</td><td>17</td></tr>\n",
              "<tr><td>selbstmordgedanke...</td><td>0</td><td>dmoz_harvard</td><td>0</td><td>0</td><td>0</td><td>0</td><td>0</td><td>0</td><td>23</td><td>3.8492239123906247</td><td>0.5434782608695652</td><td>0.1032608695652174</td><td>0.217391304347826</td><td>0.2826086956521739</td><td>0.2010869565217391</td><td>1.7974281688799314</td><td>2.3274470429655207</td><td>1</td><td>0</td><td>0</td><td>0</td><td>0</td><td>0</td><td>0</td><td>0</td><td>0</td><td>0</td><td>0</td><td>0</td><td>0</td><td>22</td><td>0</td><td>0</td><td>0</td><td>0.6956521739130435</td><td>0</td><td>0</td><td>0</td><td>0</td><td>0</td><td>0</td><td>22</td><td>0</td><td>0</td><td>0</td><td>0</td><td>0</td><td>0</td><td>0</td><td>0</td><td>0</td><td>0</td><td>0</td><td>4</td><td>info</td><td>0</td><td>12</td><td>0</td><td>0</td><td>33</td></tr>\n",
              "<tr><td>i.webring.com/hub...</td><td>0</td><td>data_clean_train_...</td><td>0</td><td>0</td><td>0</td><td>0</td><td>0</td><td>0</td><td>32</td><td>4.054229296672173</td><td>0.54296875</td><td>0.1015625</td><td>0.20703125</td><td>0.27734375</td><td>0.19140625</td><td>1.7752185757422048</td><td>2.3874051534410268</td><td>2</td><td>0</td><td>0</td><td>0</td><td>0</td><td>0</td><td>0</td><td>0</td><td>0</td><td>0</td><td>1</td><td>1</td><td>0</td><td>27</td><td>0</td><td>0</td><td>0</td><td>0.59375</td><td>3</td><td>1</td><td>0</td><td>0</td><td>0</td><td>0</td><td>14</td><td>0</td><td>0</td><td>0</td><td>0</td><td>14</td><td>1</td><td>0</td><td>0</td><td>0</td><td>0</td><td>0</td><td>3</td><td>com</td><td>0</td><td>3</td><td>1</td><td>0</td><td>42</td></tr>\n",
              "<tr><td>opusdei.org</td><td>0</td><td>alexatop1m</td><td>0</td><td>0</td><td>0</td><td>0</td><td>0</td><td>0</td><td>11</td><td>3.2776134368191165</td><td>0.5568181818181818</td><td>0.1136363636363636</td><td>0.1931818181818181</td><td>0.2727272727272727</td><td>0.1931818181818181</td><td>1.7841958238482194</td><td>2.331325217651333</td><td>1</td><td>0</td><td>0</td><td>0</td><td>0</td><td>0</td><td>0</td><td>0</td><td>0</td><td>0</td><td>0</td><td>0</td><td>0</td><td>10</td><td>0</td><td>0</td><td>0</td><td>0.9090909090909092</td><td>0</td><td>0</td><td>0</td><td>0</td><td>0</td><td>0</td><td>10</td><td>0</td><td>0</td><td>0</td><td>0</td><td>0</td><td>0</td><td>0</td><td>0</td><td>0</td><td>0</td><td>0</td><td>3</td><td>org</td><td>0</td><td>5</td><td>0</td><td>0</td><td>21</td></tr>\n",
              "<tr><td>cjyqyxnssq.duckdn...</td><td>1</td><td>phishtank</td><td>0</td><td>0</td><td>0</td><td>0</td><td>0</td><td>0</td><td>23</td><td>3.795088586397733</td><td>0.5597826086956522</td><td>0.1032608695652174</td><td>0.1847826086956521</td><td>0.2608695652173913</td><td>0.2065217391304348</td><td>1.764083190154964</td><td>2.3254360194215424</td><td>2</td><td>0</td><td>0</td><td>0</td><td>0</td><td>0</td><td>0</td><td>0</td><td>0</td><td>0</td><td>0</td><td>0</td><td>0</td><td>20</td><td>0</td><td>0</td><td>0</td><td>0.6521739130434783</td><td>0</td><td>1</td><td>0</td><td>0</td><td>0</td><td>0</td><td>20</td><td>0</td><td>0</td><td>0</td><td>0</td><td>0</td><td>0</td><td>0</td><td>0</td><td>0</td><td>0</td><td>0</td><td>3</td><td>org</td><td>0</td><td>4</td><td>10</td><td>0</td><td>33</td></tr>\n",
              "<tr><td>akinsalortaokul.m...</td><td>0</td><td>dmoz_harvard</td><td>0</td><td>0</td><td>0</td><td>0</td><td>0</td><td>0</td><td>26</td><td>3.8441065448145375</td><td>0.5240384615384616</td><td>0.110576923076923</td><td>0.2163461538461538</td><td>0.2836538461538461</td><td>0.1826923076923076</td><td>1.7927887199323496</td><td>2.344932991679105</td><td>3</td><td>0</td><td>0</td><td>0</td><td>0</td><td>0</td><td>0</td><td>0</td><td>0</td><td>0</td><td>0</td><td>0</td><td>0</td><td>21</td><td>2</td><td>0</td><td>0</td><td>0.6153846153846154</td><td>0</td><td>0</td><td>0</td><td>0</td><td>0</td><td>0</td><td>21</td><td>0</td><td>0</td><td>0</td><td>0</td><td>0</td><td>0</td><td>0</td><td>0</td><td>0</td><td>0</td><td>0</td><td>6</td><td>k12.tr</td><td>0</td><td>2</td><td>15</td><td>0</td><td>36</td></tr>\n",
              "</table>\n",
              "only showing top 20 rows\n"
            ]
          },
          "metadata": {},
          "execution_count": 20
        }
      ],
      "source": [
        "#creates a new DataFrame 'md1' by adding a constant value of 10 to the values in the 'url_len' column of the original DataFrame 'md'.\n",
        "from pyspark.sql.functions import col, lit\n",
        "md1 = md.withColumn('new_column', col('url_len') + lit(10))\n",
        "md1"
      ]
    },
    {
      "cell_type": "code",
      "execution_count": null,
      "metadata": {
        "id": "6XR2bYaOMoMp",
        "colab": {
          "base_uri": "https://localhost:8080/",
          "height": 566
        },
        "outputId": "72f071a1-754d-4844-f386-aded50a0b061"
      },
      "outputs": [
        {
          "output_type": "execute_result",
          "data": {
            "text/plain": [
              "+--------------------+-----+--------------------+-------------+--------------+--------------+-------------+----------+-------------+-------+------------------+------------------+------------------+------------------+------------------+------------------+------------------+------------------+-------------+---------------+--------------+--------------+----------------+-------------+----------------+--------------+-------------------+--------------------+--------------+---------------+-------------+----------------+---------------+-----------------------------------+-------------------------+-----------------------+--------+--------------------+----------------------+---------------+-------------------+----------------------------+----------------+----------------+-------------------+----------------------+-----------------+---------+----------------------+-----------+--------------------+--------------------+--------------------------+-------------------+-------+------+----------+--------------------+-------------+-------------------+\n",
              "|                 url|label|         data_source|url_has_login|url_has_client|url_has_server|url_has_admin|url_has_ip|url_isshorted|url_len|       url_entropy|     url_hamming_1|    url_hamming_00|    url_hamming_10|    url_hamming_01|    url_hamming_11|     url_2bentropy|     url_3bentropy|url_count_dot|url_count_https|url_count_http|url_count_perc|url_count_hyphen|url_count_www|url_count_atrate|url_count_hash|url_count_semicolon|url_count_underscore|url_count_ques|url_count_equal|url_count_amp|url_count_letter|url_count_digit|url_count_sensitive_financial_words|url_count_sensitive_words|url_nunique_chars_ratio|path_len|path_count_no_of_dir|path_count_no_of_embed|path_count_zero|path_count_pertwent|path_has_any_sensitive_words|path_count_lower|path_count_upper|path_count_nonascii|path_has_singlechardir|path_has_upperdir|query_len|query_count_components|pdomain_len|pdomain_count_hyphen|pdomain_count_atrate|pdomain_count_non_alphanum|pdomain_count_digit|tld_len|   tld|tld_is_sus|pdomain_min_distance|subdomain_len|subdomain_count_dot|\n",
              "+--------------------+-----+--------------------+-------------+--------------+--------------+-------------+----------+-------------+-------+------------------+------------------+------------------+------------------+------------------+------------------+------------------+------------------+-------------+---------------+--------------+--------------+----------------+-------------+----------------+--------------+-------------------+--------------------+--------------+---------------+-------------+----------------+---------------+-----------------------------------+-------------------------+-----------------------+--------+--------------------+----------------------+---------------+-------------------+----------------------------+----------------+----------------+-------------------+----------------------+-----------------+---------+----------------------+-----------+--------------------+--------------------+--------------------------+-------------------+-------+------+----------+--------------------+-------------+-------------------+\n",
              "|     spa-security.de|    0|        dmoz_harvard|            0|             0|             0|            0|         0|            0|     15| 3.640223928941852|0.5083333333333333|0.1416666666666666|               0.2|0.2833333333333333|0.1583333333333333|1.8003115692558134|2.3993425283550898|            1|              0|             0|             0|               1|            0|               0|             0|                  0|                   0|             0|              0|            0|              13|              0|                                  0|                        0|     0.8666666666666667|       0|                   0|                     0|              0|                  0|                           0|              13|               0|                  0|                     0|                0|        0|                     0|          0|                   0|                   0|                         0|                  0|      2|    de|         0|                   7|            0|                  0|\n",
              "|        mallander.de|    0|    majestic_million|            0|             0|             0|            0|         0|            0|     12|2.9182958340544887|0.4791666666666667|0.1458333333333333|0.2291666666666666|           0.28125|0.1666666666666666| 1.837704275830528|2.3398850493643777|            1|              0|             0|             0|               0|            0|               0|             0|                  0|                   0|             0|              0|            0|              11|              0|                                  0|                        0|     0.6666666666666666|       0|                   0|                     0|              0|                  0|                           0|              11|               0|                  0|                     0|                0|        0|                     0|          0|                   0|                   0|                         0|                  0|      2|    de|         0|                   3|            0|                  0|\n",
              "|        zzndb.com.cn|    0|          alexatop1m|            0|             0|             0|            0|         0|            0|     12|2.9182958340544887|0.5520833333333334|0.0729166666666666|           0.21875|0.2604166666666667|           0.21875| 1.740229209352982|2.3451616264274184|            2|              0|             0|             0|               0|            0|               0|             0|                  0|                   0|             0|              0|            0|              10|              0|                                  0|                        0|     0.6666666666666666|       0|                   0|                     0|              0|                  0|                           0|              10|               0|                  0|                     0|                0|        0|                     0|          0|                   0|                   0|                         0|                  0|      6|com.cn|         0|                   3|            0|                  0|\n",
              "|     enviroseal.com/|    0|data_clean_train_...|            0|             0|             0|            0|         0|            0|     15| 3.640223928941851|0.5666666666666667|0.0916666666666666|               0.2|0.2833333333333333|0.2166666666666666| 1.773971579052594|2.3152780515091504|            1|              0|             0|             0|               0|            0|               0|             0|                  0|                   0|             0|              0|            0|              13|              0|                                  0|                        0|     0.8666666666666667|       0|                   1|                     0|              0|                  0|                           0|              13|               0|                  0|                     0|                0|        0|                     0|          0|                   0|                   0|                         0|                  0|      3|   com|         0|                   6|            0|                  0|\n",
              "|hunt1ngtonbank.3u...|    1|ALL-phishing-domains|            0|             0|             0|            0|         0|            0|     29|3.9353986674667634|0.5431034482758621|0.0948275862068965|0.2155172413793103|0.2844827586206897|0.1896551724137931|  1.77028979705501|2.3611785267172025|            2|              0|             0|             0|               0|            0|               0|             0|                  0|                   0|             0|              0|            0|              25|              2|                                  1|                        0|     0.6206896551724138|       0|                   0|                     0|              0|                  0|                           0|              25|               0|                  0|                     0|                0|        0|                     0|          0|                   0|                   0|                         0|                  0|      3|   com|         0|                   6|           14|                  0|\n",
              "|augenblickstudios...|    0|              domcop|            0|             0|             0|            0|         0|            0|     21| 3.916126946588284|0.5535714285714286|0.0952380952380952|0.2023809523809524|0.2916666666666667|0.2023809523809524|1.7744640575173023|2.3391365535245803|            1|              0|             0|             0|               0|            0|               0|             0|                  0|                   0|             0|              0|            0|              20|              0|                                  0|                        0|     0.7619047619047619|       0|                   0|                     0|              0|                  0|                           0|              20|               0|                  0|                     0|                0|        0|                     0|          0|                   0|                   0|                         0|                  0|      3|   com|         0|                  11|            0|                  0|\n",
              "|semidiceviprima.i...|    0|        dmoz_harvard|            0|             0|             0|            0|         0|            0|     33|  3.67587110545754|0.5075757575757576|0.1212121212121212|0.2121212121212121|0.2916666666666667| 0.178030303030303|1.8052705985091289|2.3844714280348995|            2|              0|             0|             0|               0|            0|               0|             0|                  0|                   0|             0|              0|            0|              31|              0|                                  0|                        0|     0.4848484848484849|       0|                   0|                     0|              0|                  0|                           0|              31|               0|                  0|                     0|                0|        0|                     0|          0|                   0|                   0|                         0|                  0|      2|    it|         0|                   9|           15|                  0|\n",
              "|nrgeology.blogspo...|    0|              domcop|            0|             0|             0|            0|         0|            1|     25|3.7190795706241735|             0.575|             0.095|             0.185|              0.26|             0.225|1.7624667253683075| 2.291521260466533|            3|              0|             0|             0|               0|            0|               0|             0|                  0|                   0|             0|              0|            0|              22|              0|                                  0|                        0|                   0.64|       0|                   0|                     0|              0|                  0|                           0|              22|               0|                  0|                     0|                0|        0|                     0|          0|                   0|                   0|                         0|                  0|      6|com.au|         0|                   0|            9|                  0|\n",
              "|eng.uwo.ca/resear...|    0|data_clean_train_...|            0|             0|             0|            0|         0|            0|     33| 4.104407755459852|0.5416666666666666|0.1098484848484848|0.2007575757575757|0.2803030303030303|0.1893939393939394|1.7840590798939917| 2.370182935166288|            2|              0|             0|             0|               0|            0|               0|             0|                  0|                   0|             0|              0|            0|              28|              0|                                  0|                        0|     0.5757575757575758|       8|                   3|                     0|              0|                  0|                           0|              28|               0|                  0|                     0|                0|        0|                     0|          0|                   0|                   0|                         0|                  0|      2|    ca|         0|                   2|            3|                  0|\n",
              "|geocities.com/cri...|    0|data_clean_train_...|            0|             0|             0|            0|         0|            0|     21|3.3680424225727155|0.5833333333333334|0.0892857142857142|0.1845238095238095|0.2857142857142857|0.2261904761904762|1.7625179149119268| 2.342399925463964|            1|              0|             0|             0|               0|            0|               0|             0|                  0|                   0|             0|              0|            0|              18|              0|                                  0|                        0|     0.5714285714285714|       6|                   2|                     0|              0|                  0|                           0|              18|               0|                  0|                     0|                0|        0|                     0|          0|                   0|                   0|                         0|                  0|      3|   com|         0|                   5|            0|                  0|\n",
              "|angelfire.com/rpg...|    0|data_clean_train_...|            0|             0|             0|            0|         0|            0|     35| 3.668728288980288|0.5178571428571429|0.1285714285714285|0.2035714285714285|0.2678571428571428|0.1785714285714285|1.8008480555670068|2.3788105235890056|            1|              0|             0|             0|               0|            0|               0|             0|                  0|                   0|             0|              0|            0|              31|              0|                                  0|                        0|     0.4285714285714285|       3|                   3|                     0|              0|                  0|                           0|              31|               0|                  0|                     0|                0|        0|                     0|          0|                   0|                   0|                         0|                  0|      3|   com|         0|                   5|            0|                  0|\n",
              "|       esspeedee.com|    0|              domcop|            0|             0|             0|            0|         0|            0|     13|2.6535442970305683|0.5288461538461539|             0.125|0.2019230769230769|0.2980769230769231|0.1826923076923076| 1.809633132040792|2.3827723168100983|            1|              0|             0|             0|               0|            0|               0|             0|                  0|                   0|             0|              0|            0|              12|              0|                                  0|                        0|     0.6153846153846154|       0|                   0|                     0|              0|                  0|                           0|              12|               0|                  0|                     0|                0|        0|                     0|          0|                   0|                   0|                         0|                  0|      3|   com|         0|                   5|            0|                  0|\n",
              "|aguasandinas.onli...|    1|  ALL-phishing-links|            0|             0|             0|            0|         0|            0|    118| 4.631289130086149|0.4682203389830508|0.1769067796610169|0.1853813559322034|0.2584745762711864|0.1694915254237288|1.8313588430749863| 2.375791621694029|            2|              0|             0|             0|              10|            0|               0|             0|                  0|                   0|             0|              0|            0|              57|             44|                                  0|                        0|     0.2627118644067797|       1|                   5|                     0|              7|                  0|                           0|              57|               0|                  0|                     1|                0|        0|                     0|          0|                   0|                   0|                         0|                  0|      3|   com|         0|                   8|           12|                  0|\n",
              "|tier-freizeitpark.de|    0|        dmoz_harvard|            0|             0|             0|            0|         0|            0|     20|3.3464393446710154|           0.49375|           0.13125|            0.2375|               0.3|           0.14375|1.8004413495138758| 2.388233956706961|            1|              0|             0|             0|               1|            0|               0|             0|                  0|                   0|             0|              0|            0|              18|              0|                                  0|                        0|                    0.6|       0|                   0|                     0|              0|                  0|                           0|              18|               0|                  0|                     0|                0|        0|                     0|          0|                   0|                   0|                         0|                  0|      2|    de|         0|                  12|            0|                  0|\n",
              "|             hwa.net|    0|        dmoz_harvard|            0|             0|             0|            0|         0|            0|      7|2.8073549220576046|0.5178571428571429|0.1071428571428571|0.2142857142857142|0.2678571428571428|0.1607142857142857|1.7544088886844642|  2.42317721090096|            1|              0|             0|             0|               0|            0|               0|             0|                  0|                   0|             0|              0|            0|               6|              0|                                  0|                        0|                    1.0|       0|                   0|                     0|              0|                  0|                           0|               6|               0|                  0|                     0|                0|        0|                     0|          0|                   0|                   0|                         0|                  0|      3|   net|         0|                   3|            0|                  0|\n",
              "|selbstmordgedanke...|    0|        dmoz_harvard|            0|             0|             0|            0|         0|            0|     23|3.8492239123906247|0.5434782608695652|0.1032608695652174| 0.217391304347826|0.2826086956521739|0.2010869565217391|1.7974281688799314|2.3274470429655207|            1|              0|             0|             0|               0|            0|               0|             0|                  0|                   0|             0|              0|            0|              22|              0|                                  0|                        0|     0.6956521739130435|       0|                   0|                     0|              0|                  0|                           0|              22|               0|                  0|                     0|                0|        0|                     0|          0|                   0|                   0|                         0|                  0|      4|  info|         0|                  12|            0|                  0|\n",
              "|i.webring.com/hub...|    0|data_clean_train_...|            0|             0|             0|            0|         0|            0|     32| 4.054229296672173|        0.54296875|         0.1015625|        0.20703125|        0.27734375|        0.19140625|1.7752185757422048|2.3874051534410268|            2|              0|             0|             0|               0|            0|               0|             0|                  0|                   0|             1|              1|            0|              27|              0|                                  0|                        0|                0.59375|       3|                   1|                     0|              0|                  0|                           0|              14|               0|                  0|                     0|                0|       14|                     1|          0|                   0|                   0|                         0|                  0|      3|   com|         0|                   3|            1|                  0|\n",
              "|         opusdei.org|    0|          alexatop1m|            0|             0|             0|            0|         0|            0|     11|3.2776134368191165|0.5568181818181818|0.1136363636363636|0.1931818181818181|0.2727272727272727|0.1931818181818181|1.7841958238482194| 2.331325217651333|            1|              0|             0|             0|               0|            0|               0|             0|                  0|                   0|             0|              0|            0|              10|              0|                                  0|                        0|     0.9090909090909092|       0|                   0|                     0|              0|                  0|                           0|              10|               0|                  0|                     0|                0|        0|                     0|          0|                   0|                   0|                         0|                  0|      3|   org|         0|                   5|            0|                  0|\n",
              "|cjyqyxnssq.duckdn...|    1|           phishtank|            0|             0|             0|            0|         0|            0|     23| 3.795088586397733|0.5597826086956522|0.1032608695652174|0.1847826086956521|0.2608695652173913|0.2065217391304348| 1.764083190154964|2.3254360194215424|            2|              0|             0|             0|               0|            0|               0|             0|                  0|                   0|             0|              0|            0|              20|              0|                                  0|                        0|     0.6521739130434783|       0|                   1|                     0|              0|                  0|                           0|              20|               0|                  0|                     0|                0|        0|                     0|          0|                   0|                   0|                         0|                  0|      3|   org|         0|                   4|           10|                  0|\n",
              "|akinsalortaokul.m...|    0|        dmoz_harvard|            0|             0|             0|            0|         0|            0|     26|3.8441065448145375|0.5240384615384616| 0.110576923076923|0.2163461538461538|0.2836538461538461|0.1826923076923076|1.7927887199323496| 2.344932991679105|            3|              0|             0|             0|               0|            0|               0|             0|                  0|                   0|             0|              0|            0|              21|              2|                                  0|                        0|     0.6153846153846154|       0|                   0|                     0|              0|                  0|                           0|              21|               0|                  0|                     0|                0|        0|                     0|          0|                   0|                   0|                         0|                  0|      6|k12.tr|         0|                   2|           15|                  0|\n",
              "+--------------------+-----+--------------------+-------------+--------------+--------------+-------------+----------+-------------+-------+------------------+------------------+------------------+------------------+------------------+------------------+------------------+------------------+-------------+---------------+--------------+--------------+----------------+-------------+----------------+--------------+-------------------+--------------------+--------------+---------------+-------------+----------------+---------------+-----------------------------------+-------------------------+-----------------------+--------+--------------------+----------------------+---------------+-------------------+----------------------------+----------------+----------------+-------------------+----------------------+-----------------+---------+----------------------+-----------+--------------------+--------------------+--------------------------+-------------------+-------+------+----------+--------------------+-------------+-------------------+\n",
              "only showing top 20 rows"
            ],
            "text/html": [
              "<table border='1'>\n",
              "<tr><th>url</th><th>label</th><th>data_source</th><th>url_has_login</th><th>url_has_client</th><th>url_has_server</th><th>url_has_admin</th><th>url_has_ip</th><th>url_isshorted</th><th>url_len</th><th>url_entropy</th><th>url_hamming_1</th><th>url_hamming_00</th><th>url_hamming_10</th><th>url_hamming_01</th><th>url_hamming_11</th><th>url_2bentropy</th><th>url_3bentropy</th><th>url_count_dot</th><th>url_count_https</th><th>url_count_http</th><th>url_count_perc</th><th>url_count_hyphen</th><th>url_count_www</th><th>url_count_atrate</th><th>url_count_hash</th><th>url_count_semicolon</th><th>url_count_underscore</th><th>url_count_ques</th><th>url_count_equal</th><th>url_count_amp</th><th>url_count_letter</th><th>url_count_digit</th><th>url_count_sensitive_financial_words</th><th>url_count_sensitive_words</th><th>url_nunique_chars_ratio</th><th>path_len</th><th>path_count_no_of_dir</th><th>path_count_no_of_embed</th><th>path_count_zero</th><th>path_count_pertwent</th><th>path_has_any_sensitive_words</th><th>path_count_lower</th><th>path_count_upper</th><th>path_count_nonascii</th><th>path_has_singlechardir</th><th>path_has_upperdir</th><th>query_len</th><th>query_count_components</th><th>pdomain_len</th><th>pdomain_count_hyphen</th><th>pdomain_count_atrate</th><th>pdomain_count_non_alphanum</th><th>pdomain_count_digit</th><th>tld_len</th><th>tld</th><th>tld_is_sus</th><th>pdomain_min_distance</th><th>subdomain_len</th><th>subdomain_count_dot</th></tr>\n",
              "<tr><td>spa-security.de</td><td>0</td><td>dmoz_harvard</td><td>0</td><td>0</td><td>0</td><td>0</td><td>0</td><td>0</td><td>15</td><td>3.640223928941852</td><td>0.5083333333333333</td><td>0.1416666666666666</td><td>0.2</td><td>0.2833333333333333</td><td>0.1583333333333333</td><td>1.8003115692558134</td><td>2.3993425283550898</td><td>1</td><td>0</td><td>0</td><td>0</td><td>1</td><td>0</td><td>0</td><td>0</td><td>0</td><td>0</td><td>0</td><td>0</td><td>0</td><td>13</td><td>0</td><td>0</td><td>0</td><td>0.8666666666666667</td><td>0</td><td>0</td><td>0</td><td>0</td><td>0</td><td>0</td><td>13</td><td>0</td><td>0</td><td>0</td><td>0</td><td>0</td><td>0</td><td>0</td><td>0</td><td>0</td><td>0</td><td>0</td><td>2</td><td>de</td><td>0</td><td>7</td><td>0</td><td>0</td></tr>\n",
              "<tr><td>mallander.de</td><td>0</td><td>majestic_million</td><td>0</td><td>0</td><td>0</td><td>0</td><td>0</td><td>0</td><td>12</td><td>2.9182958340544887</td><td>0.4791666666666667</td><td>0.1458333333333333</td><td>0.2291666666666666</td><td>0.28125</td><td>0.1666666666666666</td><td>1.837704275830528</td><td>2.3398850493643777</td><td>1</td><td>0</td><td>0</td><td>0</td><td>0</td><td>0</td><td>0</td><td>0</td><td>0</td><td>0</td><td>0</td><td>0</td><td>0</td><td>11</td><td>0</td><td>0</td><td>0</td><td>0.6666666666666666</td><td>0</td><td>0</td><td>0</td><td>0</td><td>0</td><td>0</td><td>11</td><td>0</td><td>0</td><td>0</td><td>0</td><td>0</td><td>0</td><td>0</td><td>0</td><td>0</td><td>0</td><td>0</td><td>2</td><td>de</td><td>0</td><td>3</td><td>0</td><td>0</td></tr>\n",
              "<tr><td>zzndb.com.cn</td><td>0</td><td>alexatop1m</td><td>0</td><td>0</td><td>0</td><td>0</td><td>0</td><td>0</td><td>12</td><td>2.9182958340544887</td><td>0.5520833333333334</td><td>0.0729166666666666</td><td>0.21875</td><td>0.2604166666666667</td><td>0.21875</td><td>1.740229209352982</td><td>2.3451616264274184</td><td>2</td><td>0</td><td>0</td><td>0</td><td>0</td><td>0</td><td>0</td><td>0</td><td>0</td><td>0</td><td>0</td><td>0</td><td>0</td><td>10</td><td>0</td><td>0</td><td>0</td><td>0.6666666666666666</td><td>0</td><td>0</td><td>0</td><td>0</td><td>0</td><td>0</td><td>10</td><td>0</td><td>0</td><td>0</td><td>0</td><td>0</td><td>0</td><td>0</td><td>0</td><td>0</td><td>0</td><td>0</td><td>6</td><td>com.cn</td><td>0</td><td>3</td><td>0</td><td>0</td></tr>\n",
              "<tr><td>enviroseal.com/</td><td>0</td><td>data_clean_train_...</td><td>0</td><td>0</td><td>0</td><td>0</td><td>0</td><td>0</td><td>15</td><td>3.640223928941851</td><td>0.5666666666666667</td><td>0.0916666666666666</td><td>0.2</td><td>0.2833333333333333</td><td>0.2166666666666666</td><td>1.773971579052594</td><td>2.3152780515091504</td><td>1</td><td>0</td><td>0</td><td>0</td><td>0</td><td>0</td><td>0</td><td>0</td><td>0</td><td>0</td><td>0</td><td>0</td><td>0</td><td>13</td><td>0</td><td>0</td><td>0</td><td>0.8666666666666667</td><td>0</td><td>1</td><td>0</td><td>0</td><td>0</td><td>0</td><td>13</td><td>0</td><td>0</td><td>0</td><td>0</td><td>0</td><td>0</td><td>0</td><td>0</td><td>0</td><td>0</td><td>0</td><td>3</td><td>com</td><td>0</td><td>6</td><td>0</td><td>0</td></tr>\n",
              "<tr><td>hunt1ngtonbank.3u...</td><td>1</td><td>ALL-phishing-domains</td><td>0</td><td>0</td><td>0</td><td>0</td><td>0</td><td>0</td><td>29</td><td>3.9353986674667634</td><td>0.5431034482758621</td><td>0.0948275862068965</td><td>0.2155172413793103</td><td>0.2844827586206897</td><td>0.1896551724137931</td><td>1.77028979705501</td><td>2.3611785267172025</td><td>2</td><td>0</td><td>0</td><td>0</td><td>0</td><td>0</td><td>0</td><td>0</td><td>0</td><td>0</td><td>0</td><td>0</td><td>0</td><td>25</td><td>2</td><td>1</td><td>0</td><td>0.6206896551724138</td><td>0</td><td>0</td><td>0</td><td>0</td><td>0</td><td>0</td><td>25</td><td>0</td><td>0</td><td>0</td><td>0</td><td>0</td><td>0</td><td>0</td><td>0</td><td>0</td><td>0</td><td>0</td><td>3</td><td>com</td><td>0</td><td>6</td><td>14</td><td>0</td></tr>\n",
              "<tr><td>augenblickstudios...</td><td>0</td><td>domcop</td><td>0</td><td>0</td><td>0</td><td>0</td><td>0</td><td>0</td><td>21</td><td>3.916126946588284</td><td>0.5535714285714286</td><td>0.0952380952380952</td><td>0.2023809523809524</td><td>0.2916666666666667</td><td>0.2023809523809524</td><td>1.7744640575173023</td><td>2.3391365535245803</td><td>1</td><td>0</td><td>0</td><td>0</td><td>0</td><td>0</td><td>0</td><td>0</td><td>0</td><td>0</td><td>0</td><td>0</td><td>0</td><td>20</td><td>0</td><td>0</td><td>0</td><td>0.7619047619047619</td><td>0</td><td>0</td><td>0</td><td>0</td><td>0</td><td>0</td><td>20</td><td>0</td><td>0</td><td>0</td><td>0</td><td>0</td><td>0</td><td>0</td><td>0</td><td>0</td><td>0</td><td>0</td><td>3</td><td>com</td><td>0</td><td>11</td><td>0</td><td>0</td></tr>\n",
              "<tr><td>semidiceviprima.i...</td><td>0</td><td>dmoz_harvard</td><td>0</td><td>0</td><td>0</td><td>0</td><td>0</td><td>0</td><td>33</td><td>3.67587110545754</td><td>0.5075757575757576</td><td>0.1212121212121212</td><td>0.2121212121212121</td><td>0.2916666666666667</td><td>0.178030303030303</td><td>1.8052705985091289</td><td>2.3844714280348995</td><td>2</td><td>0</td><td>0</td><td>0</td><td>0</td><td>0</td><td>0</td><td>0</td><td>0</td><td>0</td><td>0</td><td>0</td><td>0</td><td>31</td><td>0</td><td>0</td><td>0</td><td>0.4848484848484849</td><td>0</td><td>0</td><td>0</td><td>0</td><td>0</td><td>0</td><td>31</td><td>0</td><td>0</td><td>0</td><td>0</td><td>0</td><td>0</td><td>0</td><td>0</td><td>0</td><td>0</td><td>0</td><td>2</td><td>it</td><td>0</td><td>9</td><td>15</td><td>0</td></tr>\n",
              "<tr><td>nrgeology.blogspo...</td><td>0</td><td>domcop</td><td>0</td><td>0</td><td>0</td><td>0</td><td>0</td><td>1</td><td>25</td><td>3.7190795706241735</td><td>0.575</td><td>0.095</td><td>0.185</td><td>0.26</td><td>0.225</td><td>1.7624667253683075</td><td>2.291521260466533</td><td>3</td><td>0</td><td>0</td><td>0</td><td>0</td><td>0</td><td>0</td><td>0</td><td>0</td><td>0</td><td>0</td><td>0</td><td>0</td><td>22</td><td>0</td><td>0</td><td>0</td><td>0.64</td><td>0</td><td>0</td><td>0</td><td>0</td><td>0</td><td>0</td><td>22</td><td>0</td><td>0</td><td>0</td><td>0</td><td>0</td><td>0</td><td>0</td><td>0</td><td>0</td><td>0</td><td>0</td><td>6</td><td>com.au</td><td>0</td><td>0</td><td>9</td><td>0</td></tr>\n",
              "<tr><td>eng.uwo.ca/resear...</td><td>0</td><td>data_clean_train_...</td><td>0</td><td>0</td><td>0</td><td>0</td><td>0</td><td>0</td><td>33</td><td>4.104407755459852</td><td>0.5416666666666666</td><td>0.1098484848484848</td><td>0.2007575757575757</td><td>0.2803030303030303</td><td>0.1893939393939394</td><td>1.7840590798939917</td><td>2.370182935166288</td><td>2</td><td>0</td><td>0</td><td>0</td><td>0</td><td>0</td><td>0</td><td>0</td><td>0</td><td>0</td><td>0</td><td>0</td><td>0</td><td>28</td><td>0</td><td>0</td><td>0</td><td>0.5757575757575758</td><td>8</td><td>3</td><td>0</td><td>0</td><td>0</td><td>0</td><td>28</td><td>0</td><td>0</td><td>0</td><td>0</td><td>0</td><td>0</td><td>0</td><td>0</td><td>0</td><td>0</td><td>0</td><td>2</td><td>ca</td><td>0</td><td>2</td><td>3</td><td>0</td></tr>\n",
              "<tr><td>geocities.com/cri...</td><td>0</td><td>data_clean_train_...</td><td>0</td><td>0</td><td>0</td><td>0</td><td>0</td><td>0</td><td>21</td><td>3.3680424225727155</td><td>0.5833333333333334</td><td>0.0892857142857142</td><td>0.1845238095238095</td><td>0.2857142857142857</td><td>0.2261904761904762</td><td>1.7625179149119268</td><td>2.342399925463964</td><td>1</td><td>0</td><td>0</td><td>0</td><td>0</td><td>0</td><td>0</td><td>0</td><td>0</td><td>0</td><td>0</td><td>0</td><td>0</td><td>18</td><td>0</td><td>0</td><td>0</td><td>0.5714285714285714</td><td>6</td><td>2</td><td>0</td><td>0</td><td>0</td><td>0</td><td>18</td><td>0</td><td>0</td><td>0</td><td>0</td><td>0</td><td>0</td><td>0</td><td>0</td><td>0</td><td>0</td><td>0</td><td>3</td><td>com</td><td>0</td><td>5</td><td>0</td><td>0</td></tr>\n",
              "<tr><td>angelfire.com/rpg...</td><td>0</td><td>data_clean_train_...</td><td>0</td><td>0</td><td>0</td><td>0</td><td>0</td><td>0</td><td>35</td><td>3.668728288980288</td><td>0.5178571428571429</td><td>0.1285714285714285</td><td>0.2035714285714285</td><td>0.2678571428571428</td><td>0.1785714285714285</td><td>1.8008480555670068</td><td>2.3788105235890056</td><td>1</td><td>0</td><td>0</td><td>0</td><td>0</td><td>0</td><td>0</td><td>0</td><td>0</td><td>0</td><td>0</td><td>0</td><td>0</td><td>31</td><td>0</td><td>0</td><td>0</td><td>0.4285714285714285</td><td>3</td><td>3</td><td>0</td><td>0</td><td>0</td><td>0</td><td>31</td><td>0</td><td>0</td><td>0</td><td>0</td><td>0</td><td>0</td><td>0</td><td>0</td><td>0</td><td>0</td><td>0</td><td>3</td><td>com</td><td>0</td><td>5</td><td>0</td><td>0</td></tr>\n",
              "<tr><td>esspeedee.com</td><td>0</td><td>domcop</td><td>0</td><td>0</td><td>0</td><td>0</td><td>0</td><td>0</td><td>13</td><td>2.6535442970305683</td><td>0.5288461538461539</td><td>0.125</td><td>0.2019230769230769</td><td>0.2980769230769231</td><td>0.1826923076923076</td><td>1.809633132040792</td><td>2.3827723168100983</td><td>1</td><td>0</td><td>0</td><td>0</td><td>0</td><td>0</td><td>0</td><td>0</td><td>0</td><td>0</td><td>0</td><td>0</td><td>0</td><td>12</td><td>0</td><td>0</td><td>0</td><td>0.6153846153846154</td><td>0</td><td>0</td><td>0</td><td>0</td><td>0</td><td>0</td><td>12</td><td>0</td><td>0</td><td>0</td><td>0</td><td>0</td><td>0</td><td>0</td><td>0</td><td>0</td><td>0</td><td>0</td><td>3</td><td>com</td><td>0</td><td>5</td><td>0</td><td>0</td></tr>\n",
              "<tr><td>aguasandinas.onli...</td><td>1</td><td>ALL-phishing-links</td><td>0</td><td>0</td><td>0</td><td>0</td><td>0</td><td>0</td><td>118</td><td>4.631289130086149</td><td>0.4682203389830508</td><td>0.1769067796610169</td><td>0.1853813559322034</td><td>0.2584745762711864</td><td>0.1694915254237288</td><td>1.8313588430749863</td><td>2.375791621694029</td><td>2</td><td>0</td><td>0</td><td>0</td><td>10</td><td>0</td><td>0</td><td>0</td><td>0</td><td>0</td><td>0</td><td>0</td><td>0</td><td>57</td><td>44</td><td>0</td><td>0</td><td>0.2627118644067797</td><td>1</td><td>5</td><td>0</td><td>7</td><td>0</td><td>0</td><td>57</td><td>0</td><td>0</td><td>1</td><td>0</td><td>0</td><td>0</td><td>0</td><td>0</td><td>0</td><td>0</td><td>0</td><td>3</td><td>com</td><td>0</td><td>8</td><td>12</td><td>0</td></tr>\n",
              "<tr><td>tier-freizeitpark.de</td><td>0</td><td>dmoz_harvard</td><td>0</td><td>0</td><td>0</td><td>0</td><td>0</td><td>0</td><td>20</td><td>3.3464393446710154</td><td>0.49375</td><td>0.13125</td><td>0.2375</td><td>0.3</td><td>0.14375</td><td>1.8004413495138758</td><td>2.388233956706961</td><td>1</td><td>0</td><td>0</td><td>0</td><td>1</td><td>0</td><td>0</td><td>0</td><td>0</td><td>0</td><td>0</td><td>0</td><td>0</td><td>18</td><td>0</td><td>0</td><td>0</td><td>0.6</td><td>0</td><td>0</td><td>0</td><td>0</td><td>0</td><td>0</td><td>18</td><td>0</td><td>0</td><td>0</td><td>0</td><td>0</td><td>0</td><td>0</td><td>0</td><td>0</td><td>0</td><td>0</td><td>2</td><td>de</td><td>0</td><td>12</td><td>0</td><td>0</td></tr>\n",
              "<tr><td>hwa.net</td><td>0</td><td>dmoz_harvard</td><td>0</td><td>0</td><td>0</td><td>0</td><td>0</td><td>0</td><td>7</td><td>2.8073549220576046</td><td>0.5178571428571429</td><td>0.1071428571428571</td><td>0.2142857142857142</td><td>0.2678571428571428</td><td>0.1607142857142857</td><td>1.7544088886844642</td><td>2.42317721090096</td><td>1</td><td>0</td><td>0</td><td>0</td><td>0</td><td>0</td><td>0</td><td>0</td><td>0</td><td>0</td><td>0</td><td>0</td><td>0</td><td>6</td><td>0</td><td>0</td><td>0</td><td>1.0</td><td>0</td><td>0</td><td>0</td><td>0</td><td>0</td><td>0</td><td>6</td><td>0</td><td>0</td><td>0</td><td>0</td><td>0</td><td>0</td><td>0</td><td>0</td><td>0</td><td>0</td><td>0</td><td>3</td><td>net</td><td>0</td><td>3</td><td>0</td><td>0</td></tr>\n",
              "<tr><td>selbstmordgedanke...</td><td>0</td><td>dmoz_harvard</td><td>0</td><td>0</td><td>0</td><td>0</td><td>0</td><td>0</td><td>23</td><td>3.8492239123906247</td><td>0.5434782608695652</td><td>0.1032608695652174</td><td>0.217391304347826</td><td>0.2826086956521739</td><td>0.2010869565217391</td><td>1.7974281688799314</td><td>2.3274470429655207</td><td>1</td><td>0</td><td>0</td><td>0</td><td>0</td><td>0</td><td>0</td><td>0</td><td>0</td><td>0</td><td>0</td><td>0</td><td>0</td><td>22</td><td>0</td><td>0</td><td>0</td><td>0.6956521739130435</td><td>0</td><td>0</td><td>0</td><td>0</td><td>0</td><td>0</td><td>22</td><td>0</td><td>0</td><td>0</td><td>0</td><td>0</td><td>0</td><td>0</td><td>0</td><td>0</td><td>0</td><td>0</td><td>4</td><td>info</td><td>0</td><td>12</td><td>0</td><td>0</td></tr>\n",
              "<tr><td>i.webring.com/hub...</td><td>0</td><td>data_clean_train_...</td><td>0</td><td>0</td><td>0</td><td>0</td><td>0</td><td>0</td><td>32</td><td>4.054229296672173</td><td>0.54296875</td><td>0.1015625</td><td>0.20703125</td><td>0.27734375</td><td>0.19140625</td><td>1.7752185757422048</td><td>2.3874051534410268</td><td>2</td><td>0</td><td>0</td><td>0</td><td>0</td><td>0</td><td>0</td><td>0</td><td>0</td><td>0</td><td>1</td><td>1</td><td>0</td><td>27</td><td>0</td><td>0</td><td>0</td><td>0.59375</td><td>3</td><td>1</td><td>0</td><td>0</td><td>0</td><td>0</td><td>14</td><td>0</td><td>0</td><td>0</td><td>0</td><td>14</td><td>1</td><td>0</td><td>0</td><td>0</td><td>0</td><td>0</td><td>3</td><td>com</td><td>0</td><td>3</td><td>1</td><td>0</td></tr>\n",
              "<tr><td>opusdei.org</td><td>0</td><td>alexatop1m</td><td>0</td><td>0</td><td>0</td><td>0</td><td>0</td><td>0</td><td>11</td><td>3.2776134368191165</td><td>0.5568181818181818</td><td>0.1136363636363636</td><td>0.1931818181818181</td><td>0.2727272727272727</td><td>0.1931818181818181</td><td>1.7841958238482194</td><td>2.331325217651333</td><td>1</td><td>0</td><td>0</td><td>0</td><td>0</td><td>0</td><td>0</td><td>0</td><td>0</td><td>0</td><td>0</td><td>0</td><td>0</td><td>10</td><td>0</td><td>0</td><td>0</td><td>0.9090909090909092</td><td>0</td><td>0</td><td>0</td><td>0</td><td>0</td><td>0</td><td>10</td><td>0</td><td>0</td><td>0</td><td>0</td><td>0</td><td>0</td><td>0</td><td>0</td><td>0</td><td>0</td><td>0</td><td>3</td><td>org</td><td>0</td><td>5</td><td>0</td><td>0</td></tr>\n",
              "<tr><td>cjyqyxnssq.duckdn...</td><td>1</td><td>phishtank</td><td>0</td><td>0</td><td>0</td><td>0</td><td>0</td><td>0</td><td>23</td><td>3.795088586397733</td><td>0.5597826086956522</td><td>0.1032608695652174</td><td>0.1847826086956521</td><td>0.2608695652173913</td><td>0.2065217391304348</td><td>1.764083190154964</td><td>2.3254360194215424</td><td>2</td><td>0</td><td>0</td><td>0</td><td>0</td><td>0</td><td>0</td><td>0</td><td>0</td><td>0</td><td>0</td><td>0</td><td>0</td><td>20</td><td>0</td><td>0</td><td>0</td><td>0.6521739130434783</td><td>0</td><td>1</td><td>0</td><td>0</td><td>0</td><td>0</td><td>20</td><td>0</td><td>0</td><td>0</td><td>0</td><td>0</td><td>0</td><td>0</td><td>0</td><td>0</td><td>0</td><td>0</td><td>3</td><td>org</td><td>0</td><td>4</td><td>10</td><td>0</td></tr>\n",
              "<tr><td>akinsalortaokul.m...</td><td>0</td><td>dmoz_harvard</td><td>0</td><td>0</td><td>0</td><td>0</td><td>0</td><td>0</td><td>26</td><td>3.8441065448145375</td><td>0.5240384615384616</td><td>0.110576923076923</td><td>0.2163461538461538</td><td>0.2836538461538461</td><td>0.1826923076923076</td><td>1.7927887199323496</td><td>2.344932991679105</td><td>3</td><td>0</td><td>0</td><td>0</td><td>0</td><td>0</td><td>0</td><td>0</td><td>0</td><td>0</td><td>0</td><td>0</td><td>0</td><td>21</td><td>2</td><td>0</td><td>0</td><td>0.6153846153846154</td><td>0</td><td>0</td><td>0</td><td>0</td><td>0</td><td>0</td><td>21</td><td>0</td><td>0</td><td>0</td><td>0</td><td>0</td><td>0</td><td>0</td><td>0</td><td>0</td><td>0</td><td>0</td><td>6</td><td>k12.tr</td><td>0</td><td>2</td><td>15</td><td>0</td></tr>\n",
              "</table>\n",
              "only showing top 20 rows\n"
            ]
          },
          "metadata": {},
          "execution_count": 21
        }
      ],
      "source": [
        "#Rename the source colum into datasource\n",
        "renamed_data = md.withColumnRenamed('source', 'data_source')\n",
        "renamed_data"
      ]
    },
    {
      "cell_type": "code",
      "execution_count": null,
      "metadata": {
        "colab": {
          "base_uri": "https://localhost:8080/",
          "height": 1000
        },
        "id": "hgwE4lz01iqo",
        "outputId": "7de36b14-2cf2-4043-b36d-fa16ae04c710"
      },
      "outputs": [
        {
          "output_type": "execute_result",
          "data": {
            "text/plain": [
              "+--------------------+-----+------------------+-------------+--------------+--------------+-------------+----------+-------------+-------+------------------+------------------+------------------+------------------+------------------+------------------+------------------+------------------+-------------+---------------+--------------+--------------+----------------+-------------+----------------+--------------+-------------------+--------------------+--------------+---------------+-------------+----------------+---------------+-----------------------------------+-------------------------+-----------------------+--------+--------------------+----------------------+---------------+-------------------+----------------------------+----------------+----------------+-------------------+----------------------+-----------------+---------+----------------------+-----------+--------------------+--------------------+--------------------------+-------------------+-------+---+----------+--------------------+-------------+-------------------+\n",
              "|                 url|label|            source|url_has_login|url_has_client|url_has_server|url_has_admin|url_has_ip|url_isshorted|url_len|       url_entropy|     url_hamming_1|    url_hamming_00|    url_hamming_10|    url_hamming_01|    url_hamming_11|     url_2bentropy|     url_3bentropy|url_count_dot|url_count_https|url_count_http|url_count_perc|url_count_hyphen|url_count_www|url_count_atrate|url_count_hash|url_count_semicolon|url_count_underscore|url_count_ques|url_count_equal|url_count_amp|url_count_letter|url_count_digit|url_count_sensitive_financial_words|url_count_sensitive_words|url_nunique_chars_ratio|path_len|path_count_no_of_dir|path_count_no_of_embed|path_count_zero|path_count_pertwent|path_has_any_sensitive_words|path_count_lower|path_count_upper|path_count_nonascii|path_has_singlechardir|path_has_upperdir|query_len|query_count_components|pdomain_len|pdomain_count_hyphen|pdomain_count_atrate|pdomain_count_non_alphanum|pdomain_count_digit|tld_len|tld|tld_is_sus|pdomain_min_distance|subdomain_len|subdomain_count_dot|\n",
              "+--------------------+-----+------------------+-------------+--------------+--------------+-------------+----------+-------------+-------+------------------+------------------+------------------+------------------+------------------+------------------+------------------+------------------+-------------+---------------+--------------+--------------+----------------+-------------+----------------+--------------+-------------------+--------------------+--------------+---------------+-------------+----------------+---------------+-----------------------------------+-------------------------+-----------------------+--------+--------------------+----------------------+---------------+-------------------+----------------------------+----------------+----------------+-------------------+----------------------+-----------------+---------+----------------------+-----------+--------------------+--------------------+--------------------------+-------------------+-------+---+----------+--------------------+-------------+-------------------+\n",
              "|hpnepgnmwrgdrrsds...|    1|ALL-phishing-links|            0|             0|             0|            0|         0|            1|   8250|0.0906171263953764|0.5001212121212121|0.2492575757575757|0.1254696969696969|0.2499848484848485|0.1254696969696969|1.7510365864048048|  2.01457434653824|            5|              0|             0|             0|               0|            0|               0|             0|                  0|                   0|             0|              0|            0|              41|             11|                                  0|                        0|     0.0032727272727272|    8192|                   1|                     0|              0|                  0|                           0|              41|               0|                  0|                     0|                0|        0|                     0|          0|                   0|                   0|                         0|                  0|      3|com|         0|                   4|           45|                  3|\n",
              "|hpnepgnmwrgdrrsds...|    1|ALL-phishing-links|            0|             0|             0|            0|         0|            1|   7990|0.0932293061123572| 0.500125156445557|0.2492334167709637|0.1254849812265331|0.2499843554443054|0.1254849812265331|1.7510701787243776| 2.014975388134592|            5|              0|             0|             0|               0|            0|               0|             0|                  0|                   0|             0|              0|            0|              41|             11|                                  0|                        0|     0.0033792240300375|    7932|                   1|                     0|              0|                  0|                           0|              41|               0|                  0|                     0|                0|        0|                     0|          0|                   0|                   0|                         0|                  0|      3|com|         0|                   4|           45|                  3|\n",
              "|sg-stamps.com/__m...|    1|ALL-phishing-links|            0|             0|             0|            0|         0|            0|   5127|  4.05335832053642|0.5009020869904428|0.1510386190754827|0.1999463623951628|0.2723815096547689|0.1718597620440803| 1.823935068888359| 2.360207787965402|            2|              0|             0|           536|               1|            0|               0|             0|                  0|                 136|             0|              0|            0|            3244|           1072|                                  0|                      134|     0.0050711917300565|       8|                 136|                     0|            536|                536|                           1|            3134|             110|                  0|                     0|                0|        0|                     0|          0|                   0|                   0|                         0|                  0|      3|com|         0|                   6|            0|                  0|\n",
              "|sg-stamps.com/__m...|    1|ALL-phishing-links|            0|             0|             0|            0|         0|            0|   4633| 4.055420457131857|0.5024552126052234|0.1510090654003885|0.1984135549320095|0.2708558169652493|0.1734027627886898|1.8235568526937456| 2.361799735899853|            2|              0|             0|           484|               1|            0|               0|             0|                  0|                 123|             0|              0|            0|            2932|            968|                                  0|                      121|     0.0056119145262249|       8|                 123|                     0|            484|                484|                           1|            2889|              43|                  0|                     0|                0|        0|                     0|          0|                   0|                   0|                         0|                  0|      3|com|         0|                   6|            0|                  0|\n",
              "|sg-stamps.com/__m...|    1|ALL-phishing-links|            0|             0|             0|            0|         0|            0|   4557| 4.055773705313026|0.5030447662936142|0.1510039499670836|0.1978275181040158|0.2702710116304586|0.1739905639675225| 1.823404201644249|2.3623523536222835|            2|              0|             0|           476|               1|            0|               0|             0|                  0|                 121|             0|              0|            0|            2884|            952|                                  0|                      119|     0.0057055080096554|       8|                 121|                     0|            476|                476|                           1|            2863|              21|                  0|                     0|                0|        0|                     0|          0|                   0|                   0|                         0|                  0|      3|com|         0|                   6|            0|                  0|\n",
              "|sg-stamps.com/__m...|    1|ALL-phishing-links|            0|             0|             0|            0|         0|            0|   4519| 4.055954380145926|0.5010234565169285|0.1510013277273733|0.1998506306705023|0.2722947554768754| 0.171968355830936|1.8238844774872511|2.3603256752283763|            2|              0|             0|           472|               1|            0|               0|             0|                  0|                 120|             0|              0|            0|            2860|            944|                                  0|                      118|     0.0057534852843549|       8|                 120|                     0|            472|                472|                           1|            2766|              94|                  0|                     0|                0|        0|                     0|          0|                   0|                   0|                         0|                  0|      3|com|         0|                   6|            0|                  0|\n",
              "|sg-stamps.com/__m...|    1|ALL-phishing-links|            0|             0|             0|            0|         0|            0|   4443|4.0563241542079975|0.5019975241953635| 0.150995948683322|0.1988802610848525| 0.271325680846275|0.1729405806887238|1.8236594655037648|2.3613446492552432|            2|              0|             0|           464|               1|            0|               0|             0|                  0|                 118|             0|              0|            0|            2812|            928|                                  0|                      116|     0.0058519018681071|       8|                 118|                     0|            464|                464|                           1|            2754|              58|                  0|                     0|                0|        0|                     0|          0|                   0|                   0|                         0|                  0|      3|com|         0|                   6|            0|                  0|\n",
              "|sg-stamps.com/__m...|    1|ALL-phishing-links|            0|             0|             0|            0|         0|            0|   4405| 4.056513388917342| 0.501049943246311|0.1509931895573212|0.1998297389330306|0.2722758229284903|0.1719920544835414| 1.823873407805875| 2.360351302415625|            2|              0|             0|           460|               1|            0|               0|             0|                  0|                 117|             0|              0|            0|            2788|            920|                                  0|                      115|     0.0059023836549375|       8|                 117|                     0|            460|                460|                           1|            2697|              91|                  0|                     0|                0|        0|                     0|          0|                   0|                   0|                         0|                  0|      3|com|         0|                   6|            0|                  0|\n",
              "|hpnepgnmwrgdrrsds...|    1|ALL-phishing-links|            0|             0|             0|            0|         0|            1|   4024|0.1707768053603943|0.5002485089463221|0.2484778827037773| 0.125962972166998|0.2499689363817097| 0.125962972166998|1.7521163105647932|2.0266166244527097|            5|              0|             0|             0|               0|            0|               0|             0|                  0|                   0|             0|              0|            0|              41|             11|                                  0|                        0|     0.0067097415506958|    3966|                   1|                     0|              0|                  0|                           0|              41|               0|                  0|                     0|                0|        0|                     0|          0|                   0|                   0|                         0|                  0|      3|com|         0|                   4|           45|                  3|\n",
              "|sg-stamps.com/__m...|    1|ALL-phishing-links|            0|             0|             0|            0|         0|            0|   3835|4.0597571152844845|0.5025749674054759|0.1509452411994785|0.1983376792698826|0.2707953063885267|0.1735006518904824|1.8234866821655928|2.3618965640204146|            2|              0|             0|           400|               1|            0|               0|             0|                  0|                 102|             0|              0|            0|            2428|            800|                                  0|                      100|     0.0067796610169491|       8|                 102|                     0|            400|                400|                           1|            2394|              34|                  0|                     0|                0|        0|                     0|          0|                   0|                   0|                         0|                  0|      3|com|         0|                   6|            0|                  0|\n",
              "|sg-stamps.com/__m...|    1|ALL-phishing-links|            0|             0|             0|            0|         0|            0|   3759| 4.060256690448059|0.5036911412609737|0.1509377494014365|0.1972266560255387|0.2696860867251929|0.1746142591114658| 1.823191068918288| 2.362911833715519|            2|              0|             0|           392|               1|            0|               0|             0|                  0|                 100|             0|              0|            0|            2380|            784|                                  0|                       98|     0.0066507049747273|       8|                 100|                     0|            392|                392|                           1|            2380|               0|                  0|                     0|                0|        0|                     0|          0|                   0|                   0|                         0|                  0|      3|com|         0|                   6|            0|                  0|\n",
              "|sg-stamps.com/__m...|    1|ALL-phishing-links|            0|             0|             0|            0|         0|            0|   3607| 4.061312890289711|0.5024604934848905|0.1509218186858885|0.1984682561685611|0.2709315220404768|0.1733781535902412|1.8235001702836715| 2.361779204300585|            2|              0|             0|           376|               1|            0|               0|             0|                  0|                  96|             0|              0|            0|            2284|            752|                                  0|                       94|     0.0072082062655946|       8|                  96|                     0|            376|                376|                           1|            2248|              36|                  0|                     0|                0|        0|                     0|          0|                   0|                   0|                         0|                  0|      3|com|         0|                   6|            0|                  0|\n",
              "|sg-stamps.com/__m...|    1|ALL-phishing-links|            0|             0|             0|            0|         0|            0|   3607| 4.061312890289712|0.5030149708899362|0.1509218186858885|0.1979137787635153|0.2703770446354311|0.1739326309952869|1.8233603767843425|2.3623043339589467|            2|              0|             0|           376|               1|            0|               0|             0|                  0|                  96|             0|              0|            0|            2284|            752|                                  0|                       94|     0.0072082062655946|       8|                  96|                     0|            376|                376|                           1|            2264|              20|                  0|                     0|                0|        0|                     0|          0|                   0|                   0|                         0|                  0|      3|com|         0|                   6|            0|                  0|\n",
              "|sg-stamps.com/__m...|    1|ALL-phishing-links|            0|             0|             0|            0|         0|            0|   3569|  4.06158964746992|0.5012958811992154|0.1509176239843093|0.1996357523115718| 0.272100028019053|0.1722121042308769|1.8237701258751395|  2.36058755589424|            2|              0|             0|           372|               1|            0|               0|             0|                  0|                  95|             0|              0|            0|            2260|            744|                                  0|                       93|     0.0072849537685626|       8|                  95|                     0|            372|                372|                           1|            2191|              69|                  0|                     0|                0|        0|                     0|          0|                   0|                   0|                         0|                  0|      3|com|         0|                   6|            0|                  0|\n",
              "|sg-stamps.com/__m...|    1|ALL-phishing-links|            0|             0|             0|            0|         0|            0|   3531|4.0618717921606455|0.5030798640611724|0.1509133389974511|0.1978547153780798|0.2703200226564713| 0.173994619088077|1.8233382732674488| 2.362361906436135|            2|              0|             0|           368|               1|            0|               0|             0|                  0|                  94|             0|              0|            0|            2236|            736|                                  0|                       92|     0.0073633531577456|       8|                  94|                     0|            368|                368|                           1|            2218|              18|                  0|                     0|                0|        0|                     0|          0|                   0|                   0|                         0|                  0|      3|com|         0|                   6|            0|                  0|\n",
              "|sg-stamps.com/__m...|    1|ALL-phishing-links|            0|             0|             0|            0|         0|            0|   3531|4.0618717921606455|0.5013098272444066|0.1509133389974511|0.1996247521948456| 0.272090059473237|0.1722245822713112|1.8237642423703069| 2.360600860658209|            2|              0|             0|           368|               1|            0|               0|             0|                  0|                  94|             0|              0|            0|            2236|            736|                                  0|                       92|     0.0073633531577456|       8|                  94|                     0|            368|                368|                           1|            2168|              68|                  0|                     0|                0|        0|                     0|          0|                   0|                   0|                         0|                  0|      3|com|         0|                   6|            0|                  0|\n",
              "|sg-stamps.com/__m...|    1|ALL-phishing-links|            0|             0|             0|            0|         0|            0|   3493|  4.06215948758785|0.5032565130260521|0.1509089607787002|0.1976810764385914|0.2701474377326081|0.1741697681076438|1.8232894267820816| 2.362521660025647|            2|              0|             0|           364|               1|            0|               0|             0|                  0|                  93|             0|              0|            0|            2212|            728|                                  0|                       91|     0.0074434583452619|       8|                  93|                     0|            364|                364|                           1|            2199|              13|                  0|                     0|                0|        0|                     0|          0|                   0|                   0|                         0|                  0|      3|com|         0|                   6|            0|                  0|\n",
              "|sg-stamps.com/__m...|    1|ALL-phishing-links|            0|             0|             0|            0|         0|            0|   3417| 4.062752217700953|0.5031826163301142|0.1508999122036874|0.1977611940298507|0.2702297336845186|0.1740927714369329|  1.82330312032648|2.3624524720895907|            2|              0|             0|           356|               1|            0|               0|             0|                  0|                  91|             0|              0|            0|            2164|            712|                                  0|                       89|     0.0076090137547556|       8|                  91|                     0|            356|                356|                           1|            2149|              15|                  0|                     0|                0|        0|                     0|          0|                   0|                   0|                         0|                  0|      3|com|         0|                   6|            0|                  0|\n",
              "|sg-stamps.com/__m...|    1|ALL-phishing-links|            0|             0|             0|            0|         0|            0|   3303| 4.063687432349647|0.5026869512564336|0.1508855585831062|0.1982667272176809|0.2707387223735997|0.1735921889191644|1.8234209021827976|2.3619866393605315|            2|              0|             0|           344|               1|            0|               0|             0|                  0|                  88|             0|              0|            0|            2092|            688|                                  0|                       86|     0.0078716318498334|       8|                  88|                     0|            344|                344|                           1|            2064|              28|                  0|                     0|                0|        0|                     0|          0|                   0|                   0|                         0|                  0|      3|com|         0|                   6|            0|                  0|\n",
              "|sg-stamps.com/__m...|    1|ALL-phishing-links|            0|             0|             0|            0|         0|            0|   3265| 4.064012264673731| 0.501416539050536|0.1508805513016845|0.1995405819295559|0.2720137825421133|0.1723200612557427| 1.823719127829088| 2.360702338394616|            2|              0|             0|           340|               1|            0|               0|             0|                  0|                  87|             0|              0|            0|            2068|            680|                                  0|                       85|     0.0079632465543644|       8|                  87|                     0|            340|                340|                           1|            2007|              61|                  0|                     0|                0|        0|                     0|          0|                   0|                   0|                         0|                  0|      3|com|         0|                   6|            0|                  0|\n",
              "+--------------------+-----+------------------+-------------+--------------+--------------+-------------+----------+-------------+-------+------------------+------------------+------------------+------------------+------------------+------------------+------------------+------------------+-------------+---------------+--------------+--------------+----------------+-------------+----------------+--------------+-------------------+--------------------+--------------+---------------+-------------+----------------+---------------+-----------------------------------+-------------------------+-----------------------+--------+--------------------+----------------------+---------------+-------------------+----------------------------+----------------+----------------+-------------------+----------------------+-----------------+---------+----------------------+-----------+--------------------+--------------------+--------------------------+-------------------+-------+---+----------+--------------------+-------------+-------------------+\n",
              "only showing top 20 rows"
            ],
            "text/html": [
              "<table border='1'>\n",
              "<tr><th>url</th><th>label</th><th>source</th><th>url_has_login</th><th>url_has_client</th><th>url_has_server</th><th>url_has_admin</th><th>url_has_ip</th><th>url_isshorted</th><th>url_len</th><th>url_entropy</th><th>url_hamming_1</th><th>url_hamming_00</th><th>url_hamming_10</th><th>url_hamming_01</th><th>url_hamming_11</th><th>url_2bentropy</th><th>url_3bentropy</th><th>url_count_dot</th><th>url_count_https</th><th>url_count_http</th><th>url_count_perc</th><th>url_count_hyphen</th><th>url_count_www</th><th>url_count_atrate</th><th>url_count_hash</th><th>url_count_semicolon</th><th>url_count_underscore</th><th>url_count_ques</th><th>url_count_equal</th><th>url_count_amp</th><th>url_count_letter</th><th>url_count_digit</th><th>url_count_sensitive_financial_words</th><th>url_count_sensitive_words</th><th>url_nunique_chars_ratio</th><th>path_len</th><th>path_count_no_of_dir</th><th>path_count_no_of_embed</th><th>path_count_zero</th><th>path_count_pertwent</th><th>path_has_any_sensitive_words</th><th>path_count_lower</th><th>path_count_upper</th><th>path_count_nonascii</th><th>path_has_singlechardir</th><th>path_has_upperdir</th><th>query_len</th><th>query_count_components</th><th>pdomain_len</th><th>pdomain_count_hyphen</th><th>pdomain_count_atrate</th><th>pdomain_count_non_alphanum</th><th>pdomain_count_digit</th><th>tld_len</th><th>tld</th><th>tld_is_sus</th><th>pdomain_min_distance</th><th>subdomain_len</th><th>subdomain_count_dot</th></tr>\n",
              "<tr><td>hpnepgnmwrgdrrsds...</td><td>1</td><td>ALL-phishing-links</td><td>0</td><td>0</td><td>0</td><td>0</td><td>0</td><td>1</td><td>8250</td><td>0.0906171263953764</td><td>0.5001212121212121</td><td>0.2492575757575757</td><td>0.1254696969696969</td><td>0.2499848484848485</td><td>0.1254696969696969</td><td>1.7510365864048048</td><td>2.01457434653824</td><td>5</td><td>0</td><td>0</td><td>0</td><td>0</td><td>0</td><td>0</td><td>0</td><td>0</td><td>0</td><td>0</td><td>0</td><td>0</td><td>41</td><td>11</td><td>0</td><td>0</td><td>0.0032727272727272</td><td>8192</td><td>1</td><td>0</td><td>0</td><td>0</td><td>0</td><td>41</td><td>0</td><td>0</td><td>0</td><td>0</td><td>0</td><td>0</td><td>0</td><td>0</td><td>0</td><td>0</td><td>0</td><td>3</td><td>com</td><td>0</td><td>4</td><td>45</td><td>3</td></tr>\n",
              "<tr><td>hpnepgnmwrgdrrsds...</td><td>1</td><td>ALL-phishing-links</td><td>0</td><td>0</td><td>0</td><td>0</td><td>0</td><td>1</td><td>7990</td><td>0.0932293061123572</td><td>0.500125156445557</td><td>0.2492334167709637</td><td>0.1254849812265331</td><td>0.2499843554443054</td><td>0.1254849812265331</td><td>1.7510701787243776</td><td>2.014975388134592</td><td>5</td><td>0</td><td>0</td><td>0</td><td>0</td><td>0</td><td>0</td><td>0</td><td>0</td><td>0</td><td>0</td><td>0</td><td>0</td><td>41</td><td>11</td><td>0</td><td>0</td><td>0.0033792240300375</td><td>7932</td><td>1</td><td>0</td><td>0</td><td>0</td><td>0</td><td>41</td><td>0</td><td>0</td><td>0</td><td>0</td><td>0</td><td>0</td><td>0</td><td>0</td><td>0</td><td>0</td><td>0</td><td>3</td><td>com</td><td>0</td><td>4</td><td>45</td><td>3</td></tr>\n",
              "<tr><td>sg-stamps.com/__m...</td><td>1</td><td>ALL-phishing-links</td><td>0</td><td>0</td><td>0</td><td>0</td><td>0</td><td>0</td><td>5127</td><td>4.05335832053642</td><td>0.5009020869904428</td><td>0.1510386190754827</td><td>0.1999463623951628</td><td>0.2723815096547689</td><td>0.1718597620440803</td><td>1.823935068888359</td><td>2.360207787965402</td><td>2</td><td>0</td><td>0</td><td>536</td><td>1</td><td>0</td><td>0</td><td>0</td><td>0</td><td>136</td><td>0</td><td>0</td><td>0</td><td>3244</td><td>1072</td><td>0</td><td>134</td><td>0.0050711917300565</td><td>8</td><td>136</td><td>0</td><td>536</td><td>536</td><td>1</td><td>3134</td><td>110</td><td>0</td><td>0</td><td>0</td><td>0</td><td>0</td><td>0</td><td>0</td><td>0</td><td>0</td><td>0</td><td>3</td><td>com</td><td>0</td><td>6</td><td>0</td><td>0</td></tr>\n",
              "<tr><td>sg-stamps.com/__m...</td><td>1</td><td>ALL-phishing-links</td><td>0</td><td>0</td><td>0</td><td>0</td><td>0</td><td>0</td><td>4633</td><td>4.055420457131857</td><td>0.5024552126052234</td><td>0.1510090654003885</td><td>0.1984135549320095</td><td>0.2708558169652493</td><td>0.1734027627886898</td><td>1.8235568526937456</td><td>2.361799735899853</td><td>2</td><td>0</td><td>0</td><td>484</td><td>1</td><td>0</td><td>0</td><td>0</td><td>0</td><td>123</td><td>0</td><td>0</td><td>0</td><td>2932</td><td>968</td><td>0</td><td>121</td><td>0.0056119145262249</td><td>8</td><td>123</td><td>0</td><td>484</td><td>484</td><td>1</td><td>2889</td><td>43</td><td>0</td><td>0</td><td>0</td><td>0</td><td>0</td><td>0</td><td>0</td><td>0</td><td>0</td><td>0</td><td>3</td><td>com</td><td>0</td><td>6</td><td>0</td><td>0</td></tr>\n",
              "<tr><td>sg-stamps.com/__m...</td><td>1</td><td>ALL-phishing-links</td><td>0</td><td>0</td><td>0</td><td>0</td><td>0</td><td>0</td><td>4557</td><td>4.055773705313026</td><td>0.5030447662936142</td><td>0.1510039499670836</td><td>0.1978275181040158</td><td>0.2702710116304586</td><td>0.1739905639675225</td><td>1.823404201644249</td><td>2.3623523536222835</td><td>2</td><td>0</td><td>0</td><td>476</td><td>1</td><td>0</td><td>0</td><td>0</td><td>0</td><td>121</td><td>0</td><td>0</td><td>0</td><td>2884</td><td>952</td><td>0</td><td>119</td><td>0.0057055080096554</td><td>8</td><td>121</td><td>0</td><td>476</td><td>476</td><td>1</td><td>2863</td><td>21</td><td>0</td><td>0</td><td>0</td><td>0</td><td>0</td><td>0</td><td>0</td><td>0</td><td>0</td><td>0</td><td>3</td><td>com</td><td>0</td><td>6</td><td>0</td><td>0</td></tr>\n",
              "<tr><td>sg-stamps.com/__m...</td><td>1</td><td>ALL-phishing-links</td><td>0</td><td>0</td><td>0</td><td>0</td><td>0</td><td>0</td><td>4519</td><td>4.055954380145926</td><td>0.5010234565169285</td><td>0.1510013277273733</td><td>0.1998506306705023</td><td>0.2722947554768754</td><td>0.171968355830936</td><td>1.8238844774872511</td><td>2.3603256752283763</td><td>2</td><td>0</td><td>0</td><td>472</td><td>1</td><td>0</td><td>0</td><td>0</td><td>0</td><td>120</td><td>0</td><td>0</td><td>0</td><td>2860</td><td>944</td><td>0</td><td>118</td><td>0.0057534852843549</td><td>8</td><td>120</td><td>0</td><td>472</td><td>472</td><td>1</td><td>2766</td><td>94</td><td>0</td><td>0</td><td>0</td><td>0</td><td>0</td><td>0</td><td>0</td><td>0</td><td>0</td><td>0</td><td>3</td><td>com</td><td>0</td><td>6</td><td>0</td><td>0</td></tr>\n",
              "<tr><td>sg-stamps.com/__m...</td><td>1</td><td>ALL-phishing-links</td><td>0</td><td>0</td><td>0</td><td>0</td><td>0</td><td>0</td><td>4443</td><td>4.0563241542079975</td><td>0.5019975241953635</td><td>0.150995948683322</td><td>0.1988802610848525</td><td>0.271325680846275</td><td>0.1729405806887238</td><td>1.8236594655037648</td><td>2.3613446492552432</td><td>2</td><td>0</td><td>0</td><td>464</td><td>1</td><td>0</td><td>0</td><td>0</td><td>0</td><td>118</td><td>0</td><td>0</td><td>0</td><td>2812</td><td>928</td><td>0</td><td>116</td><td>0.0058519018681071</td><td>8</td><td>118</td><td>0</td><td>464</td><td>464</td><td>1</td><td>2754</td><td>58</td><td>0</td><td>0</td><td>0</td><td>0</td><td>0</td><td>0</td><td>0</td><td>0</td><td>0</td><td>0</td><td>3</td><td>com</td><td>0</td><td>6</td><td>0</td><td>0</td></tr>\n",
              "<tr><td>sg-stamps.com/__m...</td><td>1</td><td>ALL-phishing-links</td><td>0</td><td>0</td><td>0</td><td>0</td><td>0</td><td>0</td><td>4405</td><td>4.056513388917342</td><td>0.501049943246311</td><td>0.1509931895573212</td><td>0.1998297389330306</td><td>0.2722758229284903</td><td>0.1719920544835414</td><td>1.823873407805875</td><td>2.360351302415625</td><td>2</td><td>0</td><td>0</td><td>460</td><td>1</td><td>0</td><td>0</td><td>0</td><td>0</td><td>117</td><td>0</td><td>0</td><td>0</td><td>2788</td><td>920</td><td>0</td><td>115</td><td>0.0059023836549375</td><td>8</td><td>117</td><td>0</td><td>460</td><td>460</td><td>1</td><td>2697</td><td>91</td><td>0</td><td>0</td><td>0</td><td>0</td><td>0</td><td>0</td><td>0</td><td>0</td><td>0</td><td>0</td><td>3</td><td>com</td><td>0</td><td>6</td><td>0</td><td>0</td></tr>\n",
              "<tr><td>hpnepgnmwrgdrrsds...</td><td>1</td><td>ALL-phishing-links</td><td>0</td><td>0</td><td>0</td><td>0</td><td>0</td><td>1</td><td>4024</td><td>0.1707768053603943</td><td>0.5002485089463221</td><td>0.2484778827037773</td><td>0.125962972166998</td><td>0.2499689363817097</td><td>0.125962972166998</td><td>1.7521163105647932</td><td>2.0266166244527097</td><td>5</td><td>0</td><td>0</td><td>0</td><td>0</td><td>0</td><td>0</td><td>0</td><td>0</td><td>0</td><td>0</td><td>0</td><td>0</td><td>41</td><td>11</td><td>0</td><td>0</td><td>0.0067097415506958</td><td>3966</td><td>1</td><td>0</td><td>0</td><td>0</td><td>0</td><td>41</td><td>0</td><td>0</td><td>0</td><td>0</td><td>0</td><td>0</td><td>0</td><td>0</td><td>0</td><td>0</td><td>0</td><td>3</td><td>com</td><td>0</td><td>4</td><td>45</td><td>3</td></tr>\n",
              "<tr><td>sg-stamps.com/__m...</td><td>1</td><td>ALL-phishing-links</td><td>0</td><td>0</td><td>0</td><td>0</td><td>0</td><td>0</td><td>3835</td><td>4.0597571152844845</td><td>0.5025749674054759</td><td>0.1509452411994785</td><td>0.1983376792698826</td><td>0.2707953063885267</td><td>0.1735006518904824</td><td>1.8234866821655928</td><td>2.3618965640204146</td><td>2</td><td>0</td><td>0</td><td>400</td><td>1</td><td>0</td><td>0</td><td>0</td><td>0</td><td>102</td><td>0</td><td>0</td><td>0</td><td>2428</td><td>800</td><td>0</td><td>100</td><td>0.0067796610169491</td><td>8</td><td>102</td><td>0</td><td>400</td><td>400</td><td>1</td><td>2394</td><td>34</td><td>0</td><td>0</td><td>0</td><td>0</td><td>0</td><td>0</td><td>0</td><td>0</td><td>0</td><td>0</td><td>3</td><td>com</td><td>0</td><td>6</td><td>0</td><td>0</td></tr>\n",
              "<tr><td>sg-stamps.com/__m...</td><td>1</td><td>ALL-phishing-links</td><td>0</td><td>0</td><td>0</td><td>0</td><td>0</td><td>0</td><td>3759</td><td>4.060256690448059</td><td>0.5036911412609737</td><td>0.1509377494014365</td><td>0.1972266560255387</td><td>0.2696860867251929</td><td>0.1746142591114658</td><td>1.823191068918288</td><td>2.362911833715519</td><td>2</td><td>0</td><td>0</td><td>392</td><td>1</td><td>0</td><td>0</td><td>0</td><td>0</td><td>100</td><td>0</td><td>0</td><td>0</td><td>2380</td><td>784</td><td>0</td><td>98</td><td>0.0066507049747273</td><td>8</td><td>100</td><td>0</td><td>392</td><td>392</td><td>1</td><td>2380</td><td>0</td><td>0</td><td>0</td><td>0</td><td>0</td><td>0</td><td>0</td><td>0</td><td>0</td><td>0</td><td>0</td><td>3</td><td>com</td><td>0</td><td>6</td><td>0</td><td>0</td></tr>\n",
              "<tr><td>sg-stamps.com/__m...</td><td>1</td><td>ALL-phishing-links</td><td>0</td><td>0</td><td>0</td><td>0</td><td>0</td><td>0</td><td>3607</td><td>4.061312890289711</td><td>0.5024604934848905</td><td>0.1509218186858885</td><td>0.1984682561685611</td><td>0.2709315220404768</td><td>0.1733781535902412</td><td>1.8235001702836715</td><td>2.361779204300585</td><td>2</td><td>0</td><td>0</td><td>376</td><td>1</td><td>0</td><td>0</td><td>0</td><td>0</td><td>96</td><td>0</td><td>0</td><td>0</td><td>2284</td><td>752</td><td>0</td><td>94</td><td>0.0072082062655946</td><td>8</td><td>96</td><td>0</td><td>376</td><td>376</td><td>1</td><td>2248</td><td>36</td><td>0</td><td>0</td><td>0</td><td>0</td><td>0</td><td>0</td><td>0</td><td>0</td><td>0</td><td>0</td><td>3</td><td>com</td><td>0</td><td>6</td><td>0</td><td>0</td></tr>\n",
              "<tr><td>sg-stamps.com/__m...</td><td>1</td><td>ALL-phishing-links</td><td>0</td><td>0</td><td>0</td><td>0</td><td>0</td><td>0</td><td>3607</td><td>4.061312890289712</td><td>0.5030149708899362</td><td>0.1509218186858885</td><td>0.1979137787635153</td><td>0.2703770446354311</td><td>0.1739326309952869</td><td>1.8233603767843425</td><td>2.3623043339589467</td><td>2</td><td>0</td><td>0</td><td>376</td><td>1</td><td>0</td><td>0</td><td>0</td><td>0</td><td>96</td><td>0</td><td>0</td><td>0</td><td>2284</td><td>752</td><td>0</td><td>94</td><td>0.0072082062655946</td><td>8</td><td>96</td><td>0</td><td>376</td><td>376</td><td>1</td><td>2264</td><td>20</td><td>0</td><td>0</td><td>0</td><td>0</td><td>0</td><td>0</td><td>0</td><td>0</td><td>0</td><td>0</td><td>3</td><td>com</td><td>0</td><td>6</td><td>0</td><td>0</td></tr>\n",
              "<tr><td>sg-stamps.com/__m...</td><td>1</td><td>ALL-phishing-links</td><td>0</td><td>0</td><td>0</td><td>0</td><td>0</td><td>0</td><td>3569</td><td>4.06158964746992</td><td>0.5012958811992154</td><td>0.1509176239843093</td><td>0.1996357523115718</td><td>0.272100028019053</td><td>0.1722121042308769</td><td>1.8237701258751395</td><td>2.36058755589424</td><td>2</td><td>0</td><td>0</td><td>372</td><td>1</td><td>0</td><td>0</td><td>0</td><td>0</td><td>95</td><td>0</td><td>0</td><td>0</td><td>2260</td><td>744</td><td>0</td><td>93</td><td>0.0072849537685626</td><td>8</td><td>95</td><td>0</td><td>372</td><td>372</td><td>1</td><td>2191</td><td>69</td><td>0</td><td>0</td><td>0</td><td>0</td><td>0</td><td>0</td><td>0</td><td>0</td><td>0</td><td>0</td><td>3</td><td>com</td><td>0</td><td>6</td><td>0</td><td>0</td></tr>\n",
              "<tr><td>sg-stamps.com/__m...</td><td>1</td><td>ALL-phishing-links</td><td>0</td><td>0</td><td>0</td><td>0</td><td>0</td><td>0</td><td>3531</td><td>4.0618717921606455</td><td>0.5030798640611724</td><td>0.1509133389974511</td><td>0.1978547153780798</td><td>0.2703200226564713</td><td>0.173994619088077</td><td>1.8233382732674488</td><td>2.362361906436135</td><td>2</td><td>0</td><td>0</td><td>368</td><td>1</td><td>0</td><td>0</td><td>0</td><td>0</td><td>94</td><td>0</td><td>0</td><td>0</td><td>2236</td><td>736</td><td>0</td><td>92</td><td>0.0073633531577456</td><td>8</td><td>94</td><td>0</td><td>368</td><td>368</td><td>1</td><td>2218</td><td>18</td><td>0</td><td>0</td><td>0</td><td>0</td><td>0</td><td>0</td><td>0</td><td>0</td><td>0</td><td>0</td><td>3</td><td>com</td><td>0</td><td>6</td><td>0</td><td>0</td></tr>\n",
              "<tr><td>sg-stamps.com/__m...</td><td>1</td><td>ALL-phishing-links</td><td>0</td><td>0</td><td>0</td><td>0</td><td>0</td><td>0</td><td>3531</td><td>4.0618717921606455</td><td>0.5013098272444066</td><td>0.1509133389974511</td><td>0.1996247521948456</td><td>0.272090059473237</td><td>0.1722245822713112</td><td>1.8237642423703069</td><td>2.360600860658209</td><td>2</td><td>0</td><td>0</td><td>368</td><td>1</td><td>0</td><td>0</td><td>0</td><td>0</td><td>94</td><td>0</td><td>0</td><td>0</td><td>2236</td><td>736</td><td>0</td><td>92</td><td>0.0073633531577456</td><td>8</td><td>94</td><td>0</td><td>368</td><td>368</td><td>1</td><td>2168</td><td>68</td><td>0</td><td>0</td><td>0</td><td>0</td><td>0</td><td>0</td><td>0</td><td>0</td><td>0</td><td>0</td><td>3</td><td>com</td><td>0</td><td>6</td><td>0</td><td>0</td></tr>\n",
              "<tr><td>sg-stamps.com/__m...</td><td>1</td><td>ALL-phishing-links</td><td>0</td><td>0</td><td>0</td><td>0</td><td>0</td><td>0</td><td>3493</td><td>4.06215948758785</td><td>0.5032565130260521</td><td>0.1509089607787002</td><td>0.1976810764385914</td><td>0.2701474377326081</td><td>0.1741697681076438</td><td>1.8232894267820816</td><td>2.362521660025647</td><td>2</td><td>0</td><td>0</td><td>364</td><td>1</td><td>0</td><td>0</td><td>0</td><td>0</td><td>93</td><td>0</td><td>0</td><td>0</td><td>2212</td><td>728</td><td>0</td><td>91</td><td>0.0074434583452619</td><td>8</td><td>93</td><td>0</td><td>364</td><td>364</td><td>1</td><td>2199</td><td>13</td><td>0</td><td>0</td><td>0</td><td>0</td><td>0</td><td>0</td><td>0</td><td>0</td><td>0</td><td>0</td><td>3</td><td>com</td><td>0</td><td>6</td><td>0</td><td>0</td></tr>\n",
              "<tr><td>sg-stamps.com/__m...</td><td>1</td><td>ALL-phishing-links</td><td>0</td><td>0</td><td>0</td><td>0</td><td>0</td><td>0</td><td>3417</td><td>4.062752217700953</td><td>0.5031826163301142</td><td>0.1508999122036874</td><td>0.1977611940298507</td><td>0.2702297336845186</td><td>0.1740927714369329</td><td>1.82330312032648</td><td>2.3624524720895907</td><td>2</td><td>0</td><td>0</td><td>356</td><td>1</td><td>0</td><td>0</td><td>0</td><td>0</td><td>91</td><td>0</td><td>0</td><td>0</td><td>2164</td><td>712</td><td>0</td><td>89</td><td>0.0076090137547556</td><td>8</td><td>91</td><td>0</td><td>356</td><td>356</td><td>1</td><td>2149</td><td>15</td><td>0</td><td>0</td><td>0</td><td>0</td><td>0</td><td>0</td><td>0</td><td>0</td><td>0</td><td>0</td><td>3</td><td>com</td><td>0</td><td>6</td><td>0</td><td>0</td></tr>\n",
              "<tr><td>sg-stamps.com/__m...</td><td>1</td><td>ALL-phishing-links</td><td>0</td><td>0</td><td>0</td><td>0</td><td>0</td><td>0</td><td>3303</td><td>4.063687432349647</td><td>0.5026869512564336</td><td>0.1508855585831062</td><td>0.1982667272176809</td><td>0.2707387223735997</td><td>0.1735921889191644</td><td>1.8234209021827976</td><td>2.3619866393605315</td><td>2</td><td>0</td><td>0</td><td>344</td><td>1</td><td>0</td><td>0</td><td>0</td><td>0</td><td>88</td><td>0</td><td>0</td><td>0</td><td>2092</td><td>688</td><td>0</td><td>86</td><td>0.0078716318498334</td><td>8</td><td>88</td><td>0</td><td>344</td><td>344</td><td>1</td><td>2064</td><td>28</td><td>0</td><td>0</td><td>0</td><td>0</td><td>0</td><td>0</td><td>0</td><td>0</td><td>0</td><td>0</td><td>3</td><td>com</td><td>0</td><td>6</td><td>0</td><td>0</td></tr>\n",
              "<tr><td>sg-stamps.com/__m...</td><td>1</td><td>ALL-phishing-links</td><td>0</td><td>0</td><td>0</td><td>0</td><td>0</td><td>0</td><td>3265</td><td>4.064012264673731</td><td>0.501416539050536</td><td>0.1508805513016845</td><td>0.1995405819295559</td><td>0.2720137825421133</td><td>0.1723200612557427</td><td>1.823719127829088</td><td>2.360702338394616</td><td>2</td><td>0</td><td>0</td><td>340</td><td>1</td><td>0</td><td>0</td><td>0</td><td>0</td><td>87</td><td>0</td><td>0</td><td>0</td><td>2068</td><td>680</td><td>0</td><td>85</td><td>0.0079632465543644</td><td>8</td><td>87</td><td>0</td><td>340</td><td>340</td><td>1</td><td>2007</td><td>61</td><td>0</td><td>0</td><td>0</td><td>0</td><td>0</td><td>0</td><td>0</td><td>0</td><td>0</td><td>0</td><td>3</td><td>com</td><td>0</td><td>6</td><td>0</td><td>0</td></tr>\n",
              "</table>\n",
              "only showing top 20 rows\n"
            ]
          },
          "metadata": {},
          "execution_count": 22
        }
      ],
      "source": [
        "#sort the url_len value in ascending order\n",
        "sorted_data = md.orderBy('url_len', ascending=False)\n",
        "sorted_data"
      ]
    },
    {
      "cell_type": "code",
      "source": [
        "#creates a df 'filtered' by selecting rows from the original DataFrame 'md' where the URL length is greater than 50 characters and the count of dots in the URL is three or more.\n",
        "\n",
        "filterd=md.filter((col(\"url_len\") > 50) & (col(\"url_count_dot\") >= 3))\n",
        "filterd"
      ],
      "metadata": {
        "colab": {
          "base_uri": "https://localhost:8080/",
          "height": 618
        },
        "id": "6M7vmtTide1Q",
        "outputId": "080661ae-c959-4617-8de0-cc066069885d"
      },
      "execution_count": null,
      "outputs": [
        {
          "output_type": "execute_result",
          "data": {
            "text/plain": [
              "+--------------------+-----+--------------------+-------------+--------------+--------------+-------------+----------+-------------+-------+------------------+------------------+------------------+------------------+------------------+------------------+------------------+------------------+-------------+---------------+--------------+--------------+----------------+-------------+----------------+--------------+-------------------+--------------------+--------------+---------------+-------------+----------------+---------------+-----------------------------------+-------------------------+-----------------------+--------+--------------------+----------------------+---------------+-------------------+----------------------------+----------------+----------------+-------------------+----------------------+-----------------+---------+----------------------+-----------+--------------------+--------------------+--------------------------+-------------------+-------+------+----------+--------------------+-------------+-------------------+\n",
              "|                 url|label|              source|url_has_login|url_has_client|url_has_server|url_has_admin|url_has_ip|url_isshorted|url_len|       url_entropy|     url_hamming_1|    url_hamming_00|    url_hamming_10|    url_hamming_01|    url_hamming_11|     url_2bentropy|     url_3bentropy|url_count_dot|url_count_https|url_count_http|url_count_perc|url_count_hyphen|url_count_www|url_count_atrate|url_count_hash|url_count_semicolon|url_count_underscore|url_count_ques|url_count_equal|url_count_amp|url_count_letter|url_count_digit|url_count_sensitive_financial_words|url_count_sensitive_words|url_nunique_chars_ratio|path_len|path_count_no_of_dir|path_count_no_of_embed|path_count_zero|path_count_pertwent|path_has_any_sensitive_words|path_count_lower|path_count_upper|path_count_nonascii|path_has_singlechardir|path_has_upperdir|query_len|query_count_components|pdomain_len|pdomain_count_hyphen|pdomain_count_atrate|pdomain_count_non_alphanum|pdomain_count_digit|tld_len|   tld|tld_is_sus|pdomain_min_distance|subdomain_len|subdomain_count_dot|\n",
              "+--------------------+-----+--------------------+-------------+--------------+--------------+-------------+----------+-------------+-------+------------------+------------------+------------------+------------------+------------------+------------------+------------------+------------------+-------------+---------------+--------------+--------------+----------------+-------------+----------------+--------------+-------------------+--------------------+--------------+---------------+-------------+----------------+---------------+-----------------------------------+-------------------------+-----------------------+--------+--------------------+----------------------+---------------+-------------------+----------------------------+----------------+----------------+-------------------+----------------------+-----------------+---------+----------------------+-----------+--------------------+--------------------+--------------------------+-------------------+-------+------+----------+--------------------+-------------+-------------------+\n",
              "|162.241.69.15/f87...|    1|  ALL-phishing-links|            0|             0|             0|            0|         1|            0|    345| 5.247789775783201|0.4641304347826087|0.1641304347826087|0.2036231884057971|0.2670289855072463|0.1543478260869565| 1.820180279457663|2.3761364510450016|            7|              0|             0|             0|               2|            0|               0|             0|                  0|                   2|             1|              6|            1|             196|            125|                                  0|                        1|     0.2028985507246377|      32|                   2|                     0|              1|                  0|                           1|              16|               0|                  0|                     0|                0|      287|                     2|          0|                   0|                   0|                         0|                  0|      6|No TLD|         0|                  11|            0|                  0|\n",
              "|rabo-aanmaning.in...|    1|  ALL-phishing-links|            0|             0|             0|            0|         0|            0|     67|3.9998854164888895|0.5242537313432836|0.1287313432835821|0.1940298507462686|0.2667910447761194|0.1977611940298507| 1.810698788854112|2.3444786683948733|            3|              0|             0|             0|               1|            0|               0|             0|                  0|                   0|             0|              0|            0|              56|              0|                                  0|                        0|     0.3134328358208955|       9|                   7|                     0|              0|                  0|                           0|              56|               0|                  0|                     0|                0|        0|                     0|          0|                   0|                   0|                         0|                  0|      4|  info|         0|                   9|            0|                  0|\n",
              "|benthon-resonator...|    1|  ALL-phishing-links|            1|             0|             0|            0|         0|            0|    274|5.1101113369684885|0.5109489051094891|0.1240875912408759|0.2048357664233576|0.2755474452554745|0.1738138686131387| 1.793316667757522|2.3710340193884667|            7|              0|             0|             0|               3|            0|               1|             0|                  0|                   0|             1|              7|            6|             221|             26|                                  0|                        0|     0.2408759124087591|       8|                   2|                     0|              0|                  0|                           0|              52|               0|                  0|                     0|                0|      208|                     7|          0|                   0|                   0|                         0|                  0|      3|   com|         0|                   3|           30|                  2|\n",
              "|itmanagedservices...|    1|  ALL-phishing-links|            0|             0|             0|            0|         0|            0|    155| 4.274859409044893|0.5233870967741936|0.1330645161290322|0.1870967741935484|0.2685483870967742| 0.182258064516129| 1.796602204420526| 2.390717886967661|            6|              0|             0|             1|               1|            0|               1|             0|                  0|                   0|             1|              1|            0|             130|              3|                                  0|                        2|     0.2387096774193548|       6|                  11|                     0|              1|                  1|                           1|             108|               7|                  0|                     0|                0|       20|                     1|          0|                   0|                   0|                         0|                  0|      3|   com|         0|                  15|            0|                  0|\n",
              "|nocontent-mrmkyku...|    1|  ALL-phishing-links|            0|             0|             0|            0|         0|            0|     89| 4.776201060559865|0.5210674157303371|0.1165730337078651|0.2120786516853932|0.2766853932584269|0.1910112359550561|1.8050201012290925| 2.358087709920612|            3|              0|             0|             0|               1|            0|               0|             0|                  0|                   0|             1|              1|            0|              64|             18|                                  0|                        1|     0.4044943820224719|      12|                   1|                     0|              0|                  0|                           1|              39|               3|                  0|                     0|                0|       41|                     1|          0|                   0|                   0|                         0|                  0|      3|   com|         0|                   6|           18|                  0|\n",
              "|httppostsfb-7oxem...|    1|  ALL-phishing-links|            0|             0|             0|            0|         0|            0|     90| 4.826722652992907|0.4972222222222222|0.1458333333333333|0.1986111111111111|0.2611111111111111|0.1791666666666666|1.8185119428430807| 2.383409736088941|            3|              0|             1|             0|               1|            0|               0|             0|                  0|                   0|             1|              1|            0|              65|             18|                                  0|                        0|     0.3888888888888889|      12|                   1|                     0|              0|                  0|                           0|              39|               0|                  0|                     0|                0|       42|                     1|          0|                   0|                   0|                         0|                  0|      2|    ca|         0|                   5|           22|                  0|\n",
              "|198.55.96.123/ind...|    1|  ALL-phishing-links|            1|             0|             0|            0|         1|            1|    269| 4.453952394850038|0.5413568773234201| 0.116635687732342|0.1937732342007435|0.2755576208178438|0.2016728624535316|1.7985968814213409|2.3600413649359293|           15|              0|             0|             0|               1|            1|               0|             0|                  0|                   0|             0|              0|            0|             212|             13|                                  0|                        4|     0.1189591078066914|       9|                  28|                     0|              0|                  0|                           1|             212|               0|                  0|                     0|                0|        0|                     0|          0|                   0|                   0|                         0|                  0|      6|No TLD|         0|                  12|            0|                  0|\n",
              "|oliverconstructio...|    1|  ALL-phishing-links|            0|             0|             0|            0|         0|            1|    196| 4.964564196253685|0.4821428571428572|0.1632653061224489|0.1919642857142857|0.2595663265306122|0.1696428571428571|1.8232348655085184|2.3850735222523896|            9|              0|             0|             0|               2|            0|               0|             0|                  0|                   1|             1|              6|            1|             114|             57|                                  0|                        1|     0.2602040816326531|      32|                   2|                     0|              2|                  0|                           1|              47|               0|                  0|                     0|                0|      126|                     2|          0|                   0|                   0|                         0|                  0|      3|   com|         0|                  13|            0|                  0|\n",
              "|fittbikese.hu/t/o...|    1|  ALL-phishing-links|            0|             0|             0|            0|         0|            0|     73| 4.713596909662788|0.5273972602739726|0.1215753424657534|0.2054794520547945|0.2671232876712329|0.1900684931506849|1.8027017529140767|2.3520993439067164|            5|              0|             0|             0|               0|            0|               1|             0|                  0|                   0|             1|              2|            1|              52|              8|                                  0|                        0|     0.4520547945205479|       1|                   3|                     0|              1|                  0|                           0|              36|               0|                  0|                     1|                0|       21|                     2|          0|                   0|                   0|                         0|                  0|      2|    hu|         0|                   6|            0|                  0|\n",
              "|kongfoojew.com/on...|    1|  ALL-phishing-links|            1|             0|             0|            0|         0|            0|    252| 4.871024997422092|0.5133928571428571|0.1240079365079365|0.2088293650793651| 0.273313492063492| 0.181547619047619|1.8036859842295263|2.3582755747923567|           19|              0|             0|             0|               0|            0|               0|             0|                  0|                   0|             1|              2|            2|             198|             26|                                  1|                        1|     0.2341269841269841|     104|                   4|                     0|              2|                  0|                           0|             104|              10|                  0|                     0|                0|      106|                     3|          0|                   0|                   0|                         0|                  0|      3|   com|         0|                   7|            0|                  0|\n",
              "|gplcrown.com/http...|    1|  ALL-phishing-links|            0|             0|             0|            0|         0|            0|     70| 4.072282791189722|0.5464285714285714|0.1089285714285714|0.1821428571428571|0.2642857142857143|0.2071428571428572| 1.773779628955695|  2.34235263613107|            3|              1|             1|             0|               0|            0|               0|             0|                  0|                   0|             0|              0|            0|              62|              1|                                  1|                        0|     0.2857142857142857|       5|                   4|                     0|              0|                  0|                           0|              62|               0|                  0|                     1|                0|        0|                     0|          0|                   0|                   0|                         0|                  0|      3|   com|         0|                   5|            0|                  0|\n",
              "|bafutcouncil.net/...|    1|  ALL-phishing-links|            1|             0|             0|            0|         0|            0|    128|4.7092860823529294|          0.515625|       0.123046875|       0.205078125|       0.267578125|       0.177734375| 1.792570073907986| 2.378702073034687|            6|              0|             0|             0|               1|            0|               0|             0|                  0|                   1|             0|              2|            0|             103|              8|                                  2|                        0|              0.2890625|       5|                   7|                     0|              0|                  0|                           0|              98|               5|                  0|                     0|                0|        0|                     0|          0|                   0|                   0|                         0|                  0|      3|   net|         0|                   7|            0|                  0|\n",
              "|pochtarefund-xeq1...|    1|  ALL-phishing-links|            0|             0|             0|            0|         0|            0|    102|4.5339042991336695|0.5232843137254902|0.1237745098039215|0.1924019607843137|0.2647058823529412|0.1948529411764706| 1.797924428647694| 2.360002139952308|            5|              0|             0|             0|               1|            0|               0|             0|                  0|                   0|             0|              0|            0|              85|              3|                                  1|                        1|     0.2647058823529412|       9|                   8|                     0|              1|                  0|                           1|              85|               0|                  0|                     0|                0|        0|                     0|          0|                   0|                   0|                         0|                  0|      3|   xyz|         1|                   4|           19|                  0|\n",
              "|refund-hmrc.uk-co...|    1|  ALL-phishing-links|            1|             0|             0|            0|         0|            0|    137| 4.970713544391541| 0.489051094890511|0.1478102189781022| 0.208029197080292|0.2746350364963503|0.1651459854014598|1.8200161718777177| 2.386787279379362|            4|              0|             0|             0|               4|            0|               0|             0|                  0|                   0|             0|              0|            0|              81|             47|                                  1|                        0|     0.3284671532846715|      18|                   1|                     0|              3|                  0|                           0|              72|               9|                  0|                     0|                0|        0|                     0|          0|                   0|                   0|                         0|                  0|      3|   com|         0|                   6|          102|                  2|\n",
              "|yale.edu/ynhti/cu...|    0|data_clean_test_m...|            0|             0|             0|            0|         0|            0|     54|4.2251956700499935|               0.5|0.1412037037037037|0.2013888888888889|0.2662037037037037|0.1689814814814814|   1.8061171072683|2.3813584900008435|            5|              0|             0|             0|               0|            0|               0|             0|                  0|                   0|             0|              0|            0|              32|             11|                                  0|                        0|     0.4074074074074074|       5|                   6|                     0|              5|                  0|                           0|              32|               0|                  0|                     1|                0|        0|                     0|          0|                   0|                   0|                         0|                  0|      3|   edu|         1|                   2|            0|                  0|\n",
              "|qloqqqzasmhcjidnt...|    1|ALL-phishing-domains|            0|             0|             0|            0|         0|            1|     77| 4.605119827680952|0.5162337662337663|0.1201298701298701|0.2012987012987013|0.2678571428571428|0.1801948051948052|1.7873597438789726|2.3694254232086736|            4|              0|             0|             0|               4|            0|               0|             0|                  0|                   0|             0|              0|            0|              63|              6|                                  0|                        0|     0.3766233766233766|       0|                   0|                     0|              0|                  0|                           0|              63|               0|                  0|                     0|                0|        0|                     0|          0|                   0|                   0|                         0|                  0|      3|   com|         0|                   4|           65|                  2|\n",
              "|quod.lib.umich.ed...|    0|data_clean_train_...|            0|             0|             0|            0|         0|            0|     61| 4.545434166021608|0.5225409836065574|0.1311475409836065|0.1905737704918032|0.2684426229508197|0.1885245901639344| 1.803262921479916|2.3853343696613747|            3|              0|             0|             0|               1|            0|               0|             0|                  1|                   0|             1|              2|            1|              44|              4|                                  0|                        0|      0.459016393442623|       3|                   4|                     0|              0|                  0|                           0|              30|               0|                  0|                     1|                0|       22|                     2|          0|                   0|                   0|                         0|                  0|      3|   edu|         1|                   3|            8|                  1|\n",
              "|info.clienti.sanp...|    1|  ALL-phishing-links|            1|             1|             0|            0|         0|            1|    260| 4.423526630976792|0.5432692307692307|0.1091346153846154|0.1908653846153846|0.2677884615384615|0.2014423076923077|1.7794907865799563|2.3668753559394675|           19|              1|             1|             0|               1|            1|               0|             0|                  0|                   0|             0|              0|            0|             216|              4|                                  0|                        4|     0.1076923076923077|       9|                  19|                     0|              0|                  0|                           1|             216|               0|                  0|                     0|                0|        0|                     0|          0|                   0|                   0|                         0|                  0|      3|   com|         0|                  10|           31|                  4|\n",
              "|02fecb9e9ee6ebb5c...|    1|ALL-phishing-domains|            0|             0|             0|            0|         0|            1|     73| 4.297127548695565| 0.464041095890411| 0.184931506849315|0.1934931506849315|0.2585616438356164|0.1592465753424657|1.8354785305162729|  2.36253580563344|            4|              0|             0|             0|               2|            0|               0|             0|                  0|                   0|             0|              0|            0|              34|             33|                                  0|                        0|     0.3424657534246575|       0|                   0|                     0|              5|                  0|                           0|              34|               0|                  0|                     0|                0|        0|                     0|          0|                   0|                   0|                         0|                  0|      3|   com|         0|                   4|           61|                  2|\n",
              "|m.fb.com-xqdyvjgg...|    1|  ALL-phishing-links|            0|             0|             0|            0|         0|            0|     51| 4.429600283437102|0.5269607843137255|0.1078431372549019|0.2083333333333333| 0.267156862745098|0.1936274509803921| 1.785330495359172|2.3776183186530986|            4|              0|             0|             0|               1|            0|               0|             0|                  0|                   0|             0|              0|            0|              45|              0|                                  0|                        0|     0.4901960784313725|       3|                   1|                     0|              0|                  0|                           0|              45|               0|                  0|                     0|                0|        0|                     0|          0|                   0|                   0|                         0|                  0|      3|   com|         0|                  15|           21|                  2|\n",
              "+--------------------+-----+--------------------+-------------+--------------+--------------+-------------+----------+-------------+-------+------------------+------------------+------------------+------------------+------------------+------------------+------------------+------------------+-------------+---------------+--------------+--------------+----------------+-------------+----------------+--------------+-------------------+--------------------+--------------+---------------+-------------+----------------+---------------+-----------------------------------+-------------------------+-----------------------+--------+--------------------+----------------------+---------------+-------------------+----------------------------+----------------+----------------+-------------------+----------------------+-----------------+---------+----------------------+-----------+--------------------+--------------------+--------------------------+-------------------+-------+------+----------+--------------------+-------------+-------------------+\n",
              "only showing top 20 rows"
            ],
            "text/html": [
              "<table border='1'>\n",
              "<tr><th>url</th><th>label</th><th>source</th><th>url_has_login</th><th>url_has_client</th><th>url_has_server</th><th>url_has_admin</th><th>url_has_ip</th><th>url_isshorted</th><th>url_len</th><th>url_entropy</th><th>url_hamming_1</th><th>url_hamming_00</th><th>url_hamming_10</th><th>url_hamming_01</th><th>url_hamming_11</th><th>url_2bentropy</th><th>url_3bentropy</th><th>url_count_dot</th><th>url_count_https</th><th>url_count_http</th><th>url_count_perc</th><th>url_count_hyphen</th><th>url_count_www</th><th>url_count_atrate</th><th>url_count_hash</th><th>url_count_semicolon</th><th>url_count_underscore</th><th>url_count_ques</th><th>url_count_equal</th><th>url_count_amp</th><th>url_count_letter</th><th>url_count_digit</th><th>url_count_sensitive_financial_words</th><th>url_count_sensitive_words</th><th>url_nunique_chars_ratio</th><th>path_len</th><th>path_count_no_of_dir</th><th>path_count_no_of_embed</th><th>path_count_zero</th><th>path_count_pertwent</th><th>path_has_any_sensitive_words</th><th>path_count_lower</th><th>path_count_upper</th><th>path_count_nonascii</th><th>path_has_singlechardir</th><th>path_has_upperdir</th><th>query_len</th><th>query_count_components</th><th>pdomain_len</th><th>pdomain_count_hyphen</th><th>pdomain_count_atrate</th><th>pdomain_count_non_alphanum</th><th>pdomain_count_digit</th><th>tld_len</th><th>tld</th><th>tld_is_sus</th><th>pdomain_min_distance</th><th>subdomain_len</th><th>subdomain_count_dot</th></tr>\n",
              "<tr><td>162.241.69.15/f87...</td><td>1</td><td>ALL-phishing-links</td><td>0</td><td>0</td><td>0</td><td>0</td><td>1</td><td>0</td><td>345</td><td>5.247789775783201</td><td>0.4641304347826087</td><td>0.1641304347826087</td><td>0.2036231884057971</td><td>0.2670289855072463</td><td>0.1543478260869565</td><td>1.820180279457663</td><td>2.3761364510450016</td><td>7</td><td>0</td><td>0</td><td>0</td><td>2</td><td>0</td><td>0</td><td>0</td><td>0</td><td>2</td><td>1</td><td>6</td><td>1</td><td>196</td><td>125</td><td>0</td><td>1</td><td>0.2028985507246377</td><td>32</td><td>2</td><td>0</td><td>1</td><td>0</td><td>1</td><td>16</td><td>0</td><td>0</td><td>0</td><td>0</td><td>287</td><td>2</td><td>0</td><td>0</td><td>0</td><td>0</td><td>0</td><td>6</td><td>No TLD</td><td>0</td><td>11</td><td>0</td><td>0</td></tr>\n",
              "<tr><td>rabo-aanmaning.in...</td><td>1</td><td>ALL-phishing-links</td><td>0</td><td>0</td><td>0</td><td>0</td><td>0</td><td>0</td><td>67</td><td>3.9998854164888895</td><td>0.5242537313432836</td><td>0.1287313432835821</td><td>0.1940298507462686</td><td>0.2667910447761194</td><td>0.1977611940298507</td><td>1.810698788854112</td><td>2.3444786683948733</td><td>3</td><td>0</td><td>0</td><td>0</td><td>1</td><td>0</td><td>0</td><td>0</td><td>0</td><td>0</td><td>0</td><td>0</td><td>0</td><td>56</td><td>0</td><td>0</td><td>0</td><td>0.3134328358208955</td><td>9</td><td>7</td><td>0</td><td>0</td><td>0</td><td>0</td><td>56</td><td>0</td><td>0</td><td>0</td><td>0</td><td>0</td><td>0</td><td>0</td><td>0</td><td>0</td><td>0</td><td>0</td><td>4</td><td>info</td><td>0</td><td>9</td><td>0</td><td>0</td></tr>\n",
              "<tr><td>benthon-resonator...</td><td>1</td><td>ALL-phishing-links</td><td>1</td><td>0</td><td>0</td><td>0</td><td>0</td><td>0</td><td>274</td><td>5.1101113369684885</td><td>0.5109489051094891</td><td>0.1240875912408759</td><td>0.2048357664233576</td><td>0.2755474452554745</td><td>0.1738138686131387</td><td>1.793316667757522</td><td>2.3710340193884667</td><td>7</td><td>0</td><td>0</td><td>0</td><td>3</td><td>0</td><td>1</td><td>0</td><td>0</td><td>0</td><td>1</td><td>7</td><td>6</td><td>221</td><td>26</td><td>0</td><td>0</td><td>0.2408759124087591</td><td>8</td><td>2</td><td>0</td><td>0</td><td>0</td><td>0</td><td>52</td><td>0</td><td>0</td><td>0</td><td>0</td><td>208</td><td>7</td><td>0</td><td>0</td><td>0</td><td>0</td><td>0</td><td>3</td><td>com</td><td>0</td><td>3</td><td>30</td><td>2</td></tr>\n",
              "<tr><td>itmanagedservices...</td><td>1</td><td>ALL-phishing-links</td><td>0</td><td>0</td><td>0</td><td>0</td><td>0</td><td>0</td><td>155</td><td>4.274859409044893</td><td>0.5233870967741936</td><td>0.1330645161290322</td><td>0.1870967741935484</td><td>0.2685483870967742</td><td>0.182258064516129</td><td>1.796602204420526</td><td>2.390717886967661</td><td>6</td><td>0</td><td>0</td><td>1</td><td>1</td><td>0</td><td>1</td><td>0</td><td>0</td><td>0</td><td>1</td><td>1</td><td>0</td><td>130</td><td>3</td><td>0</td><td>2</td><td>0.2387096774193548</td><td>6</td><td>11</td><td>0</td><td>1</td><td>1</td><td>1</td><td>108</td><td>7</td><td>0</td><td>0</td><td>0</td><td>20</td><td>1</td><td>0</td><td>0</td><td>0</td><td>0</td><td>0</td><td>3</td><td>com</td><td>0</td><td>15</td><td>0</td><td>0</td></tr>\n",
              "<tr><td>nocontent-mrmkyku...</td><td>1</td><td>ALL-phishing-links</td><td>0</td><td>0</td><td>0</td><td>0</td><td>0</td><td>0</td><td>89</td><td>4.776201060559865</td><td>0.5210674157303371</td><td>0.1165730337078651</td><td>0.2120786516853932</td><td>0.2766853932584269</td><td>0.1910112359550561</td><td>1.8050201012290925</td><td>2.358087709920612</td><td>3</td><td>0</td><td>0</td><td>0</td><td>1</td><td>0</td><td>0</td><td>0</td><td>0</td><td>0</td><td>1</td><td>1</td><td>0</td><td>64</td><td>18</td><td>0</td><td>1</td><td>0.4044943820224719</td><td>12</td><td>1</td><td>0</td><td>0</td><td>0</td><td>1</td><td>39</td><td>3</td><td>0</td><td>0</td><td>0</td><td>41</td><td>1</td><td>0</td><td>0</td><td>0</td><td>0</td><td>0</td><td>3</td><td>com</td><td>0</td><td>6</td><td>18</td><td>0</td></tr>\n",
              "<tr><td>httppostsfb-7oxem...</td><td>1</td><td>ALL-phishing-links</td><td>0</td><td>0</td><td>0</td><td>0</td><td>0</td><td>0</td><td>90</td><td>4.826722652992907</td><td>0.4972222222222222</td><td>0.1458333333333333</td><td>0.1986111111111111</td><td>0.2611111111111111</td><td>0.1791666666666666</td><td>1.8185119428430807</td><td>2.383409736088941</td><td>3</td><td>0</td><td>1</td><td>0</td><td>1</td><td>0</td><td>0</td><td>0</td><td>0</td><td>0</td><td>1</td><td>1</td><td>0</td><td>65</td><td>18</td><td>0</td><td>0</td><td>0.3888888888888889</td><td>12</td><td>1</td><td>0</td><td>0</td><td>0</td><td>0</td><td>39</td><td>0</td><td>0</td><td>0</td><td>0</td><td>42</td><td>1</td><td>0</td><td>0</td><td>0</td><td>0</td><td>0</td><td>2</td><td>ca</td><td>0</td><td>5</td><td>22</td><td>0</td></tr>\n",
              "<tr><td>198.55.96.123/ind...</td><td>1</td><td>ALL-phishing-links</td><td>1</td><td>0</td><td>0</td><td>0</td><td>1</td><td>1</td><td>269</td><td>4.453952394850038</td><td>0.5413568773234201</td><td>0.116635687732342</td><td>0.1937732342007435</td><td>0.2755576208178438</td><td>0.2016728624535316</td><td>1.7985968814213409</td><td>2.3600413649359293</td><td>15</td><td>0</td><td>0</td><td>0</td><td>1</td><td>1</td><td>0</td><td>0</td><td>0</td><td>0</td><td>0</td><td>0</td><td>0</td><td>212</td><td>13</td><td>0</td><td>4</td><td>0.1189591078066914</td><td>9</td><td>28</td><td>0</td><td>0</td><td>0</td><td>1</td><td>212</td><td>0</td><td>0</td><td>0</td><td>0</td><td>0</td><td>0</td><td>0</td><td>0</td><td>0</td><td>0</td><td>0</td><td>6</td><td>No TLD</td><td>0</td><td>12</td><td>0</td><td>0</td></tr>\n",
              "<tr><td>oliverconstructio...</td><td>1</td><td>ALL-phishing-links</td><td>0</td><td>0</td><td>0</td><td>0</td><td>0</td><td>1</td><td>196</td><td>4.964564196253685</td><td>0.4821428571428572</td><td>0.1632653061224489</td><td>0.1919642857142857</td><td>0.2595663265306122</td><td>0.1696428571428571</td><td>1.8232348655085184</td><td>2.3850735222523896</td><td>9</td><td>0</td><td>0</td><td>0</td><td>2</td><td>0</td><td>0</td><td>0</td><td>0</td><td>1</td><td>1</td><td>6</td><td>1</td><td>114</td><td>57</td><td>0</td><td>1</td><td>0.2602040816326531</td><td>32</td><td>2</td><td>0</td><td>2</td><td>0</td><td>1</td><td>47</td><td>0</td><td>0</td><td>0</td><td>0</td><td>126</td><td>2</td><td>0</td><td>0</td><td>0</td><td>0</td><td>0</td><td>3</td><td>com</td><td>0</td><td>13</td><td>0</td><td>0</td></tr>\n",
              "<tr><td>fittbikese.hu/t/o...</td><td>1</td><td>ALL-phishing-links</td><td>0</td><td>0</td><td>0</td><td>0</td><td>0</td><td>0</td><td>73</td><td>4.713596909662788</td><td>0.5273972602739726</td><td>0.1215753424657534</td><td>0.2054794520547945</td><td>0.2671232876712329</td><td>0.1900684931506849</td><td>1.8027017529140767</td><td>2.3520993439067164</td><td>5</td><td>0</td><td>0</td><td>0</td><td>0</td><td>0</td><td>1</td><td>0</td><td>0</td><td>0</td><td>1</td><td>2</td><td>1</td><td>52</td><td>8</td><td>0</td><td>0</td><td>0.4520547945205479</td><td>1</td><td>3</td><td>0</td><td>1</td><td>0</td><td>0</td><td>36</td><td>0</td><td>0</td><td>1</td><td>0</td><td>21</td><td>2</td><td>0</td><td>0</td><td>0</td><td>0</td><td>0</td><td>2</td><td>hu</td><td>0</td><td>6</td><td>0</td><td>0</td></tr>\n",
              "<tr><td>kongfoojew.com/on...</td><td>1</td><td>ALL-phishing-links</td><td>1</td><td>0</td><td>0</td><td>0</td><td>0</td><td>0</td><td>252</td><td>4.871024997422092</td><td>0.5133928571428571</td><td>0.1240079365079365</td><td>0.2088293650793651</td><td>0.273313492063492</td><td>0.181547619047619</td><td>1.8036859842295263</td><td>2.3582755747923567</td><td>19</td><td>0</td><td>0</td><td>0</td><td>0</td><td>0</td><td>0</td><td>0</td><td>0</td><td>0</td><td>1</td><td>2</td><td>2</td><td>198</td><td>26</td><td>1</td><td>1</td><td>0.2341269841269841</td><td>104</td><td>4</td><td>0</td><td>2</td><td>0</td><td>0</td><td>104</td><td>10</td><td>0</td><td>0</td><td>0</td><td>106</td><td>3</td><td>0</td><td>0</td><td>0</td><td>0</td><td>0</td><td>3</td><td>com</td><td>0</td><td>7</td><td>0</td><td>0</td></tr>\n",
              "<tr><td>gplcrown.com/http...</td><td>1</td><td>ALL-phishing-links</td><td>0</td><td>0</td><td>0</td><td>0</td><td>0</td><td>0</td><td>70</td><td>4.072282791189722</td><td>0.5464285714285714</td><td>0.1089285714285714</td><td>0.1821428571428571</td><td>0.2642857142857143</td><td>0.2071428571428572</td><td>1.773779628955695</td><td>2.34235263613107</td><td>3</td><td>1</td><td>1</td><td>0</td><td>0</td><td>0</td><td>0</td><td>0</td><td>0</td><td>0</td><td>0</td><td>0</td><td>0</td><td>62</td><td>1</td><td>1</td><td>0</td><td>0.2857142857142857</td><td>5</td><td>4</td><td>0</td><td>0</td><td>0</td><td>0</td><td>62</td><td>0</td><td>0</td><td>1</td><td>0</td><td>0</td><td>0</td><td>0</td><td>0</td><td>0</td><td>0</td><td>0</td><td>3</td><td>com</td><td>0</td><td>5</td><td>0</td><td>0</td></tr>\n",
              "<tr><td>bafutcouncil.net/...</td><td>1</td><td>ALL-phishing-links</td><td>1</td><td>0</td><td>0</td><td>0</td><td>0</td><td>0</td><td>128</td><td>4.7092860823529294</td><td>0.515625</td><td>0.123046875</td><td>0.205078125</td><td>0.267578125</td><td>0.177734375</td><td>1.792570073907986</td><td>2.378702073034687</td><td>6</td><td>0</td><td>0</td><td>0</td><td>1</td><td>0</td><td>0</td><td>0</td><td>0</td><td>1</td><td>0</td><td>2</td><td>0</td><td>103</td><td>8</td><td>2</td><td>0</td><td>0.2890625</td><td>5</td><td>7</td><td>0</td><td>0</td><td>0</td><td>0</td><td>98</td><td>5</td><td>0</td><td>0</td><td>0</td><td>0</td><td>0</td><td>0</td><td>0</td><td>0</td><td>0</td><td>0</td><td>3</td><td>net</td><td>0</td><td>7</td><td>0</td><td>0</td></tr>\n",
              "<tr><td>pochtarefund-xeq1...</td><td>1</td><td>ALL-phishing-links</td><td>0</td><td>0</td><td>0</td><td>0</td><td>0</td><td>0</td><td>102</td><td>4.5339042991336695</td><td>0.5232843137254902</td><td>0.1237745098039215</td><td>0.1924019607843137</td><td>0.2647058823529412</td><td>0.1948529411764706</td><td>1.797924428647694</td><td>2.360002139952308</td><td>5</td><td>0</td><td>0</td><td>0</td><td>1</td><td>0</td><td>0</td><td>0</td><td>0</td><td>0</td><td>0</td><td>0</td><td>0</td><td>85</td><td>3</td><td>1</td><td>1</td><td>0.2647058823529412</td><td>9</td><td>8</td><td>0</td><td>1</td><td>0</td><td>1</td><td>85</td><td>0</td><td>0</td><td>0</td><td>0</td><td>0</td><td>0</td><td>0</td><td>0</td><td>0</td><td>0</td><td>0</td><td>3</td><td>xyz</td><td>1</td><td>4</td><td>19</td><td>0</td></tr>\n",
              "<tr><td>refund-hmrc.uk-co...</td><td>1</td><td>ALL-phishing-links</td><td>1</td><td>0</td><td>0</td><td>0</td><td>0</td><td>0</td><td>137</td><td>4.970713544391541</td><td>0.489051094890511</td><td>0.1478102189781022</td><td>0.208029197080292</td><td>0.2746350364963503</td><td>0.1651459854014598</td><td>1.8200161718777177</td><td>2.386787279379362</td><td>4</td><td>0</td><td>0</td><td>0</td><td>4</td><td>0</td><td>0</td><td>0</td><td>0</td><td>0</td><td>0</td><td>0</td><td>0</td><td>81</td><td>47</td><td>1</td><td>0</td><td>0.3284671532846715</td><td>18</td><td>1</td><td>0</td><td>3</td><td>0</td><td>0</td><td>72</td><td>9</td><td>0</td><td>0</td><td>0</td><td>0</td><td>0</td><td>0</td><td>0</td><td>0</td><td>0</td><td>0</td><td>3</td><td>com</td><td>0</td><td>6</td><td>102</td><td>2</td></tr>\n",
              "<tr><td>yale.edu/ynhti/cu...</td><td>0</td><td>data_clean_test_m...</td><td>0</td><td>0</td><td>0</td><td>0</td><td>0</td><td>0</td><td>54</td><td>4.2251956700499935</td><td>0.5</td><td>0.1412037037037037</td><td>0.2013888888888889</td><td>0.2662037037037037</td><td>0.1689814814814814</td><td>1.8061171072683</td><td>2.3813584900008435</td><td>5</td><td>0</td><td>0</td><td>0</td><td>0</td><td>0</td><td>0</td><td>0</td><td>0</td><td>0</td><td>0</td><td>0</td><td>0</td><td>32</td><td>11</td><td>0</td><td>0</td><td>0.4074074074074074</td><td>5</td><td>6</td><td>0</td><td>5</td><td>0</td><td>0</td><td>32</td><td>0</td><td>0</td><td>1</td><td>0</td><td>0</td><td>0</td><td>0</td><td>0</td><td>0</td><td>0</td><td>0</td><td>3</td><td>edu</td><td>1</td><td>2</td><td>0</td><td>0</td></tr>\n",
              "<tr><td>qloqqqzasmhcjidnt...</td><td>1</td><td>ALL-phishing-domains</td><td>0</td><td>0</td><td>0</td><td>0</td><td>0</td><td>1</td><td>77</td><td>4.605119827680952</td><td>0.5162337662337663</td><td>0.1201298701298701</td><td>0.2012987012987013</td><td>0.2678571428571428</td><td>0.1801948051948052</td><td>1.7873597438789726</td><td>2.3694254232086736</td><td>4</td><td>0</td><td>0</td><td>0</td><td>4</td><td>0</td><td>0</td><td>0</td><td>0</td><td>0</td><td>0</td><td>0</td><td>0</td><td>63</td><td>6</td><td>0</td><td>0</td><td>0.3766233766233766</td><td>0</td><td>0</td><td>0</td><td>0</td><td>0</td><td>0</td><td>63</td><td>0</td><td>0</td><td>0</td><td>0</td><td>0</td><td>0</td><td>0</td><td>0</td><td>0</td><td>0</td><td>0</td><td>3</td><td>com</td><td>0</td><td>4</td><td>65</td><td>2</td></tr>\n",
              "<tr><td>quod.lib.umich.ed...</td><td>0</td><td>data_clean_train_...</td><td>0</td><td>0</td><td>0</td><td>0</td><td>0</td><td>0</td><td>61</td><td>4.545434166021608</td><td>0.5225409836065574</td><td>0.1311475409836065</td><td>0.1905737704918032</td><td>0.2684426229508197</td><td>0.1885245901639344</td><td>1.803262921479916</td><td>2.3853343696613747</td><td>3</td><td>0</td><td>0</td><td>0</td><td>1</td><td>0</td><td>0</td><td>0</td><td>1</td><td>0</td><td>1</td><td>2</td><td>1</td><td>44</td><td>4</td><td>0</td><td>0</td><td>0.459016393442623</td><td>3</td><td>4</td><td>0</td><td>0</td><td>0</td><td>0</td><td>30</td><td>0</td><td>0</td><td>1</td><td>0</td><td>22</td><td>2</td><td>0</td><td>0</td><td>0</td><td>0</td><td>0</td><td>3</td><td>edu</td><td>1</td><td>3</td><td>8</td><td>1</td></tr>\n",
              "<tr><td>info.clienti.sanp...</td><td>1</td><td>ALL-phishing-links</td><td>1</td><td>1</td><td>0</td><td>0</td><td>0</td><td>1</td><td>260</td><td>4.423526630976792</td><td>0.5432692307692307</td><td>0.1091346153846154</td><td>0.1908653846153846</td><td>0.2677884615384615</td><td>0.2014423076923077</td><td>1.7794907865799563</td><td>2.3668753559394675</td><td>19</td><td>1</td><td>1</td><td>0</td><td>1</td><td>1</td><td>0</td><td>0</td><td>0</td><td>0</td><td>0</td><td>0</td><td>0</td><td>216</td><td>4</td><td>0</td><td>4</td><td>0.1076923076923077</td><td>9</td><td>19</td><td>0</td><td>0</td><td>0</td><td>1</td><td>216</td><td>0</td><td>0</td><td>0</td><td>0</td><td>0</td><td>0</td><td>0</td><td>0</td><td>0</td><td>0</td><td>0</td><td>3</td><td>com</td><td>0</td><td>10</td><td>31</td><td>4</td></tr>\n",
              "<tr><td>02fecb9e9ee6ebb5c...</td><td>1</td><td>ALL-phishing-domains</td><td>0</td><td>0</td><td>0</td><td>0</td><td>0</td><td>1</td><td>73</td><td>4.297127548695565</td><td>0.464041095890411</td><td>0.184931506849315</td><td>0.1934931506849315</td><td>0.2585616438356164</td><td>0.1592465753424657</td><td>1.8354785305162729</td><td>2.36253580563344</td><td>4</td><td>0</td><td>0</td><td>0</td><td>2</td><td>0</td><td>0</td><td>0</td><td>0</td><td>0</td><td>0</td><td>0</td><td>0</td><td>34</td><td>33</td><td>0</td><td>0</td><td>0.3424657534246575</td><td>0</td><td>0</td><td>0</td><td>5</td><td>0</td><td>0</td><td>34</td><td>0</td><td>0</td><td>0</td><td>0</td><td>0</td><td>0</td><td>0</td><td>0</td><td>0</td><td>0</td><td>0</td><td>3</td><td>com</td><td>0</td><td>4</td><td>61</td><td>2</td></tr>\n",
              "<tr><td>m.fb.com-xqdyvjgg...</td><td>1</td><td>ALL-phishing-links</td><td>0</td><td>0</td><td>0</td><td>0</td><td>0</td><td>0</td><td>51</td><td>4.429600283437102</td><td>0.5269607843137255</td><td>0.1078431372549019</td><td>0.2083333333333333</td><td>0.267156862745098</td><td>0.1936274509803921</td><td>1.785330495359172</td><td>2.3776183186530986</td><td>4</td><td>0</td><td>0</td><td>0</td><td>1</td><td>0</td><td>0</td><td>0</td><td>0</td><td>0</td><td>0</td><td>0</td><td>0</td><td>45</td><td>0</td><td>0</td><td>0</td><td>0.4901960784313725</td><td>3</td><td>1</td><td>0</td><td>0</td><td>0</td><td>0</td><td>45</td><td>0</td><td>0</td><td>0</td><td>0</td><td>0</td><td>0</td><td>0</td><td>0</td><td>0</td><td>0</td><td>0</td><td>3</td><td>com</td><td>0</td><td>15</td><td>21</td><td>2</td></tr>\n",
              "</table>\n",
              "only showing top 20 rows\n"
            ]
          },
          "metadata": {},
          "execution_count": 26
        }
      ]
    },
    {
      "cell_type": "code",
      "source": [
        "#extracts key-value pairs for all columns except 'source' and 'url', and returns these pairs as a list of tuples\n",
        "def extract_values(row):\n",
        "    values = []\n",
        "    for key, value in row.asDict().items():\n",
        "        if key not in ['source', 'url']:\n",
        "            values.append((f\"{key}_value\", value))\n",
        "    return values\n",
        "\n",
        "# Apply flatMap transformation\n",
        "flat_mapped_rdd = md.rdd.flatMap(extract_values)\n",
        "\n",
        "# Convert the RDD back to DataFrame for better visualization\n",
        "flat_mapped_df = flat_mapped_rdd.toDF(['feature', 'value'])\n",
        "flat_mapped_df.show()\n"
      ],
      "metadata": {
        "colab": {
          "base_uri": "https://localhost:8080/"
        },
        "id": "CZJYyzrqhjtD",
        "outputId": "16318619-3b72-4162-dd91-6607fabbc2eb"
      },
      "execution_count": null,
      "outputs": [
        {
          "output_type": "stream",
          "name": "stdout",
          "text": [
            "+--------------------+-----+\n",
            "|             feature|value|\n",
            "+--------------------+-----+\n",
            "|         label_value|    0|\n",
            "| url_has_login_value|    0|\n",
            "|url_has_client_value|    0|\n",
            "|url_has_server_value|    0|\n",
            "| url_has_admin_value|    0|\n",
            "|    url_has_ip_value|    0|\n",
            "| url_isshorted_value|    0|\n",
            "|       url_len_value|   15|\n",
            "|   url_entropy_value| NULL|\n",
            "| url_hamming_1_value| NULL|\n",
            "|url_hamming_00_value| NULL|\n",
            "|url_hamming_10_value| NULL|\n",
            "|url_hamming_01_value| NULL|\n",
            "|url_hamming_11_value| NULL|\n",
            "| url_2bentropy_value| NULL|\n",
            "| url_3bentropy_value| NULL|\n",
            "| url_count_dot_value|    1|\n",
            "|url_count_https_v...|    0|\n",
            "|url_count_http_value|    0|\n",
            "|url_count_perc_value|    0|\n",
            "+--------------------+-----+\n",
            "only showing top 20 rows\n",
            "\n"
          ]
        }
      ]
    },
    {
      "cell_type": "code",
      "execution_count": null,
      "metadata": {
        "colab": {
          "base_uri": "https://localhost:8080/"
        },
        "id": "1spAIkOTA0xt",
        "outputId": "a49069a3-fb18-4b1c-baa8-b67cd19dfd67"
      },
      "outputs": [
        {
          "output_type": "stream",
          "name": "stdout",
          "text": [
            "Column 'url' has 0 null values.\n",
            "Column 'label' has 0 null values.\n",
            "Column 'source' has 0 null values.\n",
            "Column 'url_has_login' has 0 null values.\n",
            "Column 'url_has_client' has 0 null values.\n",
            "Column 'url_has_server' has 0 null values.\n",
            "Column 'url_has_admin' has 0 null values.\n",
            "Column 'url_has_ip' has 0 null values.\n",
            "Column 'url_isshorted' has 0 null values.\n",
            "Column 'url_len' has 0 null values.\n",
            "Column 'url_entropy' has 0 null values.\n",
            "Column 'url_hamming_1' has 0 null values.\n",
            "Column 'url_hamming_00' has 0 null values.\n",
            "Column 'url_hamming_10' has 0 null values.\n",
            "Column 'url_hamming_01' has 0 null values.\n",
            "Column 'url_hamming_11' has 0 null values.\n",
            "Column 'url_2bentropy' has 0 null values.\n",
            "Column 'url_3bentropy' has 0 null values.\n",
            "Column 'url_count_dot' has 0 null values.\n",
            "Column 'url_count_https' has 0 null values.\n",
            "Column 'url_count_http' has 0 null values.\n",
            "Column 'url_count_perc' has 0 null values.\n",
            "Column 'url_count_hyphen' has 0 null values.\n",
            "Column 'url_count_www' has 0 null values.\n",
            "Column 'url_count_atrate' has 0 null values.\n",
            "Column 'url_count_hash' has 0 null values.\n",
            "Column 'url_count_semicolon' has 0 null values.\n",
            "Column 'url_count_underscore' has 0 null values.\n",
            "Column 'url_count_ques' has 0 null values.\n",
            "Column 'url_count_equal' has 0 null values.\n",
            "Column 'url_count_amp' has 0 null values.\n",
            "Column 'url_count_letter' has 0 null values.\n",
            "Column 'url_count_digit' has 0 null values.\n",
            "Column 'url_count_sensitive_financial_words' has 0 null values.\n",
            "Column 'url_count_sensitive_words' has 0 null values.\n",
            "Column 'url_nunique_chars_ratio' has 0 null values.\n",
            "Column 'path_len' has 0 null values.\n",
            "Column 'path_count_no_of_dir' has 0 null values.\n",
            "Column 'path_count_no_of_embed' has 0 null values.\n",
            "Column 'path_count_zero' has 0 null values.\n",
            "Column 'path_count_pertwent' has 0 null values.\n",
            "Column 'path_has_any_sensitive_words' has 0 null values.\n",
            "Column 'path_count_lower' has 0 null values.\n",
            "Column 'path_count_upper' has 0 null values.\n",
            "Column 'path_count_nonascii' has 0 null values.\n",
            "Column 'path_has_singlechardir' has 0 null values.\n",
            "Column 'path_has_upperdir' has 0 null values.\n",
            "Column 'query_len' has 0 null values.\n",
            "Column 'query_count_components' has 0 null values.\n",
            "Column 'pdomain_len' has 0 null values.\n",
            "Column 'pdomain_count_hyphen' has 0 null values.\n",
            "Column 'pdomain_count_atrate' has 0 null values.\n",
            "Column 'pdomain_count_non_alphanum' has 0 null values.\n",
            "Column 'pdomain_count_digit' has 0 null values.\n",
            "Column 'tld_len' has 0 null values.\n",
            "Column 'tld' has 0 null values.\n",
            "Column 'tld_is_sus' has 0 null values.\n",
            "Column 'pdomain_min_distance' has 0 null values.\n",
            "Column 'subdomain_len' has 0 null values.\n",
            "Column 'subdomain_count_dot' has 0 null values.\n"
          ]
        }
      ],
      "source": [
        "#isNull(),filter(): to check null values in all the columns\n",
        "from pyspark.sql.functions import col\n",
        "for col_name in md.columns:\n",
        "    null_count = md.filter(col(col_name).isNull()).count()\n",
        "    print(f\"Column '{col_name}' has {null_count} null values.\")"
      ]
    },
    {
      "cell_type": "markdown",
      "source": [
        "**SPARK SQL**"
      ],
      "metadata": {
        "id": "G_YK1g_Pm04E"
      }
    },
    {
      "cell_type": "code",
      "source": [
        "#drops the duplicates in the dataset\n",
        "dropdup = md.dropDuplicates()\n",
        "dropdup.show(10)"
      ],
      "metadata": {
        "colab": {
          "base_uri": "https://localhost:8080/"
        },
        "id": "8a_6dqhqmzw6",
        "outputId": "c24c4f80-a96a-45fb-f1e0-523948cf1685"
      },
      "execution_count": null,
      "outputs": [
        {
          "output_type": "stream",
          "name": "stdout",
          "text": [
            "+--------------------+-----+--------------------+-------------+--------------+--------------+-------------+----------+-------------+-------+------------------+------------------+------------------+------------------+------------------+------------------+------------------+------------------+-------------+---------------+--------------+--------------+----------------+-------------+----------------+--------------+-------------------+--------------------+--------------+---------------+-------------+----------------+---------------+-----------------------------------+-------------------------+-----------------------+--------+--------------------+----------------------+---------------+-------------------+----------------------------+----------------+----------------+-------------------+----------------------+-----------------+---------+----------------------+-----------+--------------------+--------------------+--------------------------+-------------------+-------+-----+----------+--------------------+-------------+-------------------+\n",
            "|                 url|label|              source|url_has_login|url_has_client|url_has_server|url_has_admin|url_has_ip|url_isshorted|url_len|       url_entropy|     url_hamming_1|    url_hamming_00|    url_hamming_10|    url_hamming_01|    url_hamming_11|     url_2bentropy|     url_3bentropy|url_count_dot|url_count_https|url_count_http|url_count_perc|url_count_hyphen|url_count_www|url_count_atrate|url_count_hash|url_count_semicolon|url_count_underscore|url_count_ques|url_count_equal|url_count_amp|url_count_letter|url_count_digit|url_count_sensitive_financial_words|url_count_sensitive_words|url_nunique_chars_ratio|path_len|path_count_no_of_dir|path_count_no_of_embed|path_count_zero|path_count_pertwent|path_has_any_sensitive_words|path_count_lower|path_count_upper|path_count_nonascii|path_has_singlechardir|path_has_upperdir|query_len|query_count_components|pdomain_len|pdomain_count_hyphen|pdomain_count_atrate|pdomain_count_non_alphanum|pdomain_count_digit|tld_len|  tld|tld_is_sus|pdomain_min_distance|subdomain_len|subdomain_count_dot|\n",
            "+--------------------+-----+--------------------+-------------+--------------+--------------+-------------+----------+-------------+-------+------------------+------------------+------------------+------------------+------------------+------------------+------------------+------------------+-------------+---------------+--------------+--------------+----------------+-------------+----------------+--------------+-------------------+--------------------+--------------+---------------+-------------+----------------+---------------+-----------------------------------+-------------------------+-----------------------+--------+--------------------+----------------------+---------------+-------------------+----------------------------+----------------+----------------+-------------------+----------------------+-----------------+---------+----------------------+-----------+--------------------+--------------------+--------------------------+-------------------+-------+-----+----------+--------------------+-------------+-------------------+\n",
            "|       .shamber.info|    0|        dmoz_harvard|            0|             0|             0|            0|         0|            0|     13| 3.546593564294939|0.5192307692307693|0.1057692307692307|0.2211538461538461|0.2788461538461538|0.1826923076923076|1.7860414661453874| 2.396153572749097|            2|              0|             0|             0|               0|            0|               0|             0|                  0|                   0|             0|              0|            0|              11|              0|                                  0|                        0|     0.9230769230769232|       0|                   0|                     0|              0|                  0|                           0|              11|               0|                  0|                     0|                0|        0|                     0|          0|                   0|                   0|                         0|                  0|      4| info|         0|                   3|            0|                  0|\n",
            "|     pedroamador.com|    0|          alexatop1m|            0|             0|             0|            0|         0|            0|     15|3.0565647621309537|             0.525|             0.125|0.1916666666666666|0.2666666666666666|               0.2| 1.804694433720449|2.3348301546816983|            1|              0|             0|             0|               0|            0|               0|             0|                  0|                   0|             0|              0|            0|              14|              0|                                  0|                        0|                    0.6|       0|                   0|                     0|              0|                  0|                           0|              14|               0|                  0|                     0|                0|        0|                     0|          0|                   0|                   0|                         0|                  0|      3|  com|         0|                   7|            0|                  0|\n",
            "|pge152932id072447...|    1|  ALL-phishing-links|            0|             0|             0|            0|         0|            0|     46| 4.571943749300114|0.4836956521739129|0.1603260869565217|0.2038043478260869|0.2608695652173913|0.1630434782608695|1.8234396460631843| 2.406646331221418|            3|              0|             0|             0|               0|            0|               0|             0|                  0|                   0|             0|              0|            0|              29|             13|                                  0|                        0|     0.5869565217391305|      11|                   1|                     0|              1|                  0|                           0|              29|               0|                  0|                     0|                0|        0|                     0|          0|                   0|                   0|                         0|                  0|      2|   vu|         0|                   2|           28|                  0|\n",
            "|      sxlaoqiang.com|    0|          alexatop1m|            0|             0|             0|            0|         0|            0|     14| 3.521640636343319|0.5535714285714286|0.1071428571428571|0.1696428571428571|0.2589285714285714|0.2232142857142857|1.7671173393548807|2.2861402628915783|            1|              0|             0|             0|               0|            0|               0|             0|                  0|                   0|             0|              0|            0|              13|              0|                                  0|                        0|     0.8571428571428571|       0|                   0|                     0|              0|                  0|                           0|              13|               0|                  0|                     0|                0|        0|                     0|          0|                   0|                   0|                         0|                  0|      3|  com|         0|                   7|            0|                  0|\n",
            "|    central-bank.net|    0|        dmoz_harvard|            0|             0|             0|            0|         0|            0|     16| 3.327819531114783|         0.5078125|          0.109375|         0.2265625|           0.28125|          0.171875|1.7858655200824234|2.3867576332370297|            1|              0|             0|             0|               1|            0|               0|             0|                  0|                   0|             0|              0|            0|              14|              0|                                  1|                        0|                 0.6875|       0|                   0|                     0|              0|                  0|                           0|              14|               0|                  0|                     0|                0|        0|                     0|          0|                   0|                   0|                         0|                  0|      3|  net|         0|                   7|            0|                  0|\n",
            "|       mccamylaw.com|    0|        dmoz_harvard|            0|             0|             0|            0|         0|            0|     13| 2.815072410115944|0.5576923076923077|0.0961538461538461| 0.173076923076923|0.2788461538461538|0.2307692307692308|1.7647801665248644|2.2355446579289504|            1|              0|             0|             0|               0|            0|               0|             0|                  0|                   0|             0|              0|            0|              12|              0|                                  0|                        0|     0.6153846153846154|       0|                   0|                     0|              0|                  0|                           0|              12|               0|                  0|                     0|                0|        0|                     0|          0|                   0|                   0|                         0|                  0|      3|  com|         0|                   6|            0|                  0|\n",
            "|   thisiswccc.co.uk/|    0|data_clean_train_...|            0|             0|             0|            0|         0|            0|     17|3.2639334294856344|0.5588235294117647|0.0955882352941176|0.1838235294117647|0.2794117647058824|0.2058823529411765|1.7563737579512049| 2.394668402762349|            2|              0|             0|             0|               0|            0|               0|             0|                  0|                   0|             0|              0|            0|              14|              0|                                  0|                        0|     0.6470588235294118|       0|                   1|                     0|              0|                  0|                           0|              14|               0|                  0|                     0|                0|        0|                     0|          0|                   0|                   0|                         0|                  0|      5|co.uk|         0|                   7|            0|                  0|\n",
            "|       reisefotos.li|    0|        dmoz_harvard|            0|             0|             0|            0|         0|            0|     13|3.0850551027564768|0.5576923076923077|0.1057692307692307|0.2115384615384615|0.2884615384615384|0.2019230769230769|1.8002914342520333| 2.310947471206975|            1|              0|             0|             0|               0|            0|               0|             0|                  0|                   0|             0|              0|            0|              12|              0|                                  0|                        0|     0.6923076923076923|       0|                   0|                     0|              0|                  0|                           0|              12|               0|                  0|                     0|                0|        0|                     0|          0|                   0|                   0|                         0|                  0|      2|   li|         0|                   6|            0|                  0|\n",
            "|       ereleases.com|    0|          alexatop1m|            0|             0|             0|            0|         0|            0|     13|2.9312089489103235|0.5384615384615384|0.1153846153846154|0.2019230769230769|0.2980769230769231|0.1923076923076923|1.8034622395875344|  2.36377052403534|            1|              0|             0|             0|               0|            0|               0|             0|                  0|                   0|             0|              0|            0|              12|              0|                                  0|                        0|     0.6923076923076923|       0|                   0|                     0|              0|                  0|                           0|              12|               0|                  0|                     0|                0|        0|                     0|          0|                   0|                   0|                         0|                  0|      3|  com|         0|                   5|            0|                  0|\n",
            "|vedicpredictiveas...|    0|data_clean_test_m...|            0|             0|             0|            0|         0|            0|     29| 3.926272374139508|0.5387931034482759|0.1163793103448275|0.1982758620689655|0.2758620689655172|0.1982758620689655|1.7994002568650296| 2.367655292710737|            1|              0|             0|             0|               0|            0|               0|             0|                  0|                   0|             0|              0|            0|              27|              0|                                  0|                        0|     0.5862068965517241|       0|                   1|                     0|              0|                  0|                           0|              27|               0|                  0|                     0|                0|        0|                     0|          0|                   0|                   0|                         0|                  0|      3|  com|         0|                  17|            0|                  0|\n",
            "+--------------------+-----+--------------------+-------------+--------------+--------------+-------------+----------+-------------+-------+------------------+------------------+------------------+------------------+------------------+------------------+------------------+------------------+-------------+---------------+--------------+--------------+----------------+-------------+----------------+--------------+-------------------+--------------------+--------------+---------------+-------------+----------------+---------------+-----------------------------------+-------------------------+-----------------------+--------+--------------------+----------------------+---------------+-------------------+----------------------------+----------------+----------------+-------------------+----------------------+-----------------+---------+----------------------+-----------+--------------------+--------------------+--------------------------+-------------------+-------+-----+----------+--------------------+-------------+-------------------+\n",
            "only showing top 10 rows\n",
            "\n"
          ]
        }
      ]
    },
    {
      "cell_type": "code",
      "source": [
        "#Show all entries in source column\n",
        "select_md=md.select(\"source\").show(10)\n"
      ],
      "metadata": {
        "colab": {
          "base_uri": "https://localhost:8080/"
        },
        "id": "N_7EhXV-nFiM",
        "outputId": "4db33c1d-d09f-4356-c20d-caf199f93afc"
      },
      "execution_count": null,
      "outputs": [
        {
          "output_type": "stream",
          "name": "stdout",
          "text": [
            "+--------------------+\n",
            "|              source|\n",
            "+--------------------+\n",
            "|        dmoz_harvard|\n",
            "|    majestic_million|\n",
            "|          alexatop1m|\n",
            "|data_clean_train_...|\n",
            "|ALL-phishing-domains|\n",
            "|              domcop|\n",
            "|        dmoz_harvard|\n",
            "|              domcop|\n",
            "|data_clean_train_...|\n",
            "|data_clean_train_...|\n",
            "+--------------------+\n",
            "only showing top 10 rows\n",
            "\n"
          ]
        }
      ]
    },
    {
      "cell_type": "code",
      "source": [
        "#creates a new df 'when_sql' by adding a column that assigns a value of 1 when the 'source' column matches 'ALL-phishing-domains' and 0 otherwise\n",
        "from pyspark.sql.functions import *\n",
        "from pyspark.sql.types import *\n",
        "when_sql=md.select(\"source\", when(md.source == 'ALL-phishing-domains', 1).otherwise(0)).show()"
      ],
      "metadata": {
        "colab": {
          "base_uri": "https://localhost:8080/"
        },
        "id": "A3D7op6MnFkS",
        "outputId": "000766af-9b98-4279-e214-51bcffa49105"
      },
      "execution_count": null,
      "outputs": [
        {
          "output_type": "stream",
          "name": "stdout",
          "text": [
            "+--------------------+-----------------------------------------------------------+\n",
            "|              source|CASE WHEN (source = ALL-phishing-domains) THEN 1 ELSE 0 END|\n",
            "+--------------------+-----------------------------------------------------------+\n",
            "|        dmoz_harvard|                                                          0|\n",
            "|    majestic_million|                                                          0|\n",
            "|          alexatop1m|                                                          0|\n",
            "|data_clean_train_...|                                                          0|\n",
            "|ALL-phishing-domains|                                                          1|\n",
            "|              domcop|                                                          0|\n",
            "|        dmoz_harvard|                                                          0|\n",
            "|              domcop|                                                          0|\n",
            "|data_clean_train_...|                                                          0|\n",
            "|data_clean_train_...|                                                          0|\n",
            "|data_clean_train_...|                                                          0|\n",
            "|              domcop|                                                          0|\n",
            "|  ALL-phishing-links|                                                          0|\n",
            "|        dmoz_harvard|                                                          0|\n",
            "|        dmoz_harvard|                                                          0|\n",
            "|        dmoz_harvard|                                                          0|\n",
            "|data_clean_train_...|                                                          0|\n",
            "|          alexatop1m|                                                          0|\n",
            "|           phishtank|                                                          0|\n",
            "|        dmoz_harvard|                                                          0|\n",
            "+--------------------+-----------------------------------------------------------+\n",
            "only showing top 20 rows\n",
            "\n"
          ]
        }
      ]
    },
    {
      "cell_type": "code",
      "source": [
        "#isin - filters the dataset to include rows where the 'source' column values are either \"dmoz_harvard\" or \"Edomcop\"\n",
        "isin_sql=md [md.source.isin(\"dmoz_harvard\", \"Edomcop\")].show()\n"
      ],
      "metadata": {
        "colab": {
          "base_uri": "https://localhost:8080/"
        },
        "id": "hJT2IDybnFmJ",
        "outputId": "7c78c257-1765-401f-ce2c-50e174914fe7"
      },
      "execution_count": null,
      "outputs": [
        {
          "output_type": "stream",
          "name": "stdout",
          "text": [
            "+--------------------+-----+------------+-------------+--------------+--------------+-------------+----------+-------------+-------+------------------+------------------+------------------+------------------+------------------+------------------+------------------+------------------+-------------+---------------+--------------+--------------+----------------+-------------+----------------+--------------+-------------------+--------------------+--------------+---------------+-------------+----------------+---------------+-----------------------------------+-------------------------+-----------------------+--------+--------------------+----------------------+---------------+-------------------+----------------------------+----------------+----------------+-------------------+----------------------+-----------------+---------+----------------------+-----------+--------------------+--------------------+--------------------------+-------------------+-------+------+----------+--------------------+-------------+-------------------+\n",
            "|                 url|label|      source|url_has_login|url_has_client|url_has_server|url_has_admin|url_has_ip|url_isshorted|url_len|       url_entropy|     url_hamming_1|    url_hamming_00|    url_hamming_10|    url_hamming_01|    url_hamming_11|     url_2bentropy|     url_3bentropy|url_count_dot|url_count_https|url_count_http|url_count_perc|url_count_hyphen|url_count_www|url_count_atrate|url_count_hash|url_count_semicolon|url_count_underscore|url_count_ques|url_count_equal|url_count_amp|url_count_letter|url_count_digit|url_count_sensitive_financial_words|url_count_sensitive_words|url_nunique_chars_ratio|path_len|path_count_no_of_dir|path_count_no_of_embed|path_count_zero|path_count_pertwent|path_has_any_sensitive_words|path_count_lower|path_count_upper|path_count_nonascii|path_has_singlechardir|path_has_upperdir|query_len|query_count_components|pdomain_len|pdomain_count_hyphen|pdomain_count_atrate|pdomain_count_non_alphanum|pdomain_count_digit|tld_len|   tld|tld_is_sus|pdomain_min_distance|subdomain_len|subdomain_count_dot|\n",
            "+--------------------+-----+------------+-------------+--------------+--------------+-------------+----------+-------------+-------+------------------+------------------+------------------+------------------+------------------+------------------+------------------+------------------+-------------+---------------+--------------+--------------+----------------+-------------+----------------+--------------+-------------------+--------------------+--------------+---------------+-------------+----------------+---------------+-----------------------------------+-------------------------+-----------------------+--------+--------------------+----------------------+---------------+-------------------+----------------------------+----------------+----------------+-------------------+----------------------+-----------------+---------+----------------------+-----------+--------------------+--------------------+--------------------------+-------------------+-------+------+----------+--------------------+-------------+-------------------+\n",
            "|     spa-security.de|    0|dmoz_harvard|            0|             0|             0|            0|         0|            0|     15| 3.640223928941852|0.5083333333333333|0.1416666666666666|               0.2|0.2833333333333333|0.1583333333333333|1.8003115692558134|2.3993425283550898|            1|              0|             0|             0|               1|            0|               0|             0|                  0|                   0|             0|              0|            0|              13|              0|                                  0|                        0|     0.8666666666666667|       0|                   0|                     0|              0|                  0|                           0|              13|               0|                  0|                     0|                0|        0|                     0|          0|                   0|                   0|                         0|                  0|      2|    de|         0|                   7|            0|                  0|\n",
            "|semidiceviprima.i...|    0|dmoz_harvard|            0|             0|             0|            0|         0|            0|     33|  3.67587110545754|0.5075757575757576|0.1212121212121212|0.2121212121212121|0.2916666666666667| 0.178030303030303|1.8052705985091289|2.3844714280348995|            2|              0|             0|             0|               0|            0|               0|             0|                  0|                   0|             0|              0|            0|              31|              0|                                  0|                        0|     0.4848484848484849|       0|                   0|                     0|              0|                  0|                           0|              31|               0|                  0|                     0|                0|        0|                     0|          0|                   0|                   0|                         0|                  0|      2|    it|         0|                   9|           15|                  0|\n",
            "|tier-freizeitpark.de|    0|dmoz_harvard|            0|             0|             0|            0|         0|            0|     20|3.3464393446710154|           0.49375|           0.13125|            0.2375|               0.3|           0.14375|1.8004413495138758| 2.388233956706961|            1|              0|             0|             0|               1|            0|               0|             0|                  0|                   0|             0|              0|            0|              18|              0|                                  0|                        0|                    0.6|       0|                   0|                     0|              0|                  0|                           0|              18|               0|                  0|                     0|                0|        0|                     0|          0|                   0|                   0|                         0|                  0|      2|    de|         0|                  12|            0|                  0|\n",
            "|             hwa.net|    0|dmoz_harvard|            0|             0|             0|            0|         0|            0|      7|2.8073549220576046|0.5178571428571429|0.1071428571428571|0.2142857142857142|0.2678571428571428|0.1607142857142857|1.7544088886844642|  2.42317721090096|            1|              0|             0|             0|               0|            0|               0|             0|                  0|                   0|             0|              0|            0|               6|              0|                                  0|                        0|                    1.0|       0|                   0|                     0|              0|                  0|                           0|               6|               0|                  0|                     0|                0|        0|                     0|          0|                   0|                   0|                         0|                  0|      3|   net|         0|                   3|            0|                  0|\n",
            "|selbstmordgedanke...|    0|dmoz_harvard|            0|             0|             0|            0|         0|            0|     23|3.8492239123906247|0.5434782608695652|0.1032608695652174| 0.217391304347826|0.2826086956521739|0.2010869565217391|1.7974281688799314|2.3274470429655207|            1|              0|             0|             0|               0|            0|               0|             0|                  0|                   0|             0|              0|            0|              22|              0|                                  0|                        0|     0.6956521739130435|       0|                   0|                     0|              0|                  0|                           0|              22|               0|                  0|                     0|                0|        0|                     0|          0|                   0|                   0|                         0|                  0|      4|  info|         0|                  12|            0|                  0|\n",
            "|akinsalortaokul.m...|    0|dmoz_harvard|            0|             0|             0|            0|         0|            0|     26|3.8441065448145375|0.5240384615384616| 0.110576923076923|0.2163461538461538|0.2836538461538461|0.1826923076923076|1.7927887199323496| 2.344932991679105|            3|              0|             0|             0|               0|            0|               0|             0|                  0|                   0|             0|              0|            0|              21|              2|                                  0|                        0|     0.6153846153846154|       0|                   0|                     0|              0|                  0|                           0|              21|               0|                  0|                     0|                0|        0|                     0|          0|                   0|                   0|                         0|                  0|      6|k12.tr|         0|                   2|           15|                  0|\n",
            "|foerderschwerpunk...|    0|dmoz_harvard|            0|             0|             0|            0|         0|            0|     21|3.6897037321995465|0.5238095238095238|0.1130952380952381|0.2202380952380952|0.2797619047619048|0.1726190476190476| 1.787966533544932|2.3900316768256955|            1|              0|             0|             0|               0|            0|               0|             0|                  0|                   0|             0|              0|            0|              20|              0|                                  0|                        0|     0.7142857142857143|       0|                   0|                     0|              0|                  0|                           0|              20|               0|                  0|                     0|                0|        0|                     0|          0|                   0|                   0|                         0|                  0|      2|    de|         0|                  13|            0|                  0|\n",
            "|    bernsteinhexe.de|    0|dmoz_harvard|            0|             0|             0|            0|         0|            0|     16|3.1493974703476995|               0.5|         0.1171875|          0.234375|         0.2890625|           0.15625|1.7890748966531118|2.4405807869887712|            1|              0|             0|             0|               0|            0|               0|             0|                  0|                   0|             0|              0|            0|              15|              0|                                  0|                        0|                 0.6875|       0|                   0|                     0|              0|                  0|                           0|              15|               0|                  0|                     0|                0|        0|                     0|          0|                   0|                   0|                         0|                  0|      2|    de|         0|                   8|            0|                  0|\n",
            "|       .shamber.info|    0|dmoz_harvard|            0|             0|             0|            0|         0|            0|     13| 3.546593564294939|0.5192307692307693|0.1057692307692307|0.2211538461538461|0.2788461538461538|0.1826923076923076|1.7860414661453874| 2.396153572749097|            2|              0|             0|             0|               0|            0|               0|             0|                  0|                   0|             0|              0|            0|              11|              0|                                  0|                        0|     0.9230769230769232|       0|                   0|                     0|              0|                  0|                           0|              11|               0|                  0|                     0|                0|        0|                     0|          0|                   0|                   0|                         0|                  0|      4|  info|         0|                   3|            0|                  0|\n",
            "|  tb-reintegratie.nl|    0|dmoz_harvard|            0|             0|             0|            0|         0|            0|     18|3.3082708345352603|0.5069444444444444|0.1180555555555555|0.2361111111111111|0.2916666666666667|0.1527777777777778|1.7881662701067371| 2.420661697853272|            1|              0|             0|             0|               1|            0|               0|             0|                  0|                   0|             0|              0|            0|              16|              0|                                  0|                        0|     0.6111111111111112|       0|                   0|                     0|              0|                  0|                           0|              16|               0|                  0|                     0|                0|        0|                     0|          0|                   0|                   0|                         0|                  0|      2|    nl|         0|                   9|            0|                  0|\n",
            "|         crostel.com|    0|dmoz_harvard|            0|             0|             0|            0|         0|            0|     11|3.0957952550009344|0.5681818181818182|0.0909090909090909|0.1931818181818181|0.2727272727272727|0.2272727272727273|1.7697301303370767|2.3360025314537967|            1|              0|             0|             0|               0|            0|               0|             0|                  0|                   0|             0|              0|            0|              10|              0|                                  0|                        0|     0.8181818181818182|       0|                   0|                     0|              0|                  0|                           0|              10|               0|                  0|                     0|                0|        0|                     0|          0|                   0|                   0|                         0|                  0|      3|   com|         0|                   4|            0|                  0|\n",
            "|ci.riverdale-park...|    0|dmoz_harvard|            0|             0|             0|            0|         0|            0|     23|3.7622673906514943|               0.5|0.1304347826086956|0.2228260869565217|0.2880434782608696|0.1576086956521739| 1.803280665125992| 2.392071321769424|            3|              0|             0|             0|               1|            0|               0|             0|                  0|                   0|             0|              0|            0|              19|              0|                                  0|                        0|     0.6521739130434783|       0|                   0|                     0|              0|                  0|                           0|              19|               0|                  0|                     0|                0|        0|                     0|          0|                   0|                   0|                         0|                  0|      5| md.us|         0|                  10|            2|                  0|\n",
            "|        .bory-var.hu|    0|dmoz_harvard|            0|             0|             0|            0|         0|            0|     12|3.2516291673878226|0.5208333333333334|0.1041666666666666|           0.21875|0.2708333333333333|0.1666666666666666|1.7607591984765458|2.3969177322698703|            2|              0|             0|             0|               1|            0|               0|             0|                  0|                   0|             0|              0|            0|               9|              0|                                  0|                        0|     0.8333333333333334|       0|                   0|                     0|              0|                  0|                           0|               9|               0|                  0|                     0|                0|        0|                     0|          0|                   0|                   0|                         0|                  0|      2|    hu|         0|                   5|            0|                  0|\n",
            "| westlocktractor.com|    0|dmoz_harvard|            0|             0|             0|            0|         0|            0|     19| 3.391892644680933|0.5657894736842105|0.0921052631578947|0.1907894736842105|0.2697368421052632|0.2171052631578947|1.7611740998501515|2.3414774595567014|            1|              0|             0|             0|               0|            0|               0|             0|                  0|                   0|             0|              0|            0|              18|              0|                                  0|                        0|      0.631578947368421|       0|                   0|                     0|              0|                  0|                           0|              18|               0|                  0|                     0|                0|        0|                     0|          0|                   0|                   0|                         0|                  0|      3|   com|         0|                  10|            0|                  0|\n",
            "|      lisademetz.com|    0|dmoz_harvard|            0|             0|             0|            0|         0|            0|     14| 3.521640636343319|0.5357142857142857|0.1071428571428571|0.2142857142857142|0.2946428571428571|0.1964285714285714|1.8021263065395607| 2.339021094654423|            1|              0|             0|             0|               0|            0|               0|             0|                  0|                   0|             0|              0|            0|              13|              0|                                  0|                        0|     0.8571428571428571|       0|                   0|                     0|              0|                  0|                           0|              13|               0|                  0|                     0|                0|        0|                     0|          0|                   0|                   0|                         0|                  0|      3|   com|         0|                   6|            0|                  0|\n",
            "|         oldrauma.fi|    0|dmoz_harvard|            0|             0|             0|            0|         0|            0|     11|3.2776134368191165|0.5113636363636364|             0.125|0.2159090909090909|0.2840909090909091|0.1818181818181818|1.8154417002095635| 2.314384353742442|            1|              0|             0|             0|               0|            0|               0|             0|                  0|                   0|             0|              0|            0|              10|              0|                                  0|                        0|     0.9090909090909092|       0|                   0|                     0|              0|                  0|                           0|              10|               0|                  0|                     0|                0|        0|                     0|          0|                   0|                   0|                         0|                  0|      2|    fi|         0|                   5|            0|                  0|\n",
            "|      bigarrowup.com|    0|dmoz_harvard|            0|             0|             0|            0|         0|            0|     14| 3.521640636343319|0.5535714285714286|0.0982142857142857|            0.1875|0.2678571428571428|0.1964285714285714|   1.7518855918857|2.3572326969417428|            1|              0|             0|             0|               0|            0|               0|             0|                  0|                   0|             0|              0|            0|              13|              0|                                  0|                        0|     0.8571428571428571|       0|                   0|                     0|              0|                  0|                           0|              13|               0|                  0|                     0|                0|        0|                     0|          0|                   0|                   0|                         0|                  0|      3|   com|         0|                   7|            0|                  0|\n",
            "| viglianoedilizia.it|    0|dmoz_harvard|            0|             0|             0|            0|         0|            0|     19|3.2210972500579578|0.5197368421052632|0.1184210526315789|0.2236842105263158|0.2960526315789473|0.1776315789473684|1.8104952180610687| 2.350014451373632|            1|              0|             0|             0|               0|            0|               0|             0|                  0|                   0|             0|              0|            0|              18|              0|                                  0|                        0|      0.631578947368421|       0|                   0|                     0|              0|                  0|                           0|              18|               0|                  0|                     0|                0|        0|                     0|          0|                   0|                   0|                         0|                  0|      2|    it|         0|                  10|            0|                  0|\n",
            "|   fmercury.narod.ru|    0|dmoz_harvard|            0|             0|             0|            0|         0|            0|     17| 3.381580488309164|0.5367647058823529|0.1029411764705882|0.2205882352941176|0.2794117647058824|0.1764705882352941|1.7742722710831618| 2.353398430242547|            2|              0|             0|             0|               0|            0|               0|             0|                  0|                   0|             0|              0|            0|              15|              0|                                  0|                        0|     0.7058823529411765|       0|                   0|                     0|              0|                  0|                           0|              15|               0|                  0|                     0|                0|        0|                     0|          0|                   0|                   0|                         0|                  0|      2|    ru|         1|                   3|            8|                  0|\n",
            "|     bouncyfun.co.uk|    0|dmoz_harvard|            0|             0|             0|            0|         0|            0|     15|3.0565647621309537|0.5833333333333334|0.0583333333333333|0.2083333333333333|0.2833333333333333|0.2166666666666666|1.7041739693586038| 2.267210713642335|            2|              0|             0|             0|               0|            0|               0|             0|                  0|                   0|             0|              0|            0|              13|              0|                                  0|                        0|                    0.6|       0|                   0|                     0|              0|                  0|                           0|              13|               0|                  0|                     0|                0|        0|                     0|          0|                   0|                   0|                         0|                  0|      5| co.uk|         0|                   5|            0|                  0|\n",
            "+--------------------+-----+------------+-------------+--------------+--------------+-------------+----------+-------------+-------+------------------+------------------+------------------+------------------+------------------+------------------+------------------+------------------+-------------+---------------+--------------+--------------+----------------+-------------+----------------+--------------+-------------------+--------------------+--------------+---------------+-------------+----------------+---------------+-----------------------------------+-------------------------+-----------------------+--------+--------------------+----------------------+---------------+-------------------+----------------------------+----------------+----------------+-------------------+----------------------+-----------------+---------+----------------------+-----------+--------------------+--------------------+--------------------------+-------------------+-------+------+----------+--------------------+-------------+-------------------+\n",
            "only showing top 20 rows\n",
            "\n"
          ]
        }
      ]
    },
    {
      "cell_type": "code",
      "source": [
        "#like - checks if the 'source' column contains the substring 'd'\n",
        "like_sql=md.select(\"url_len\", \"source\", md.source.like(\"% d %\")).show()\n"
      ],
      "metadata": {
        "colab": {
          "base_uri": "https://localhost:8080/"
        },
        "id": "Nnc1bRFWnFoX",
        "outputId": "b866fbef-08f7-4871-b0b9-f482e31dfc55"
      },
      "execution_count": null,
      "outputs": [
        {
          "output_type": "stream",
          "name": "stdout",
          "text": [
            "+-------+--------------------+-----------------+\n",
            "|url_len|              source|source LIKE % d %|\n",
            "+-------+--------------------+-----------------+\n",
            "|     15|        dmoz_harvard|            false|\n",
            "|     12|    majestic_million|            false|\n",
            "|     12|          alexatop1m|            false|\n",
            "|     15|data_clean_train_...|            false|\n",
            "|     29|ALL-phishing-domains|            false|\n",
            "|     21|              domcop|            false|\n",
            "|     33|        dmoz_harvard|            false|\n",
            "|     25|              domcop|            false|\n",
            "|     33|data_clean_train_...|            false|\n",
            "|     21|data_clean_train_...|            false|\n",
            "|     35|data_clean_train_...|            false|\n",
            "|     13|              domcop|            false|\n",
            "|    118|  ALL-phishing-links|            false|\n",
            "|     20|        dmoz_harvard|            false|\n",
            "|      7|        dmoz_harvard|            false|\n",
            "|     23|        dmoz_harvard|            false|\n",
            "|     32|data_clean_train_...|            false|\n",
            "|     11|          alexatop1m|            false|\n",
            "|     23|           phishtank|            false|\n",
            "|     26|        dmoz_harvard|            false|\n",
            "+-------+--------------------+-----------------+\n",
            "only showing top 20 rows\n",
            "\n"
          ]
        }
      ]
    },
    {
      "cell_type": "code",
      "source": [
        "#startswith - check if the 'source' column starts with the string \"ALL\".\n",
        "start=md.select(\"url_len\", \"source\", md.source.startswith(\"ALL\")).show(5)\n"
      ],
      "metadata": {
        "colab": {
          "base_uri": "https://localhost:8080/"
        },
        "id": "mE3Dk5GLnFqU",
        "outputId": "39afc337-978d-4444-b537-5899a17f35a7"
      },
      "execution_count": null,
      "outputs": [
        {
          "output_type": "stream",
          "name": "stdout",
          "text": [
            "+-------+--------------------+-----------------------+\n",
            "|url_len|              source|startswith(source, ALL)|\n",
            "+-------+--------------------+-----------------------+\n",
            "|     15|        dmoz_harvard|                  false|\n",
            "|     12|    majestic_million|                  false|\n",
            "|     12|          alexatop1m|                  false|\n",
            "|     15|data_clean_train_...|                  false|\n",
            "|     29|ALL-phishing-domains|                   true|\n",
            "+-------+--------------------+-----------------------+\n",
            "only showing top 5 rows\n",
            "\n"
          ]
        }
      ]
    },
    {
      "cell_type": "code",
      "source": [
        "#endswith- check if the 'source' column ends with the string \"rd\".\n",
        "ends=md.select(\"url_len\", \"source\", md.source.endswith(\"rd\")).show()"
      ],
      "metadata": {
        "colab": {
          "base_uri": "https://localhost:8080/"
        },
        "id": "gAFfdte9nFsP",
        "outputId": "6294bef9-23fa-40d6-b427-efad198948b4"
      },
      "execution_count": null,
      "outputs": [
        {
          "output_type": "stream",
          "name": "stdout",
          "text": [
            "+-------+--------------------+--------------------+\n",
            "|url_len|              source|endswith(source, rd)|\n",
            "+-------+--------------------+--------------------+\n",
            "|     15|        dmoz_harvard|                true|\n",
            "|     12|    majestic_million|               false|\n",
            "|     12|          alexatop1m|               false|\n",
            "|     15|data_clean_train_...|               false|\n",
            "|     29|ALL-phishing-domains|               false|\n",
            "|     21|              domcop|               false|\n",
            "|     33|        dmoz_harvard|                true|\n",
            "|     25|              domcop|               false|\n",
            "|     33|data_clean_train_...|               false|\n",
            "|     21|data_clean_train_...|               false|\n",
            "|     35|data_clean_train_...|               false|\n",
            "|     13|              domcop|               false|\n",
            "|    118|  ALL-phishing-links|               false|\n",
            "|     20|        dmoz_harvard|                true|\n",
            "|      7|        dmoz_harvard|                true|\n",
            "|     23|        dmoz_harvard|                true|\n",
            "|     32|data_clean_train_...|               false|\n",
            "|     11|          alexatop1m|               false|\n",
            "|     23|           phishtank|               false|\n",
            "|     26|        dmoz_harvard|                true|\n",
            "+-------+--------------------+--------------------+\n",
            "only showing top 20 rows\n",
            "\n"
          ]
        }
      ]
    },
    {
      "cell_type": "code",
      "source": [
        "#substr- Extracts a substring starting from the first character and taking the next 10 characters\n",
        "substr=md.select(md.url.substr(1, 10).alias(\"url\")).show()"
      ],
      "metadata": {
        "colab": {
          "base_uri": "https://localhost:8080/"
        },
        "id": "5RMN2VWLnFvx",
        "outputId": "370fb3aa-375d-48d4-976a-902e4f88ad5b"
      },
      "execution_count": null,
      "outputs": [
        {
          "output_type": "stream",
          "name": "stdout",
          "text": [
            "+----------+\n",
            "|       url|\n",
            "+----------+\n",
            "|spa-securi|\n",
            "|mallander.|\n",
            "|zzndb.com.|\n",
            "|enviroseal|\n",
            "|hunt1ngton|\n",
            "|augenblick|\n",
            "|semidicevi|\n",
            "|nrgeology.|\n",
            "|eng.uwo.ca|\n",
            "|geocities.|\n",
            "|angelfire.|\n",
            "|esspeedee.|\n",
            "|aguasandin|\n",
            "|tier-freiz|\n",
            "|   hwa.net|\n",
            "|selbstmord|\n",
            "|i.webring.|\n",
            "|opusdei.or|\n",
            "|cjyqyxnssq|\n",
            "|akinsalort|\n",
            "+----------+\n",
            "only showing top 20 rows\n",
            "\n"
          ]
        }
      ]
    },
    {
      "cell_type": "code",
      "source": [
        "#calculates the count of each distinct value in the 'source' column\n",
        "group=md.groupBy(\"source\").count().show()"
      ],
      "metadata": {
        "colab": {
          "base_uri": "https://localhost:8080/"
        },
        "id": "9vPpDlRBqeJi",
        "outputId": "b4a2b394-2b6e-4f4e-f7ab-0a166ba83543"
      },
      "execution_count": null,
      "outputs": [
        {
          "output_type": "stream",
          "name": "stdout",
          "text": [
            "+--------------------+------+\n",
            "|              source| count|\n",
            "+--------------------+------+\n",
            "|data_clean_test_m...| 71056|\n",
            "|           openphish|   175|\n",
            "|        dmoz_harvard|479959|\n",
            "|           phishtank|133914|\n",
            "|              manual|  1048|\n",
            "|              domcop|159833|\n",
            "|  ALL-phishing-links|123496|\n",
            "|          alexatop1m|199672|\n",
            "|               aa419|  2454|\n",
            "|    majestic_million|112104|\n",
            "+--------------------+------+\n",
            "only showing top 10 rows\n",
            "\n"
          ]
        }
      ]
    },
    {
      "cell_type": "code",
      "source": [
        "#show only rows where the 'source' column is equal to 'domcop'\n",
        "filter_sql=md.filter(md[\"source\"] == 'domcop').show(5)"
      ],
      "metadata": {
        "colab": {
          "base_uri": "https://localhost:8080/"
        },
        "id": "lPvf9PV9qeLj",
        "outputId": "b1b00226-a365-4056-e140-169ee60b04e7"
      },
      "execution_count": null,
      "outputs": [
        {
          "output_type": "stream",
          "name": "stdout",
          "text": [
            "+--------------------+-----+------+-------------+--------------+--------------+-------------+----------+-------------+-------+------------------+------------------+------------------+------------------+------------------+------------------+------------------+------------------+-------------+---------------+--------------+--------------+----------------+-------------+----------------+--------------+-------------------+--------------------+--------------+---------------+-------------+----------------+---------------+-----------------------------------+-------------------------+-----------------------+--------+--------------------+----------------------+---------------+-------------------+----------------------------+----------------+----------------+-------------------+----------------------+-----------------+---------+----------------------+-----------+--------------------+--------------------+--------------------------+-------------------+-------+------+----------+--------------------+-------------+-------------------+\n",
            "|                 url|label|source|url_has_login|url_has_client|url_has_server|url_has_admin|url_has_ip|url_isshorted|url_len|       url_entropy|     url_hamming_1|    url_hamming_00|    url_hamming_10|    url_hamming_01|    url_hamming_11|     url_2bentropy|     url_3bentropy|url_count_dot|url_count_https|url_count_http|url_count_perc|url_count_hyphen|url_count_www|url_count_atrate|url_count_hash|url_count_semicolon|url_count_underscore|url_count_ques|url_count_equal|url_count_amp|url_count_letter|url_count_digit|url_count_sensitive_financial_words|url_count_sensitive_words|url_nunique_chars_ratio|path_len|path_count_no_of_dir|path_count_no_of_embed|path_count_zero|path_count_pertwent|path_has_any_sensitive_words|path_count_lower|path_count_upper|path_count_nonascii|path_has_singlechardir|path_has_upperdir|query_len|query_count_components|pdomain_len|pdomain_count_hyphen|pdomain_count_atrate|pdomain_count_non_alphanum|pdomain_count_digit|tld_len|   tld|tld_is_sus|pdomain_min_distance|subdomain_len|subdomain_count_dot|\n",
            "+--------------------+-----+------+-------------+--------------+--------------+-------------+----------+-------------+-------+------------------+------------------+------------------+------------------+------------------+------------------+------------------+------------------+-------------+---------------+--------------+--------------+----------------+-------------+----------------+--------------+-------------------+--------------------+--------------+---------------+-------------+----------------+---------------+-----------------------------------+-------------------------+-----------------------+--------+--------------------+----------------------+---------------+-------------------+----------------------------+----------------+----------------+-------------------+----------------------+-----------------+---------+----------------------+-----------+--------------------+--------------------+--------------------------+-------------------+-------+------+----------+--------------------+-------------+-------------------+\n",
            "|augenblickstudios...|    0|domcop|            0|             0|             0|            0|         0|            0|     21| 3.916126946588284|0.5535714285714286|0.0952380952380952|0.2023809523809524|0.2916666666666667|0.2023809523809524|1.7744640575173023|2.3391365535245803|            1|              0|             0|             0|               0|            0|               0|             0|                  0|                   0|             0|              0|            0|              20|              0|                                  0|                        0|     0.7619047619047619|       0|                   0|                     0|              0|                  0|                           0|              20|               0|                  0|                     0|                0|        0|                     0|          0|                   0|                   0|                         0|                  0|      3|   com|         0|                  11|            0|                  0|\n",
            "|nrgeology.blogspo...|    0|domcop|            0|             0|             0|            0|         0|            1|     25|3.7190795706241735|             0.575|             0.095|             0.185|              0.26|             0.225|1.7624667253683075| 2.291521260466533|            3|              0|             0|             0|               0|            0|               0|             0|                  0|                   0|             0|              0|            0|              22|              0|                                  0|                        0|                   0.64|       0|                   0|                     0|              0|                  0|                           0|              22|               0|                  0|                     0|                0|        0|                     0|          0|                   0|                   0|                         0|                  0|      6|com.au|         0|                   0|            9|                  0|\n",
            "|       esspeedee.com|    0|domcop|            0|             0|             0|            0|         0|            0|     13|2.6535442970305683|0.5288461538461539|             0.125|0.2019230769230769|0.2980769230769231|0.1826923076923076| 1.809633132040792|2.3827723168100983|            1|              0|             0|             0|               0|            0|               0|             0|                  0|                   0|             0|              0|            0|              12|              0|                                  0|                        0|     0.6153846153846154|       0|                   0|                     0|              0|                  0|                           0|              12|               0|                  0|                     0|                0|        0|                     0|          0|                   0|                   0|                         0|                  0|      3|   com|         0|                   5|            0|                  0|\n",
            "|  abookishescape.com|    0|domcop|            0|             0|             0|            0|         0|            0|     18|3.4613201402110083|0.5347222222222222|0.1111111111111111|0.1805555555555555|0.2777777777777778|0.2083333333333333|1.7828911515702817|2.3401968114579703|            1|              0|             0|             0|               0|            0|               0|             0|                  0|                   0|             0|              0|            0|              17|              0|                                  0|                        0|     0.6666666666666666|       0|                   0|                     0|              0|                  0|                           0|              17|               0|                  0|                     0|                0|        0|                     0|          0|                   0|                   0|                         0|                  0|      3|   com|         0|                   9|            0|                  0|\n",
            "| theartofliving.info|    0|domcop|            0|             0|             0|            0|         0|            0|     19| 3.576617644908667|0.5394736842105263|0.0986842105263158|0.2236842105263158|0.2763157894736842|0.1973684210526316|1.7877505524017834|  2.33842788996637|            1|              0|             0|             0|               0|            0|               0|             0|                  0|                   0|             0|              0|            0|              18|              0|                                  0|                        0|     0.6842105263157895|       0|                   0|                     0|              0|                  0|                           0|              18|               0|                  0|                     0|                0|        0|                     0|          0|                   0|                   0|                         0|                  0|      4|  info|         0|                   8|            0|                  0|\n",
            "+--------------------+-----+------+-------------+--------------+--------------+-------------+----------+-------------+-------+------------------+------------------+------------------+------------------+------------------+------------------+------------------+------------------+-------------+---------------+--------------+--------------+----------------+-------------+----------------+--------------+-------------------+--------------------+--------------+---------------+-------------+----------------+---------------+-----------------------------------+-------------------------+-----------------------+--------+--------------------+----------------------+---------------+-------------------+----------------------------+----------------+----------------+-------------------+----------------------+-----------------+---------+----------------------+-----------+--------------------+--------------------+--------------------------+-------------------+-------+------+----------+--------------------+-------------+-------------------+\n",
            "only showing top 5 rows\n",
            "\n"
          ]
        }
      ]
    },
    {
      "cell_type": "code",
      "source": [
        "# Write & Save File in .json format\n",
        "md.select(\"source\", \"url\",\"url_len\",\"url_has_login\",\"url_has_server\") \\\n",
        "        .write \\\n",
        "        .save(\"Url.json\",format=\"json\")"
      ],
      "metadata": {
        "id": "lyym6XcYqeRD"
      },
      "execution_count": null,
      "outputs": []
    },
    {
      "cell_type": "code",
      "source": [
        "md_output = spark.read.format(\"json\").load(\"Url.json\")\n",
        "\n",
        "# Show the output DataFrame\n",
        "md_output.show()"
      ],
      "metadata": {
        "colab": {
          "base_uri": "https://localhost:8080/"
        },
        "id": "m4fKJTDos-rE",
        "outputId": "6a4206cc-5c28-4a86-da2f-36bf9ed932de"
      },
      "execution_count": null,
      "outputs": [
        {
          "output_type": "stream",
          "name": "stdout",
          "text": [
            "+--------------------+--------------------+-------------+--------------+-------+\n",
            "|              source|                 url|url_has_login|url_has_server|url_len|\n",
            "+--------------------+--------------------+-------------+--------------+-------+\n",
            "|          alexatop1m|         idegene.com|            0|             0|     11|\n",
            "|        dmoz_harvard|irvinequeersatuci...|            0|             0|     30|\n",
            "|              domcop|   resolution.org.uk|            0|             0|     17|\n",
            "|data_clean_train_...|beartoothpc.50meg...|            0|             0|     23|\n",
            "|  ALL-phishing-links|proserviceunit.co...|            0|             0|     40|\n",
            "|           phishtank|aesosn.aoeesccone...|            0|             0|     29|\n",
            "|          alexatop1m|   baixarcdstops.com|            0|             0|     17|\n",
            "|        dmoz_harvard| iowaacupuncture.com|            0|             0|     19|\n",
            "|  ALL-phishing-links|thebeauty-spa.com...|            0|             0|    189|\n",
            "|        dmoz_harvard|skate-libchavy.wz.cz|            0|             0|     20|\n",
            "|          alexatop1m|   novinhasporno.org|            0|             0|     17|\n",
            "|              domcop|    the-french.co.uk|            0|             0|     16|\n",
            "|          alexatop1m|theconversionpros...|            0|             0|     21|\n",
            "|          alexatop1m|  thibaudpoirier.com|            0|             0|     18|\n",
            "|        dmoz_harvard|         kneissl.com|            0|             0|     11|\n",
            "|           phishtank|   fesxcn.clfmicl.cn|            0|             0|     17|\n",
            "|    majestic_million|   madidashoes.co.kr|            0|             0|     17|\n",
            "|        tranco_K2K4W|            co-co.nl|            0|             0|      8|\n",
            "|        dmoz_harvard|alaskansfordonyou...|            0|             0|     23|\n",
            "|data_clean_test_m...|epsrc.ac.uk/websi...|            0|             0|     69|\n",
            "+--------------------+--------------------+-------------+--------------+-------+\n",
            "only showing top 20 rows\n",
            "\n"
          ]
        }
      ]
    },
    {
      "cell_type": "markdown",
      "source": [
        "**Importing libraries**"
      ],
      "metadata": {
        "id": "KfWSfSvJG1WN"
      }
    },
    {
      "cell_type": "code",
      "source": [
        "from pyspark.ml.feature import VectorAssembler,StringIndexer\n",
        "from pyspark.ml.classification import LogisticRegression,DecisionTreeClassifier"
      ],
      "metadata": {
        "id": "l9oJPfcFtEz8"
      },
      "execution_count": null,
      "outputs": []
    },
    {
      "cell_type": "code",
      "source": [
        "#Rearrange the dataset\n",
        "data = md.select('url','source', 'url_has_login', 'url_has_client', 'url_has_server', 'url_has_admin', 'url_has_ip', 'url_isshorted', 'url_len', 'url_entropy', 'url_hamming_1', 'url_hamming_00', 'url_hamming_10', 'url_hamming_01', 'url_hamming_11', 'url_2bentropy', 'url_3bentropy', 'url_count_dot', 'url_count_https', 'url_count_http', 'url_count_perc', 'url_count_hyphen', 'url_count_www', 'url_count_atrate', 'url_count_hash', 'url_count_semicolon', 'url_count_underscore', 'url_count_ques', 'url_count_equal', 'url_count_amp', 'url_count_letter', 'url_count_digit', 'url_count_sensitive_financial_words', 'url_count_sensitive_words', 'url_nunique_chars_ratio', 'path_len', 'path_count_no_of_dir', 'path_count_no_of_embed', 'path_count_zero', 'path_count_pertwent', 'path_has_any_sensitive_words', 'path_count_lower', 'path_count_upper', 'path_count_nonascii', 'path_has_singlechardir', 'path_has_upperdir', 'query_len', 'query_count_components', 'pdomain_len', 'pdomain_count_hyphen', 'pdomain_count_atrate', 'pdomain_count_non_alphanum', 'pdomain_count_digit', 'tld_len', 'tld', 'tld_is_sus', 'pdomain_min_distance', 'subdomain_len', 'subdomain_count_dot','label')"
      ],
      "metadata": {
        "id": "1RpVLWJ-uwsi"
      },
      "execution_count": null,
      "outputs": []
    },
    {
      "cell_type": "code",
      "source": [
        "data.dtypes"
      ],
      "metadata": {
        "colab": {
          "base_uri": "https://localhost:8080/"
        },
        "id": "SvDJBot4uwvG",
        "outputId": "97cd5ba8-aaa7-4848-ceb5-af04d00aaed4"
      },
      "execution_count": null,
      "outputs": [
        {
          "output_type": "execute_result",
          "data": {
            "text/plain": [
              "[('url', 'string'),\n",
              " ('source', 'string'),\n",
              " ('url_has_login', 'int'),\n",
              " ('url_has_client', 'int'),\n",
              " ('url_has_server', 'int'),\n",
              " ('url_has_admin', 'int'),\n",
              " ('url_has_ip', 'int'),\n",
              " ('url_isshorted', 'int'),\n",
              " ('url_len', 'int'),\n",
              " ('url_entropy', 'double'),\n",
              " ('url_hamming_1', 'double'),\n",
              " ('url_hamming_00', 'double'),\n",
              " ('url_hamming_10', 'double'),\n",
              " ('url_hamming_01', 'double'),\n",
              " ('url_hamming_11', 'double'),\n",
              " ('url_2bentropy', 'double'),\n",
              " ('url_3bentropy', 'double'),\n",
              " ('url_count_dot', 'int'),\n",
              " ('url_count_https', 'int'),\n",
              " ('url_count_http', 'int'),\n",
              " ('url_count_perc', 'int'),\n",
              " ('url_count_hyphen', 'int'),\n",
              " ('url_count_www', 'int'),\n",
              " ('url_count_atrate', 'int'),\n",
              " ('url_count_hash', 'int'),\n",
              " ('url_count_semicolon', 'int'),\n",
              " ('url_count_underscore', 'int'),\n",
              " ('url_count_ques', 'int'),\n",
              " ('url_count_equal', 'int'),\n",
              " ('url_count_amp', 'int'),\n",
              " ('url_count_letter', 'int'),\n",
              " ('url_count_digit', 'int'),\n",
              " ('url_count_sensitive_financial_words', 'int'),\n",
              " ('url_count_sensitive_words', 'int'),\n",
              " ('url_nunique_chars_ratio', 'double'),\n",
              " ('path_len', 'int'),\n",
              " ('path_count_no_of_dir', 'int'),\n",
              " ('path_count_no_of_embed', 'int'),\n",
              " ('path_count_zero', 'int'),\n",
              " ('path_count_pertwent', 'int'),\n",
              " ('path_has_any_sensitive_words', 'int'),\n",
              " ('path_count_lower', 'int'),\n",
              " ('path_count_upper', 'int'),\n",
              " ('path_count_nonascii', 'int'),\n",
              " ('path_has_singlechardir', 'int'),\n",
              " ('path_has_upperdir', 'int'),\n",
              " ('query_len', 'int'),\n",
              " ('query_count_components', 'int'),\n",
              " ('pdomain_len', 'int'),\n",
              " ('pdomain_count_hyphen', 'int'),\n",
              " ('pdomain_count_atrate', 'int'),\n",
              " ('pdomain_count_non_alphanum', 'int'),\n",
              " ('pdomain_count_digit', 'int'),\n",
              " ('tld_len', 'int'),\n",
              " ('tld', 'string'),\n",
              " ('tld_is_sus', 'int'),\n",
              " ('pdomain_min_distance', 'int'),\n",
              " ('subdomain_len', 'int'),\n",
              " ('subdomain_count_dot', 'int'),\n",
              " ('label', 'int')]"
            ]
          },
          "metadata": {},
          "execution_count": 110
        }
      ]
    },
    {
      "cell_type": "code",
      "source": [
        "data.groupBy('label').count().show()"
      ],
      "metadata": {
        "colab": {
          "base_uri": "https://localhost:8080/"
        },
        "id": "-ENYS8GAtEyR",
        "outputId": "b69fa102-3fc3-48c9-98ea-541e04961b44"
      },
      "execution_count": null,
      "outputs": [
        {
          "output_type": "stream",
          "name": "stdout",
          "text": [
            "+-----+-------+\n",
            "|label|  count|\n",
            "+-----+-------+\n",
            "|    1| 361419|\n",
            "|    0|1320794|\n",
            "+-----+-------+\n",
            "\n"
          ]
        }
      ]
    },
    {
      "cell_type": "code",
      "source": [
        "import matplotlib.pyplot as plt\n",
        "#boxplot to compare the distribution of URL lengths between different categories (e.g., malicious vs. non-malicious).\n",
        "plt.figure(figsize=(10, 6))\n",
        "md.select('source', 'url_len').toPandas().boxplot(column='url_len', by='source')\n",
        "plt.xlabel('Category')\n",
        "plt.ylabel('URL Length')\n",
        "plt.title('Boxplot of URL Length by Category')\n",
        "plt.show()"
      ],
      "metadata": {
        "id": "EfRTG2RWLk9n",
        "outputId": "7d243d75-22b8-4603-ad4d-56cf8b740725",
        "colab": {
          "base_uri": "https://localhost:8080/",
          "height": 495
        }
      },
      "execution_count": null,
      "outputs": [
        {
          "output_type": "display_data",
          "data": {
            "text/plain": [
              "<Figure size 1000x600 with 0 Axes>"
            ]
          },
          "metadata": {}
        },
        {
          "output_type": "display_data",
          "data": {
            "text/plain": [
              "<Figure size 640x480 with 1 Axes>"
            ],
            "image/png": "[encoded data removed]"
          },
          "metadata": {}
        }
      ]
    },
    {
      "cell_type": "code",
      "source": [
        "#pie chart to visualize the proportion of URLs from different sources in the dataset.\n",
        "sources_count = md.groupBy('source').count().orderBy('count', ascending=False).toPandas()\n",
        "\n",
        "plt.figure(figsize=(8, 8))\n",
        "plt.pie(sources_count['count'], labels=sources_count['source'], autopct='%1.1f%%')\n",
        "plt.title('Proportion of URLs by Source')\n",
        "plt.show()"
      ],
      "metadata": {
        "id": "rObT_VL-MZTU",
        "outputId": "46408d0b-7150-427e-db26-1ae278b0efc9",
        "colab": {
          "base_uri": "https://localhost:8080/",
          "height": 675
        }
      },
      "execution_count": null,
      "outputs": [
        {
          "output_type": "display_data",
          "data": {
            "text/plain": [
              "<Figure size 800x800 with 1 Axes>"
            ],
            "image/png": "[encoded data removed]"
          },
          "metadata": {}
        }
      ]
    },
    {
      "cell_type": "code",
      "source": [
        "#unique values for source\n",
        "data.select(\"source\").distinct().show()"
      ],
      "metadata": {
        "colab": {
          "base_uri": "https://localhost:8080/"
        },
        "id": "a7MefhkXtE4P",
        "outputId": "2c264105-9c32-4601-fe6d-57e3a6555321"
      },
      "execution_count": null,
      "outputs": [
        {
          "output_type": "stream",
          "name": "stdout",
          "text": [
            "+--------------------+\n",
            "|              source|\n",
            "+--------------------+\n",
            "|data_clean_test_m...|\n",
            "|           openphish|\n",
            "|        dmoz_harvard|\n",
            "|           phishtank|\n",
            "|              manual|\n",
            "|              domcop|\n",
            "|  ALL-phishing-links|\n",
            "|          alexatop1m|\n",
            "|               aa419|\n",
            "|    majestic_million|\n",
            "|data_clean_train_...|\n",
            "|        tranco_K2K4W|\n",
            "|ALL-phishing-domains|\n",
            "+--------------------+\n",
            "\n"
          ]
        }
      ]
    },
    {
      "cell_type": "code",
      "source": [
        "#Converting the string into numerical\n",
        "sourceEncode = StringIndexer(inputCol = \"source\",outputCol =\"source_index\").fit(data)\n",
        "data = sourceEncode.transform(data)"
      ],
      "metadata": {
        "id": "z8M7d9pWtE6d"
      },
      "execution_count": null,
      "outputs": []
    },
    {
      "cell_type": "code",
      "source": [
        "#after encoding\n",
        "data.select(\"source_index\").distinct().show()"
      ],
      "metadata": {
        "colab": {
          "base_uri": "https://localhost:8080/"
        },
        "id": "vwa-uUwFtE8Z",
        "outputId": "9a675673-e1c7-464b-de31-b0a4f40383ed"
      },
      "execution_count": null,
      "outputs": [
        {
          "output_type": "stream",
          "name": "stdout",
          "text": [
            "+------------+\n",
            "|source_index|\n",
            "+------------+\n",
            "|         8.0|\n",
            "|         0.0|\n",
            "|         7.0|\n",
            "|         1.0|\n",
            "|         4.0|\n",
            "|        11.0|\n",
            "|         3.0|\n",
            "|         2.0|\n",
            "|        10.0|\n",
            "|         6.0|\n",
            "|         5.0|\n",
            "|         9.0|\n",
            "|        12.0|\n",
            "+------------+\n",
            "\n"
          ]
        }
      ]
    },
    {
      "cell_type": "markdown",
      "source": [
        "**FEATURE SELECTION**"
      ],
      "metadata": {
        "id": "T88q2YbNvLoZ"
      }
    },
    {
      "cell_type": "code",
      "source": [
        "df = data.select('source','source_index','url_has_login','url_has_client','url_has_server','url_len','label')\n",
        "\n",
        "df.show()"
      ],
      "metadata": {
        "colab": {
          "base_uri": "https://localhost:8080/"
        },
        "id": "AGAtQV5jtE-l",
        "outputId": "91b17921-b5d1-4611-92a2-ed883eadfc64"
      },
      "execution_count": null,
      "outputs": [
        {
          "output_type": "stream",
          "name": "stdout",
          "text": [
            "+--------------------+------------+-------------+--------------+--------------+-------+-----+\n",
            "|              source|source_index|url_has_login|url_has_client|url_has_server|url_len|label|\n",
            "+--------------------+------------+-------------+--------------+--------------+-------+-----+\n",
            "|        dmoz_harvard|         0.0|            0|             0|             0|     15|    0|\n",
            "|    majestic_million|         6.0|            0|             0|             0|     12|    0|\n",
            "|          alexatop1m|         2.0|            0|             0|             0|     12|    0|\n",
            "|data_clean_train_...|         1.0|            0|             0|             0|     15|    0|\n",
            "|ALL-phishing-domains|         7.0|            0|             0|             0|     29|    1|\n",
            "|              domcop|         3.0|            0|             0|             0|     21|    0|\n",
            "|        dmoz_harvard|         0.0|            0|             0|             0|     33|    0|\n",
            "|              domcop|         3.0|            0|             0|             0|     25|    0|\n",
            "|data_clean_train_...|         1.0|            0|             0|             0|     33|    0|\n",
            "|data_clean_train_...|         1.0|            0|             0|             0|     21|    0|\n",
            "|data_clean_train_...|         1.0|            0|             0|             0|     35|    0|\n",
            "|              domcop|         3.0|            0|             0|             0|     13|    0|\n",
            "|  ALL-phishing-links|         5.0|            0|             0|             0|    118|    1|\n",
            "|        dmoz_harvard|         0.0|            0|             0|             0|     20|    0|\n",
            "|        dmoz_harvard|         0.0|            0|             0|             0|      7|    0|\n",
            "|        dmoz_harvard|         0.0|            0|             0|             0|     23|    0|\n",
            "|data_clean_train_...|         1.0|            0|             0|             0|     32|    0|\n",
            "|          alexatop1m|         2.0|            0|             0|             0|     11|    0|\n",
            "|           phishtank|         4.0|            0|             0|             0|     23|    1|\n",
            "|        dmoz_harvard|         0.0|            0|             0|             0|     26|    0|\n",
            "+--------------------+------------+-------------+--------------+--------------+-------+-----+\n",
            "only showing top 20 rows\n",
            "\n"
          ]
        }
      ]
    },
    {
      "cell_type": "code",
      "source": [
        "#VectorAssembler\n",
        "req_features =  ['source_index','url_has_login','url_has_client','url_has_server','url_len']\n",
        "\n",
        "vec_assemb = VectorAssembler(inputCols=req_features,outputCol =\"features\")"
      ],
      "metadata": {
        "id": "fPPVem4QtFAf"
      },
      "execution_count": null,
      "outputs": []
    },
    {
      "cell_type": "code",
      "source": [
        "vec_df = vec_assemb.transform(df)\n",
        "vec_df.show()\n"
      ],
      "metadata": {
        "colab": {
          "base_uri": "https://localhost:8080/"
        },
        "id": "4p5NpApmtFCR",
        "outputId": "fee70f64-0240-4bd9-ab36-97e8ba152551"
      },
      "execution_count": null,
      "outputs": [
        {
          "output_type": "stream",
          "name": "stdout",
          "text": [
            "+--------------------+------------+-------------+--------------+--------------+-------+-----+--------------------+\n",
            "|              source|source_index|url_has_login|url_has_client|url_has_server|url_len|label|            features|\n",
            "+--------------------+------------+-------------+--------------+--------------+-------+-----+--------------------+\n",
            "|        dmoz_harvard|         0.0|            0|             0|             0|     15|    0|      (5,[4],[15.0])|\n",
            "|    majestic_million|         6.0|            0|             0|             0|     12|    0|(5,[0,4],[6.0,12.0])|\n",
            "|          alexatop1m|         2.0|            0|             0|             0|     12|    0|(5,[0,4],[2.0,12.0])|\n",
            "|data_clean_train_...|         1.0|            0|             0|             0|     15|    0|(5,[0,4],[1.0,15.0])|\n",
            "|ALL-phishing-domains|         7.0|            0|             0|             0|     29|    1|(5,[0,4],[7.0,29.0])|\n",
            "|              domcop|         3.0|            0|             0|             0|     21|    0|(5,[0,4],[3.0,21.0])|\n",
            "|        dmoz_harvard|         0.0|            0|             0|             0|     33|    0|      (5,[4],[33.0])|\n",
            "|              domcop|         3.0|            0|             0|             0|     25|    0|(5,[0,4],[3.0,25.0])|\n",
            "|data_clean_train_...|         1.0|            0|             0|             0|     33|    0|(5,[0,4],[1.0,33.0])|\n",
            "|data_clean_train_...|         1.0|            0|             0|             0|     21|    0|(5,[0,4],[1.0,21.0])|\n",
            "|data_clean_train_...|         1.0|            0|             0|             0|     35|    0|(5,[0,4],[1.0,35.0])|\n",
            "|              domcop|         3.0|            0|             0|             0|     13|    0|(5,[0,4],[3.0,13.0])|\n",
            "|  ALL-phishing-links|         5.0|            0|             0|             0|    118|    1|(5,[0,4],[5.0,118...|\n",
            "|        dmoz_harvard|         0.0|            0|             0|             0|     20|    0|      (5,[4],[20.0])|\n",
            "|        dmoz_harvard|         0.0|            0|             0|             0|      7|    0|       (5,[4],[7.0])|\n",
            "|        dmoz_harvard|         0.0|            0|             0|             0|     23|    0|      (5,[4],[23.0])|\n",
            "|data_clean_train_...|         1.0|            0|             0|             0|     32|    0|(5,[0,4],[1.0,32.0])|\n",
            "|          alexatop1m|         2.0|            0|             0|             0|     11|    0|(5,[0,4],[2.0,11.0])|\n",
            "|           phishtank|         4.0|            0|             0|             0|     23|    1|(5,[0,4],[4.0,23.0])|\n",
            "|        dmoz_harvard|         0.0|            0|             0|             0|     26|    0|      (5,[4],[26.0])|\n",
            "+--------------------+------------+-------------+--------------+--------------+-------+-----+--------------------+\n",
            "only showing top 20 rows\n",
            "\n"
          ]
        }
      ]
    },
    {
      "cell_type": "markdown",
      "source": [
        "**MODEL BUILDING**"
      ],
      "metadata": {
        "id": "z2QE5iojLHCm"
      }
    },
    {
      "cell_type": "code",
      "source": [
        "#Train test split\n",
        "train_df,test_df = vec_df.randomSplit([0.7,0.3])"
      ],
      "metadata": {
        "id": "teSClS0VtFFo"
      },
      "execution_count": null,
      "outputs": []
    },
    {
      "cell_type": "code",
      "source": [
        "train_df.count()"
      ],
      "metadata": {
        "colab": {
          "base_uri": "https://localhost:8080/"
        },
        "id": "8V1f_4xFvoDS",
        "outputId": "2f48aba2-60f6-422d-e13c-a4531e590422"
      },
      "execution_count": null,
      "outputs": [
        {
          "output_type": "execute_result",
          "data": {
            "text/plain": [
              "1177011"
            ]
          },
          "metadata": {},
          "execution_count": 91
        }
      ]
    },
    {
      "cell_type": "code",
      "source": [
        "test_df.count()"
      ],
      "metadata": {
        "colab": {
          "base_uri": "https://localhost:8080/"
        },
        "id": "eThKUp_svoFt",
        "outputId": "47223dd2-9b12-4598-9681-79fcdfa2d554"
      },
      "execution_count": null,
      "outputs": [
        {
          "output_type": "execute_result",
          "data": {
            "text/plain": [
              "505202"
            ]
          },
          "metadata": {},
          "execution_count": 92
        }
      ]
    },
    {
      "cell_type": "code",
      "source": [
        "train_df.describe()"
      ],
      "metadata": {
        "colab": {
          "base_uri": "https://localhost:8080/",
          "height": 161
        },
        "id": "Ij2l8N89voHD",
        "outputId": "3d9342f7-e002-4271-a023-7f81e6ef78e6"
      },
      "execution_count": null,
      "outputs": [
        {
          "output_type": "execute_result",
          "data": {
            "text/plain": [
              "+-------+--------------------+------------------+-------------------+--------------------+--------------------+------------------+------------------+\n",
              "|summary|              source|      source_index|      url_has_login|      url_has_client|      url_has_server|           url_len|             label|\n",
              "+-------+--------------------+------------------+-------------------+--------------------+--------------------+------------------+------------------+\n",
              "|  count|             1177011|           1177011|            1177011|             1177011|             1177011|           1177011|           1177011|\n",
              "|   mean|                NULL|2.9006517356252406|0.01566255540517463|0.001932862139776094|0.002285450178460524| 23.78241749652297|0.2150702075001848|\n",
              "| stddev|                NULL| 2.803622824233719|0.12416623076345035| 0.04392183765202071| 0.04775174167762791|34.441351140745354|0.4108712167735917|\n",
              "|    min|ALL-phishing-domains|               0.0|                  0|                   0|                   0|                 2|                 0|\n",
              "|    max|        tranco_K2K4W|              12.0|                  1|                   1|                   1|              8250|                 1|\n",
              "+-------+--------------------+------------------+-------------------+--------------------+--------------------+------------------+------------------+"
            ],
            "text/html": [
              "<table border='1'>\n",
              "<tr><th>summary</th><th>source</th><th>source_index</th><th>url_has_login</th><th>url_has_client</th><th>url_has_server</th><th>url_len</th><th>label</th></tr>\n",
              "<tr><td>count</td><td>1177011</td><td>1177011</td><td>1177011</td><td>1177011</td><td>1177011</td><td>1177011</td><td>1177011</td></tr>\n",
              "<tr><td>mean</td><td>NULL</td><td>2.9006517356252406</td><td>0.01566255540517463</td><td>0.001932862139776094</td><td>0.002285450178460524</td><td>23.78241749652297</td><td>0.2150702075001848</td></tr>\n",
              "<tr><td>stddev</td><td>NULL</td><td>2.803622824233719</td><td>0.12416623076345035</td><td>0.04392183765202071</td><td>0.04775174167762791</td><td>34.441351140745354</td><td>0.4108712167735917</td></tr>\n",
              "<tr><td>min</td><td>ALL-phishing-domains</td><td>0.0</td><td>0</td><td>0</td><td>0</td><td>2</td><td>0</td></tr>\n",
              "<tr><td>max</td><td>tranco_K2K4W</td><td>12.0</td><td>1</td><td>1</td><td>1</td><td>8250</td><td>1</td></tr>\n",
              "</table>\n"
            ]
          },
          "metadata": {},
          "execution_count": 93
        }
      ]
    },
    {
      "cell_type": "markdown",
      "source": [
        "**PCA**"
      ],
      "metadata": {
        "id": "sc8DvVqLO37J"
      }
    },
    {
      "cell_type": "code",
      "source": [
        "from pyspark.ml.feature import PCA\n",
        "\n",
        "\n",
        "numericColsAll  = ['url_has_login','url_has_client','url_has_server','url_len']\n",
        "label = 'label'\n",
        "assembler = VectorAssembler(inputCols=numericColsAll , outputCol=\"Numfeatures\")\n",
        "df = assembler.transform(md)\n",
        "\n",
        "    # Apply PCA\n",
        "pca = PCA(k=2, inputCol=\"Numfeatures\", outputCol=\"pca_features\")\n",
        "model = pca.fit(df)\n",
        "result = model.transform(df)\n",
        "result.select(\"Numfeatures\", \"pca_features\").show(truncate=False)\n"
      ],
      "metadata": {
        "id": "M6h522jYMi-y",
        "outputId": "fa6afebe-81e3-44f4-b6d7-dd96b9f1427f",
        "colab": {
          "base_uri": "https://localhost:8080/"
        }
      },
      "execution_count": null,
      "outputs": [
        {
          "output_type": "stream",
          "name": "stdout",
          "text": [
            "+---------------+------------------------------------------+\n",
            "|Numfeatures    |pca_features                              |\n",
            "+---------------+------------------------------------------+\n",
            "|(4,[3],[15.0]) |[-14.999992762772711,0.014593764420373079]|\n",
            "|(4,[3],[12.0]) |[-11.99999421021817,0.011675011536298463] |\n",
            "|(4,[3],[12.0]) |[-11.99999421021817,0.011675011536298463] |\n",
            "|(4,[3],[15.0]) |[-14.999992762772711,0.014593764420373079]|\n",
            "|(4,[3],[29.0]) |[-28.999986008027243,0.028214611212721286]|\n",
            "|(4,[3],[21.0]) |[-20.999989867881794,0.02043127018852231] |\n",
            "|(4,[3],[33.0]) |[-32.99998407809996,0.03210628172482077]  |\n",
            "|(4,[3],[25.0]) |[-24.99998793795452,0.024322940700621798] |\n",
            "|(4,[3],[33.0]) |[-32.99998407809996,0.03210628172482077]  |\n",
            "|(4,[3],[21.0]) |[-20.999989867881794,0.02043127018852231] |\n",
            "|(4,[3],[35.0]) |[-34.999983113136324,0.03405211698087052] |\n",
            "|(4,[3],[13.0]) |[-12.99999372773635,0.012647929164323335] |\n",
            "|(4,[3],[118.0])|[-117.99994306714532,0.11480428010693489] |\n",
            "|(4,[3],[20.0]) |[-19.999990350363614,0.01945835256049744] |\n",
            "|(4,[3],[7.0])  |[-6.999996622627265,0.006810423396174103] |\n",
            "|(4,[3],[23.0]) |[-22.999988902918158,0.022377105444572054]|\n",
            "|(4,[3],[32.0]) |[-31.999984560581783,0.0311333640967959]  |\n",
            "|(4,[3],[11.0]) |[-10.999994692699987,0.010702093908273591]|\n",
            "|(4,[3],[23.0]) |[-22.999988902918158,0.022377105444572054]|\n",
            "|(4,[3],[26.0]) |[-25.9999874554727,0.02529585832864667]   |\n",
            "+---------------+------------------------------------------+\n",
            "only showing top 20 rows\n",
            "\n"
          ]
        }
      ]
    },
    {
      "cell_type": "markdown",
      "source": [
        "**LOGISTIC REGRESSION**"
      ],
      "metadata": {
        "id": "9dKNSLWeLAYD"
      }
    },
    {
      "cell_type": "code",
      "source": [
        "lr = LogisticRegression(featuresCol =\"features\",labelCol=\"label\")\n",
        "\n",
        "lr_model = lr.fit(train_df)\n",
        "\n",
        "y_pred1 = lr_model.transform(test_df)\n",
        "\n",
        "y_pred1.show()"
      ],
      "metadata": {
        "colab": {
          "base_uri": "https://localhost:8080/"
        },
        "id": "8v-2OxicvoKl",
        "outputId": "98e6f2a1-44c6-4170-9ea0-4c4adef27115"
      },
      "execution_count": null,
      "outputs": [
        {
          "output_type": "stream",
          "name": "stdout",
          "text": [
            "+--------------------+------------+-------------+--------------+--------------+-------+-----+-------------------+--------------------+--------------------+----------+\n",
            "|              source|source_index|url_has_login|url_has_client|url_has_server|url_len|label|           features|       rawPrediction|         probability|prediction|\n",
            "+--------------------+------------+-------------+--------------+--------------+-------+-----+-------------------+--------------------+--------------------+----------+\n",
            "|ALL-phishing-domains|         7.0|            0|             0|             0|      5|    1|(5,[0,4],[7.0,5.0])|[1.72823993077039...|[0.84918714962728...|       0.0|\n",
            "|ALL-phishing-domains|         7.0|            0|             0|             0|      5|    1|(5,[0,4],[7.0,5.0])|[1.72823993077039...|[0.84918714962728...|       0.0|\n",
            "|ALL-phishing-domains|         7.0|            0|             0|             0|      6|    1|(5,[0,4],[7.0,6.0])|[1.64632299637371...|[0.83839347341010...|       0.0|\n",
            "|ALL-phishing-domains|         7.0|            0|             0|             0|      6|    1|(5,[0,4],[7.0,6.0])|[1.64632299637371...|[0.83839347341010...|       0.0|\n",
            "|ALL-phishing-domains|         7.0|            0|             0|             0|      7|    1|(5,[0,4],[7.0,7.0])|[1.56440606197703...|[0.82698468535175...|       0.0|\n",
            "|ALL-phishing-domains|         7.0|            0|             0|             0|      7|    1|(5,[0,4],[7.0,7.0])|[1.56440606197703...|[0.82698468535175...|       0.0|\n",
            "|ALL-phishing-domains|         7.0|            0|             0|             0|      7|    1|(5,[0,4],[7.0,7.0])|[1.56440606197703...|[0.82698468535175...|       0.0|\n",
            "|ALL-phishing-domains|         7.0|            0|             0|             0|      7|    1|(5,[0,4],[7.0,7.0])|[1.56440606197703...|[0.82698468535175...|       0.0|\n",
            "|ALL-phishing-domains|         7.0|            0|             0|             0|      7|    1|(5,[0,4],[7.0,7.0])|[1.56440606197703...|[0.82698468535175...|       0.0|\n",
            "|ALL-phishing-domains|         7.0|            0|             0|             0|      7|    1|(5,[0,4],[7.0,7.0])|[1.56440606197703...|[0.82698468535175...|       0.0|\n",
            "|ALL-phishing-domains|         7.0|            0|             0|             0|      7|    1|(5,[0,4],[7.0,7.0])|[1.56440606197703...|[0.82698468535175...|       0.0|\n",
            "|ALL-phishing-domains|         7.0|            0|             0|             0|      7|    1|(5,[0,4],[7.0,7.0])|[1.56440606197703...|[0.82698468535175...|       0.0|\n",
            "|ALL-phishing-domains|         7.0|            0|             0|             0|      7|    1|(5,[0,4],[7.0,7.0])|[1.56440606197703...|[0.82698468535175...|       0.0|\n",
            "|ALL-phishing-domains|         7.0|            0|             0|             0|      7|    1|(5,[0,4],[7.0,7.0])|[1.56440606197703...|[0.82698468535175...|       0.0|\n",
            "|ALL-phishing-domains|         7.0|            0|             0|             0|      7|    1|(5,[0,4],[7.0,7.0])|[1.56440606197703...|[0.82698468535175...|       0.0|\n",
            "|ALL-phishing-domains|         7.0|            0|             0|             0|      7|    1|(5,[0,4],[7.0,7.0])|[1.56440606197703...|[0.82698468535175...|       0.0|\n",
            "|ALL-phishing-domains|         7.0|            0|             0|             0|      7|    1|(5,[0,4],[7.0,7.0])|[1.56440606197703...|[0.82698468535175...|       0.0|\n",
            "|ALL-phishing-domains|         7.0|            0|             0|             0|      7|    1|(5,[0,4],[7.0,7.0])|[1.56440606197703...|[0.82698468535175...|       0.0|\n",
            "|ALL-phishing-domains|         7.0|            0|             0|             0|      7|    1|(5,[0,4],[7.0,7.0])|[1.56440606197703...|[0.82698468535175...|       0.0|\n",
            "|ALL-phishing-domains|         7.0|            0|             0|             0|      7|    1|(5,[0,4],[7.0,7.0])|[1.56440606197703...|[0.82698468535175...|       0.0|\n",
            "+--------------------+------------+-------------+--------------+--------------+-------+-----+-------------------+--------------------+--------------------+----------+\n",
            "only showing top 20 rows\n",
            "\n"
          ]
        }
      ]
    },
    {
      "cell_type": "code",
      "source": [
        "y_pred1.select('label','rawPrediction', 'probability', 'prediction').show()"
      ],
      "metadata": {
        "colab": {
          "base_uri": "https://localhost:8080/"
        },
        "id": "H3a9R099vyuA",
        "outputId": "f571a587-3f45-4639-b4ca-2ed82a674e0e"
      },
      "execution_count": null,
      "outputs": [
        {
          "output_type": "stream",
          "name": "stdout",
          "text": [
            "+-----+--------------------+--------------------+----------+\n",
            "|label|       rawPrediction|         probability|prediction|\n",
            "+-----+--------------------+--------------------+----------+\n",
            "|    1|[1.72823993077045...|[0.84918714962729...|       0.0|\n",
            "|    1|[1.72823993077045...|[0.84918714962729...|       0.0|\n",
            "|    1|[1.64632299637376...|[0.83839347341011...|       0.0|\n",
            "|    1|[1.64632299637376...|[0.83839347341011...|       0.0|\n",
            "|    1|[1.56440606197708...|[0.82698468535175...|       0.0|\n",
            "|    1|[1.56440606197708...|[0.82698468535175...|       0.0|\n",
            "|    1|[1.56440606197708...|[0.82698468535175...|       0.0|\n",
            "|    1|[1.56440606197708...|[0.82698468535175...|       0.0|\n",
            "|    1|[1.56440606197708...|[0.82698468535175...|       0.0|\n",
            "|    1|[1.56440606197708...|[0.82698468535175...|       0.0|\n",
            "|    1|[1.56440606197708...|[0.82698468535175...|       0.0|\n",
            "|    1|[1.56440606197708...|[0.82698468535175...|       0.0|\n",
            "|    1|[1.56440606197708...|[0.82698468535175...|       0.0|\n",
            "|    1|[1.56440606197708...|[0.82698468535175...|       0.0|\n",
            "|    1|[1.56440606197708...|[0.82698468535175...|       0.0|\n",
            "|    1|[1.56440606197708...|[0.82698468535175...|       0.0|\n",
            "|    1|[1.56440606197708...|[0.82698468535175...|       0.0|\n",
            "|    1|[1.56440606197708...|[0.82698468535175...|       0.0|\n",
            "|    1|[1.56440606197708...|[0.82698468535175...|       0.0|\n",
            "|    1|[1.56440606197708...|[0.82698468535175...|       0.0|\n",
            "+-----+--------------------+--------------------+----------+\n",
            "only showing top 20 rows\n",
            "\n"
          ]
        }
      ]
    },
    {
      "cell_type": "code",
      "source": [
        "from pyspark.ml.evaluation import MulticlassClassificationEvaluator\n",
        "mult_eval =MulticlassClassificationEvaluator(labelCol=\"label\",metricName=\"accuracy\")\n",
        "\n",
        "\n",
        "accuracy = mult_eval.evaluate(y_pred1)\n",
        "print(\"Accuracy : \" ,accuracy)"
      ],
      "metadata": {
        "colab": {
          "base_uri": "https://localhost:8080/"
        },
        "id": "wnRMuE5Dv1ia",
        "outputId": "330ee511-28d7-412a-ee60-e0280cd16e94"
      },
      "execution_count": null,
      "outputs": [
        {
          "output_type": "stream",
          "name": "stdout",
          "text": [
            "Accuracy :  0.8366811691165118\n"
          ]
        }
      ]
    },
    {
      "cell_type": "markdown",
      "source": [
        "**DECISIONTREE CLASSIFIER**"
      ],
      "metadata": {
        "id": "DoBXSEBkLMqk"
      }
    },
    {
      "cell_type": "code",
      "source": [
        "#Decision tree\n",
        "dc = DecisionTreeClassifier(featuresCol =\"features\",labelCol=\"label\")\n",
        "dc_model = dc.fit(train_df)\n",
        "y_pred = dc_model.transform(test_df)\n",
        "\n",
        "y_pred.show()"
      ],
      "metadata": {
        "colab": {
          "base_uri": "https://localhost:8080/"
        },
        "id": "RdO8QxZTv30O",
        "outputId": "151826cb-6880-4df9-d827-52f8de418e1c"
      },
      "execution_count": null,
      "outputs": [
        {
          "output_type": "stream",
          "name": "stdout",
          "text": [
            "+--------------------+------------+-------------+--------------+--------------+-------+-----+-------------------+--------------+-----------+----------+\n",
            "|              source|source_index|url_has_login|url_has_client|url_has_server|url_len|label|           features| rawPrediction|probability|prediction|\n",
            "+--------------------+------------+-------------+--------------+--------------+-------+-----+-------------------+--------------+-----------+----------+\n",
            "|ALL-phishing-domains|         7.0|            0|             0|             0|      5|    1|(5,[0,4],[7.0,5.0])|[0.0,246401.0]|  [0.0,1.0]|       1.0|\n",
            "|ALL-phishing-domains|         7.0|            0|             0|             0|      5|    1|(5,[0,4],[7.0,5.0])|[0.0,246401.0]|  [0.0,1.0]|       1.0|\n",
            "|ALL-phishing-domains|         7.0|            0|             0|             0|      6|    1|(5,[0,4],[7.0,6.0])|[0.0,246401.0]|  [0.0,1.0]|       1.0|\n",
            "|ALL-phishing-domains|         7.0|            0|             0|             0|      6|    1|(5,[0,4],[7.0,6.0])|[0.0,246401.0]|  [0.0,1.0]|       1.0|\n",
            "|ALL-phishing-domains|         7.0|            0|             0|             0|      7|    1|(5,[0,4],[7.0,7.0])|[0.0,246401.0]|  [0.0,1.0]|       1.0|\n",
            "|ALL-phishing-domains|         7.0|            0|             0|             0|      7|    1|(5,[0,4],[7.0,7.0])|[0.0,246401.0]|  [0.0,1.0]|       1.0|\n",
            "|ALL-phishing-domains|         7.0|            0|             0|             0|      7|    1|(5,[0,4],[7.0,7.0])|[0.0,246401.0]|  [0.0,1.0]|       1.0|\n",
            "|ALL-phishing-domains|         7.0|            0|             0|             0|      7|    1|(5,[0,4],[7.0,7.0])|[0.0,246401.0]|  [0.0,1.0]|       1.0|\n",
            "|ALL-phishing-domains|         7.0|            0|             0|             0|      7|    1|(5,[0,4],[7.0,7.0])|[0.0,246401.0]|  [0.0,1.0]|       1.0|\n",
            "|ALL-phishing-domains|         7.0|            0|             0|             0|      7|    1|(5,[0,4],[7.0,7.0])|[0.0,246401.0]|  [0.0,1.0]|       1.0|\n",
            "|ALL-phishing-domains|         7.0|            0|             0|             0|      7|    1|(5,[0,4],[7.0,7.0])|[0.0,246401.0]|  [0.0,1.0]|       1.0|\n",
            "|ALL-phishing-domains|         7.0|            0|             0|             0|      7|    1|(5,[0,4],[7.0,7.0])|[0.0,246401.0]|  [0.0,1.0]|       1.0|\n",
            "|ALL-phishing-domains|         7.0|            0|             0|             0|      7|    1|(5,[0,4],[7.0,7.0])|[0.0,246401.0]|  [0.0,1.0]|       1.0|\n",
            "|ALL-phishing-domains|         7.0|            0|             0|             0|      7|    1|(5,[0,4],[7.0,7.0])|[0.0,246401.0]|  [0.0,1.0]|       1.0|\n",
            "|ALL-phishing-domains|         7.0|            0|             0|             0|      7|    1|(5,[0,4],[7.0,7.0])|[0.0,246401.0]|  [0.0,1.0]|       1.0|\n",
            "|ALL-phishing-domains|         7.0|            0|             0|             0|      7|    1|(5,[0,4],[7.0,7.0])|[0.0,246401.0]|  [0.0,1.0]|       1.0|\n",
            "|ALL-phishing-domains|         7.0|            0|             0|             0|      7|    1|(5,[0,4],[7.0,7.0])|[0.0,246401.0]|  [0.0,1.0]|       1.0|\n",
            "|ALL-phishing-domains|         7.0|            0|             0|             0|      7|    1|(5,[0,4],[7.0,7.0])|[0.0,246401.0]|  [0.0,1.0]|       1.0|\n",
            "|ALL-phishing-domains|         7.0|            0|             0|             0|      7|    1|(5,[0,4],[7.0,7.0])|[0.0,246401.0]|  [0.0,1.0]|       1.0|\n",
            "|ALL-phishing-domains|         7.0|            0|             0|             0|      7|    1|(5,[0,4],[7.0,7.0])|[0.0,246401.0]|  [0.0,1.0]|       1.0|\n",
            "+--------------------+------------+-------------+--------------+--------------+-------+-----+-------------------+--------------+-----------+----------+\n",
            "only showing top 20 rows\n",
            "\n"
          ]
        }
      ]
    },
    {
      "cell_type": "code",
      "source": [
        "y_pred.select('label','rawPrediction', 'probability', 'prediction').show()"
      ],
      "metadata": {
        "colab": {
          "base_uri": "https://localhost:8080/"
        },
        "id": "-F3izocpv32w",
        "outputId": "6d67fa22-e5a2-48c7-f848-ff10cdded14e"
      },
      "execution_count": null,
      "outputs": [
        {
          "output_type": "stream",
          "name": "stdout",
          "text": [
            "+-----+--------------+-----------+----------+\n",
            "|label| rawPrediction|probability|prediction|\n",
            "+-----+--------------+-----------+----------+\n",
            "|    1|[0.0,246401.0]|  [0.0,1.0]|       1.0|\n",
            "|    1|[0.0,246401.0]|  [0.0,1.0]|       1.0|\n",
            "|    1|[0.0,246401.0]|  [0.0,1.0]|       1.0|\n",
            "|    1|[0.0,246401.0]|  [0.0,1.0]|       1.0|\n",
            "|    1|[0.0,246401.0]|  [0.0,1.0]|       1.0|\n",
            "|    1|[0.0,246401.0]|  [0.0,1.0]|       1.0|\n",
            "|    1|[0.0,246401.0]|  [0.0,1.0]|       1.0|\n",
            "|    1|[0.0,246401.0]|  [0.0,1.0]|       1.0|\n",
            "|    1|[0.0,246401.0]|  [0.0,1.0]|       1.0|\n",
            "|    1|[0.0,246401.0]|  [0.0,1.0]|       1.0|\n",
            "|    1|[0.0,246401.0]|  [0.0,1.0]|       1.0|\n",
            "|    1|[0.0,246401.0]|  [0.0,1.0]|       1.0|\n",
            "|    1|[0.0,246401.0]|  [0.0,1.0]|       1.0|\n",
            "|    1|[0.0,246401.0]|  [0.0,1.0]|       1.0|\n",
            "|    1|[0.0,246401.0]|  [0.0,1.0]|       1.0|\n",
            "|    1|[0.0,246401.0]|  [0.0,1.0]|       1.0|\n",
            "|    1|[0.0,246401.0]|  [0.0,1.0]|       1.0|\n",
            "|    1|[0.0,246401.0]|  [0.0,1.0]|       1.0|\n",
            "|    1|[0.0,246401.0]|  [0.0,1.0]|       1.0|\n",
            "|    1|[0.0,246401.0]|  [0.0,1.0]|       1.0|\n",
            "+-----+--------------+-----------+----------+\n",
            "only showing top 20 rows\n",
            "\n"
          ]
        }
      ]
    },
    {
      "cell_type": "code",
      "source": [
        "mult_eval =MulticlassClassificationEvaluator(labelCol=\"label\",metricName=\"accuracy\")\n",
        "\n",
        "dt_accuracy = mult_eval.evaluate(y_pred)\n",
        "\n",
        "print(\"Decision Tree Accuracy : \",dt_accuracy)"
      ],
      "metadata": {
        "colab": {
          "base_uri": "https://localhost:8080/"
        },
        "id": "lWWj6y_uv35N",
        "outputId": "39885513-b25f-4c50-ef1f-bd1ff0b30ecb"
      },
      "execution_count": null,
      "outputs": [
        {
          "output_type": "stream",
          "name": "stdout",
          "text": [
            "Decision Tree Accuracy :  0.9958293910158709\n"
          ]
        }
      ]
    },
    {
      "cell_type": "code",
      "source": [
        "from tabulate import tabulate\n",
        "\n",
        "# Sample accuracy scores for 4 models\n",
        "model_names = ['Logistic regression', 'Decision Tree']\n",
        "accuracy_scores = [0.83, 0.99]\n",
        "\n",
        "# Create a list of tuples for the data and sort in descending order based on accuracy scores\n",
        "data = sorted(list(zip(model_names, accuracy_scores)), key=lambda x: x[1], reverse=True)\n",
        "\n",
        "# Create the table using tabulate\n",
        "table = tabulate(data, headers=['Model', 'Accuracy Score'], tablefmt='fancy_grid')\n",
        "\n",
        "# Print the table\n",
        "print(table)"
      ],
      "metadata": {
        "colab": {
          "base_uri": "https://localhost:8080/"
        },
        "id": "fHzVdovWv_yX",
        "outputId": "a2bb86ae-0b93-4978-8f8f-e89c486df6fd"
      },
      "execution_count": null,
      "outputs": [
        {
          "output_type": "stream",
          "name": "stdout",
          "text": [
            "╒═════════════════════╤══════════════════╕\n",
            "│ Model               │   Accuracy Score │\n",
            "╞═════════════════════╪══════════════════╡\n",
            "│ Decision Tree       │             0.99 │\n",
            "├─────────────────────┼──────────────────┤\n",
            "│ Logistic regression │             0.83 │\n",
            "╘═════════════════════╧══════════════════╛\n"
          ]
        }
      ]
    },
    {
      "cell_type": "markdown",
      "source": [
        "INFERENCE : The DecisionTree model (99% accuracy) outperforms the logistic model (83% accuracy)in terms of accuracy, indicating that it may be a better choice for predicting the malicious url that identifies the potentially harmful URLs to users."
      ],
      "metadata": {
        "id": "wAnHSBZnHBCT"
      }
    }
  ],
  "metadata": {
    "colab": {
      "provenance": [],
      "include_colab_link": true
    },
    "kernelspec": {
      "display_name": "Python 3",
      "name": "python3"
    },
    "language_info": {
      "name": "python"
    }
  },
  "nbformat": 4,
  "nbformat_minor": 0
}